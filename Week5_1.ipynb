{
 "cells": [
  {
   "cell_type": "markdown",
   "id": "b39b24a2-1309-4d76-8579-8c92caefd2f6",
   "metadata": {},
   "source": [
    "# Week 5 (1) - 반복문 (1)\n",
    "### 인공지능과 컴퓨팅 사고 - AI Computational Thinking\n",
    "##### Author : Jihyeon Ryu\n",
    "##### Date : 2024-9-30 (Mon)"
   ]
  },
  {
   "cell_type": "markdown",
   "id": "8ae6f79c-6598-492c-bb19-c6118ca07348",
   "metadata": {},
   "source": [
    "## 추가 복습 문제 답안"
   ]
  },
  {
   "cell_type": "markdown",
   "id": "fb2e332c-8a64-42a7-ac2c-cd6e71cc41f9",
   "metadata": {},
   "source": [
    "(문제 9) 사용자에게 입력받은 값에 따라서 0 ~ 9까지의 값일 경우, \"숫자입니다.\" A ~ Z까지의 값일 경우, \"대문자입니다.\" 그리고 a~z까지의 값일 경우, \"소문자입니다.\" 라고 출력하는 프로그램을 작성하세요. "
   ]
  },
  {
   "cell_type": "code",
   "execution_count": null,
   "id": "e415e8ce-a836-4b27-bbb9-f4001f9a2f74",
   "metadata": {},
   "outputs": [],
   "source": [
    "inp = input(\"값을 입력하세요\")\n",
    "if inp>='0' and inp<='9':\n",
    "    print(\"숫자입니다.\")\n",
    "elif inp>='A' and inp<='Z':\n",
    "    print(\"대문자입니다.\")\n",
    "elif inp>='a' and inp<='z':\n",
    "    print(\"소문자입니다.\")\n",
    "else:\n",
    "    print(\"알수없는 기호입니다.\")"
   ]
  },
  {
   "cell_type": "markdown",
   "id": "57028659-5fe9-406b-9e33-66d74b41a278",
   "metadata": {},
   "source": [
    "(문제 10) 사용자에게 10진수 정수형의 값을 입력받고, 원하는 변수형을 함께 입력받아 (예: 2진수) 해당 값을 2진수, 8진수, 16진수로 변환하여 출력하는 프로그램을 작성하세요."
   ]
  },
  {
   "cell_type": "code",
   "execution_count": null,
   "id": "b8172986-7e50-4bd7-b9c9-8e37988b6d86",
   "metadata": {},
   "outputs": [],
   "source": [
    "inp = int(input(\"값을 입력하세요\"))\n",
    "inp2 = input(\"몇진수로 변환할까요? (2진수, 8진수, 16진수)\")\n",
    "if inp2 == \"2진수\":\n",
    "    a = str(bin(inp))\n",
    "elif inp2 == \"8진수\":\n",
    "    a = str(oct(inp))\n",
    "elif inp2 == \"16진수\":\n",
    "    a = str(hex(inp))\n",
    "else:\n",
    "    a = \"알 수 없는 진수형입니다.\"\n",
    "print(a)"
   ]
  },
  {
   "cell_type": "markdown",
   "id": "5a24598f-21a4-4eb1-b6dc-a29a3687b7c5",
   "metadata": {},
   "source": [
    "(문제 10-1) 위의 문제를 응용하여 사용자에게 번호를 입력받아 (1) left shift (2) right shift (3) 두 수의 비트 xor 연산 (4) 두 수의 비트 and 연산 (5) 두 수의 비트 or 연산을 취하는 프로그램을 작성하세요. 이때 각 두 수 (예: left shift의 경우 shift를 시킬 10진수 숫자와 몇 bit를 shift 시킬지) 를 입력받도록 설계하여 계산 결과를 2진수로 출력하는 프로그램을 작성하세요."
   ]
  },
  {
   "cell_type": "code",
   "execution_count": null,
   "id": "5cd64a79-664c-499a-97c2-5890b30c1074",
   "metadata": {},
   "outputs": [],
   "source": [
    "inp = input(\"(1) left shift (2) right shift (3) 두 수의 xor 연산 (4) 두 수의 and 연산 (5) 두 수의 or 연산\")\n",
    "if inp == '1':\n",
    "    inp2 = int(input(\"10진수 숫자 : \"))\n",
    "    inp3 = int(input(\"몇 bit shift?: \"))\n",
    "    b = str(bin(inp2 << inp3))\n",
    "elif inp == '2':\n",
    "    inp2 = int(input(\"10진수 숫자 : \"))\n",
    "    inp3 = int(input(\"몇 bit shift?: \"))\n",
    "    b = str(bin(inp2 >> inp3))\n",
    "elif inp == '3':\n",
    "    inp2 = int(input(\"10진수 숫자 1 : \"))\n",
    "    inp3 = int(input(\"10진수 숫자 2 : \"))\n",
    "    b = str(bin(inp2^inp3))\n",
    "elif inp == '4':\n",
    "    inp2 = int(input(\"10진수 숫자 1 : \"))\n",
    "    inp3 = int(input(\"10진수 숫자 2 : \"))\n",
    "    b = str(bin(inp2&inp3))\n",
    "elif inp == '5':\n",
    "    inp2 = int(input(\"10진수 숫자 1 : \"))\n",
    "    inp3 = int(input(\"10진수 숫자 2 : \"))\n",
    "    b = str(bin(inp2|inp3))\n",
    "else:\n",
    "    b = \"알 수 없는 입력입니다.\"\n",
    "print(b)"
   ]
  },
  {
   "cell_type": "markdown",
   "id": "e5930aaa-59a1-479e-a6d3-a88e8a079dec",
   "metadata": {},
   "source": [
    "(문제 10-2) 위의 문제를 응용하여 여태까지 출력한 모든 값들을 하나의 문자열로 만들어서 출력하는 프로그램을 작성하세요."
   ]
  },
  {
   "cell_type": "code",
   "execution_count": null,
   "id": "7e6ffe49-56c8-43cd-9df6-6cf0f5a443a9",
   "metadata": {},
   "outputs": [],
   "source": [
    "c = a+b\n",
    "print(c)"
   ]
  },
  {
   "cell_type": "code",
   "execution_count": null,
   "id": "f71e2e6b-7e47-445d-9c69-1760ffb2f336",
   "metadata": {},
   "outputs": [],
   "source": []
  },
  {
   "cell_type": "code",
   "execution_count": null,
   "id": "8db21a03-8ef9-4df5-979d-72c21643a69f",
   "metadata": {},
   "outputs": [],
   "source": []
  },
  {
   "cell_type": "markdown",
   "id": "a6ad4251-b9f9-4fed-8035-a5606f4d8869",
   "metadata": {},
   "source": [
    "# 1. for 문"
   ]
  },
  {
   "cell_type": "markdown",
   "id": "2ae3fff0-6000-4385-a8f8-bdc2a6f68a5b",
   "metadata": {},
   "source": [
    "for 반복문\n",
    "* 컬렉션 요소 순서대로 반복하면서 루프 명령 실행\n",
    "\n",
    "range 명령\n",
    "* 일정 범위 리스트 만들고 그 요소를 반복"
   ]
  },
  {
   "cell_type": "markdown",
   "id": "f764a2ad-0158-4d8d-bf32-2bd9eb8670cf",
   "metadata": {},
   "source": [
    "범위의 원칙\n",
    "* 컴퓨터에서 범위 설정할 때에는 끝 요소 제외하고 직전까지만 포함\n",
    "* range(1, 10) = 1에서 9까지의 범위\n",
    "* 범위 구간 나누어 반복 처리할 때의 편의 위함"
   ]
  },
  {
   "cell_type": "code",
   "execution_count": null,
   "id": "004d9861-8f34-4ab8-9bf0-a7070ca35e98",
   "metadata": {},
   "outputs": [],
   "source": [
    "for student in [1, 2, 3, 4, 5]:\n",
    "    print(student, \"번 학생의 성적을 처리한다.\")"
   ]
  },
  {
   "cell_type": "code",
   "execution_count": null,
   "id": "4a62ed50-08a4-4484-b782-f8e861f00ec9",
   "metadata": {},
   "outputs": [],
   "source": [
    "sum = 0\n",
    "for num in range(1, 101):\n",
    "    sum += num\n",
    "    print(num, end = ' ')\n",
    "print (\"sum =\",sum)"
   ]
  },
  {
   "cell_type": "code",
   "execution_count": null,
   "id": "60afd949-989d-4cf7-9d90-5d719d57342c",
   "metadata": {},
   "outputs": [],
   "source": [
    "sum = 0\n",
    "for num in range(2, 101, 2):\n",
    "    sum += num\n",
    "    print(num, end = ' ')\n",
    "print (\"sum =\",sum)"
   ]
  },
  {
   "cell_type": "code",
   "execution_count": null,
   "id": "239af301-86e6-434f-85ea-4549b1de30a6",
   "metadata": {},
   "outputs": [],
   "source": [
    "for x in range(1, 51):\n",
    "    if (x % 10 == 0):\n",
    "        print('+', end= '')\n",
    "    else:\n",
    "        print('-', end = '')"
   ]
  },
  {
   "cell_type": "code",
   "execution_count": null,
   "id": "8b149c48-9a94-4054-b6df-b083128327ca",
   "metadata": {},
   "outputs": [],
   "source": [
    "for x in range(1, 5):\n",
    "    print('-' * 9, end = '')\n",
    "    print('+', end = '') "
   ]
  },
  {
   "cell_type": "code",
   "execution_count": null,
   "id": "2950d35b-c8ba-430e-8832-76631b4ea2f4",
   "metadata": {},
   "outputs": [],
   "source": [
    "for x in range(1, 51):\n",
    "    if (x % 5 == 0):\n",
    "        print('+', end= '')\n",
    "    else:\n",
    "        print('-', end = '')"
   ]
  },
  {
   "cell_type": "code",
   "execution_count": null,
   "id": "9b1337c7-46c2-4caa-ae7b-abc7778f77cc",
   "metadata": {},
   "outputs": [],
   "source": [
    "for x in range(1, 51): ####for(i = 0;i<10;i++)\n",
    "    if (x % 10 == 5):\n",
    "        print('+', end= '')\n",
    "    else:\n",
    "        print('-', end = '')"
   ]
  },
  {
   "cell_type": "markdown",
   "id": "0288194e-478e-44df-bdbf-1e3dabf199d1",
   "metadata": {},
   "source": [
    "# 2. while 문"
   ]
  },
  {
   "cell_type": "markdown",
   "id": "93197683-cdf4-4625-a8d1-805244b54f0d",
   "metadata": {},
   "source": [
    "\n",
    "* 조건이 만족하는 동안 명령을 계속 실행\n",
    "* 루프 (Loop)\n",
    "* 반복적으로 처리하는 명령\n",
    "\n",
    "* 반복문은 코드 변경이 쉬움\n",
    "* 조건식이나 출력문 등 변경 통해 수정\n"
   ]
  },
  {
   "cell_type": "code",
   "execution_count": null,
   "id": "8b9d02b6-5782-43d1-a15e-41da97c9c84a",
   "metadata": {},
   "outputs": [],
   "source": [
    "student = 1\n",
    "while student <= 5: ###while(n<10){}\n",
    "    print(student, \"번 학생의 성적을 처리한다.\")\n",
    "    student += 1 ## 2, 3, 4, 5\n",
    "## student == 6:빠져나옴"
   ]
  },
  {
   "cell_type": "code",
   "execution_count": null,
   "id": "b7f79997-bf69-419e-84f2-ee3ae1e892a9",
   "metadata": {},
   "outputs": [],
   "source": [
    "x = 1 ####\n",
    "while x <= 50: ###\n",
    "    if (x % 10):\n",
    "        print('-', end= '')\n",
    "    else:\n",
    "        print('+', end = '')\n",
    "    x += 1 ###"
   ]
  },
  {
   "cell_type": "code",
   "execution_count": null,
   "id": "98e99fe2-aae4-420e-af3b-744b74d008f4",
   "metadata": {},
   "outputs": [],
   "source": [
    "for x in range(1, 51):\n",
    "    if (x % 10 == 0):\n",
    "        print('+', end= '')\n",
    "    else:\n",
    "        print('-', end = '')"
   ]
  },
  {
   "cell_type": "code",
   "execution_count": null,
   "id": "cf20dc59-71d4-4e88-8e10-af40d83257e0",
   "metadata": {},
   "outputs": [],
   "source": [
    "num = 1 #####\n",
    "sum = 0\n",
    "while num <= 100: ####\n",
    "    sum += num\n",
    "    num += 1 ####\n",
    "print (\"sum =\", sum)\n"
   ]
  },
  {
   "cell_type": "code",
   "execution_count": null,
   "id": "92b9efce-8ac5-490e-af4c-a8d810497967",
   "metadata": {},
   "outputs": [],
   "source": [
    "sum = 0\n",
    "for num in range(1, 101): #####\n",
    "    sum += num\n",
    "print (\"sum =\",sum)"
   ]
  },
  {
   "cell_type": "code",
   "execution_count": null,
   "id": "3788051f-306c-498b-9104-9e9436ab464f",
   "metadata": {},
   "outputs": [],
   "source": [
    "num = 151\n",
    "sum = 0\n",
    "while num <= 300:\n",
    "    sum += num\n",
    "    num += 2\n",
    "print (\"sum =\",sum)"
   ]
  },
  {
   "cell_type": "code",
   "execution_count": null,
   "id": "764bf0e6-8905-4c73-a564-a05052562928",
   "metadata": {},
   "outputs": [],
   "source": [
    "sum = 0\n",
    "for num in range(151, 301, 2): #####\n",
    "    sum += num\n",
    "print (\"sum =\",sum)"
   ]
  },
  {
   "cell_type": "markdown",
   "id": "f9ea35b8-d2cc-4fb9-9e20-c2f9dc0bfa5d",
   "metadata": {},
   "source": [
    "break\n",
    "* 반복문을 끝내는 명령\n",
    "* 특정한 조건에 따라 루프 끝내고 다음 명령으로 이동"
   ]
  },
  {
   "cell_type": "code",
   "execution_count": null,
   "id": "f601489d-e243-4cf4-82a7-672d68d17e93",
   "metadata": {},
   "outputs": [],
   "source": [
    "score = [ 92, 86, -1, 10, 56]\n",
    "for s in score:\n",
    "    if (s < 0 or s > 100):\n",
    "        break\n",
    "    print(s)\n",
    "print(\"성적 처리 끝\")"
   ]
  },
  {
   "cell_type": "markdown",
   "id": "45448bf4-ddb5-437d-b15d-7642ac218345",
   "metadata": {},
   "source": [
    "continue\n",
    "* 현재 루프만 건너뛰고 나머지는 계속 반복 수행하는 명령\n",
    "* 현재 반복을 중지하고 루프 선두의 조건 점검한 후 반복 재개"
   ]
  },
  {
   "cell_type": "code",
   "execution_count": null,
   "id": "7a14cd02-817e-4f68-ba6b-30ff42890286",
   "metadata": {},
   "outputs": [],
   "source": [
    "score = [ 92, 86, 68, -1, 56]\n",
    "for s in score:\n",
    "    if (s == -1):\n",
    "        continue\n",
    "    print(s)\n",
    "print(\"성적 처리 끝\")"
   ]
  },
  {
   "cell_type": "markdown",
   "id": "65e44751-9b89-45b7-a579-205d4b191a70",
   "metadata": {},
   "source": [
    "이중 루프\n",
    "* 루프 안 명령 자리에 또다른 루프가 들어가 중첩된 것"
   ]
  },
  {
   "cell_type": "code",
   "execution_count": null,
   "id": "61635aa6-6db9-44c3-9e1e-df66368b6345",
   "metadata": {},
   "outputs": [],
   "source": [
    "for dan in range(2, 10):  ###dan = 2, 3, 4, ... 9\n",
    "    print(dan, \"단\")\n",
    "    for hang in range(2, 10):   ###dan = 2 : hang = 2, 3, 4, ..., 9 / dan = 3 : hang = 2, ..., 9\n",
    "        print(dan, \"*\", hang, \"=\", dan * hang)\n",
    "    print()\n"
   ]
  },
  {
   "cell_type": "code",
   "execution_count": null,
   "id": "6399f39c-27c1-4ff7-ada9-83e43d7e0ea4",
   "metadata": {},
   "outputs": [],
   "source": [
    "dan = 2  ###초깃값\n",
    "while dan <= 9: ##조건\n",
    "    hang = 2  ###초깃값\n",
    "    print(dan, \"단\")\n",
    "    while hang <= 9: ##조건\n",
    "        print(dan, \"*\", hang, \"=\", dan * hang)\n",
    "        hang += 1##증가\n",
    "    dan += 1 ##증가\n",
    "    print()"
   ]
  },
  {
   "cell_type": "code",
   "execution_count": null,
   "id": "cfafb995-4258-449b-a670-13205c5beae3",
   "metadata": {},
   "outputs": [],
   "source": [
    "for dan in range(2, 10):  ###dan = 2, 3, 4, ... 9\n",
    "    print(dan, \"단\")\n",
    "    for hang in range(2, 10):   ###dan = 2 : hang = 2, 3, 4, ..., 9 / dan = 3 : hang = 2, ..., 9\n",
    "        print(dan, \"*\", hang, \"=\", dan * hang)\n",
    "    print()\n"
   ]
  },
  {
   "cell_type": "code",
   "execution_count": null,
   "id": "091094f3-b0d2-4592-b8e3-5e2369b297eb",
   "metadata": {},
   "outputs": [],
   "source": [
    "for ten in range(0, 5) : ### 0, 1, ..., 4\n",
    "    for num in range(ten * 10, ten * 10 + 9) : ## 0: (0, 10), 1: (10, 20), 2: (20, 30), 3: (30, 40) :30...39, 4: (40, 50) :40...49\n",
    "        print(num, end = ', ')\n",
    "    print(ten*10+9)\n"
   ]
  },
  {
   "cell_type": "code",
   "execution_count": null,
   "id": "7c357313-24d1-42fd-bf6a-879bc86aa114",
   "metadata": {},
   "outputs": [],
   "source": [
    "for y in range(1, 10) : ###y = 1,...,9\n",
    "    for x in range(y) : ###x = 0,...,y-1 (y = 9, 0...8)\n",
    "        print(\"*\", end = '')\n",
    "    print()"
   ]
  },
  {
   "cell_type": "markdown",
   "id": "d94830b5-514d-4b1c-a211-6c8d61aff1f0",
   "metadata": {},
   "source": [
    "# 3. 연습"
   ]
  },
  {
   "cell_type": "markdown",
   "id": "23d4fb59-e897-4a44-8744-a484049bd7a4",
   "metadata": {},
   "source": [
    "for 반복문을 사용하여 사용자가 입력한 숫자의 팩토리얼 값을 계산하세요. 팩토리얼은 다음과 같이 구성됩니다."
   ]
  },
  {
   "cell_type": "markdown",
   "id": "e48a8e1a-b536-4d16-8d4e-361b9248c4a4",
   "metadata": {},
   "source": [
    "$N! = N \\cdot N-1 \\cdot N-2 \\cdot ... \\cdot 2 \\cdot 1$, 단 $N$은 자연수"
   ]
  },
  {
   "cell_type": "markdown",
   "id": "bf00043e-b9ff-4d93-80ff-25a2ccc2d76c",
   "metadata": {},
   "source": [
    "#### 출력 예: "
   ]
  },
  {
   "cell_type": "markdown",
   "id": "cb129fbc-74a2-4488-b7e2-445eb4e16716",
   "metadata": {},
   "source": [
    "N을 입력하세요: (입력)  \n",
    "() 팩토리얼은 ()입니다."
   ]
  },
  {
   "cell_type": "markdown",
   "id": "04236210-cfa0-4e87-b02a-40d97bba5c20",
   "metadata": {},
   "source": [
    "N을 입력하세요: 5  \n",
    "5 팩토리얼은 120입니다."
   ]
  },
  {
   "cell_type": "code",
   "execution_count": null,
   "id": "c8ab21ef-e9a2-436e-b65e-1f2506f12541",
   "metadata": {},
   "outputs": [],
   "source": []
  }
 ],
 "metadata": {
  "kernelspec": {
   "display_name": "Python 3 (ipykernel)",
   "language": "python",
   "name": "python3"
  },
  "language_info": {
   "codemirror_mode": {
    "name": "ipython",
    "version": 3
   },
   "file_extension": ".py",
   "mimetype": "text/x-python",
   "name": "python",
   "nbconvert_exporter": "python",
   "pygments_lexer": "ipython3",
   "version": "3.11.5"
  }
 },
 "nbformat": 4,
 "nbformat_minor": 5
}
