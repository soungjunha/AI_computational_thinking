{
 "cells": [
  {
   "cell_type": "markdown",
   "id": "b39b24a2-1309-4d76-8579-8c92caefd2f6",
   "metadata": {},
   "source": [
    "# Week 3 (1) - 연산자\n",
    "### 인공지능과 컴퓨팅 사고 - AI Computational Thinking\n",
    "##### Author : Jihyeon Ryu\n",
    "##### Date : 2024-9-16 (Mon)"
   ]
  },
  {
   "cell_type": "markdown",
   "id": "4e37399d-8c70-41e0-abd3-e9d7d7dc1646",
   "metadata": {},
   "source": [
    "# 0. 복습\n",
    "# 0.1. 자료형\n",
    "# 0.1.1. 정수형"
   ]
  },
  {
   "cell_type": "markdown",
   "id": "c353826f-f3bc-469c-8a30-582a89b70814",
   "metadata": {},
   "source": [
    "\n",
    "* 가장 간단한 수치형\n",
    "* 소수점 이하 값은 표현할 수 없음\n",
    "* 10진수 아닌 정수는 앞에 접두 붙여 진법 지정, 표시"
   ]
  },
  {
   "cell_type": "code",
   "execution_count": null,
   "id": "3d20145e-bf86-48ad-8174-4ef821855257",
   "metadata": {},
   "outputs": [],
   "source": [
    "a = 12345\n",
    "print(a)"
   ]
  },
  {
   "cell_type": "markdown",
   "id": "cfbaba19-1c81-42e1-b108-3f3e6528c102",
   "metadata": {},
   "source": [
    "진법, 접두, 사용가능 숫자, 예\n",
    "\n",
    "16진법(hex), 0x, 0123...9,abc...f, 0x2f\n",
    "\n",
    "8진법(oct), 0o, 012...7, 0o17\n",
    "\n",
    "2진법(bin), 0b, 0,1, 0b1101"
   ]
  },
  {
   "cell_type": "code",
   "execution_count": null,
   "id": "89c63641-8821-45d3-a30a-4164ba800ac2",
   "metadata": {},
   "outputs": [],
   "source": [
    "a = 0x100\n",
    "print(a)"
   ]
  },
  {
   "cell_type": "code",
   "execution_count": null,
   "id": "3b025a9b-314f-4638-add2-1698c6a9eb0c",
   "metadata": {},
   "outputs": [],
   "source": [
    "a = 0o100\n",
    "print(a)"
   ]
  },
  {
   "cell_type": "code",
   "execution_count": null,
   "id": "5c304a39-9242-4f10-aca0-f8f3a44f3ba0",
   "metadata": {},
   "outputs": [],
   "source": [
    "a = 0b100\n",
    "print(a)"
   ]
  },
  {
   "cell_type": "code",
   "execution_count": null,
   "id": "834b9cd3-4c8d-45ee-ad8f-a3c4adf4297d",
   "metadata": {},
   "outputs": [],
   "source": [
    "print(hex(26))\n",
    "print(oct(26))\n",
    "print(bin(13))"
   ]
  },
  {
   "cell_type": "markdown",
   "id": "82f4fe84-6abc-4d9f-b752-54b0c1e6f83a",
   "metadata": {},
   "source": [
    "## 0.1.2. 실수형"
   ]
  },
  {
   "cell_type": "markdown",
   "id": "b0237d55-8c15-4a25-a8d0-fe2099d4b1e0",
   "metadata": {},
   "source": [
    "\n",
    "* 소수점 이하 정밀한 값 표현\n",
    "* 아주 크거나 작은 값은 부동 소수점 방식으로 표기\n",
    "* 가수E지수\n",
    "* 9조 4600억 = 9.46e12\n",
    "* 숫자 짧아지고 비교에도 용이함"
   ]
  },
  {
   "cell_type": "code",
   "execution_count": null,
   "id": "34574f40-574b-4c11-beca-9a7dc241df52",
   "metadata": {},
   "outputs": [],
   "source": [
    "print(9.46e12)"
   ]
  },
  {
   "cell_type": "code",
   "execution_count": null,
   "id": "05ffed54-9ffd-49cb-bffb-86ed3d5fde5e",
   "metadata": {},
   "outputs": [],
   "source": [
    "print(1e10)"
   ]
  },
  {
   "cell_type": "code",
   "execution_count": null,
   "id": "22062a75-8d45-4647-b632-6c42b6181d25",
   "metadata": {},
   "outputs": [],
   "source": [
    "a = 1e10\n",
    "print(a)"
   ]
  },
  {
   "cell_type": "markdown",
   "id": "8bdc7c14-3519-4fdf-a200-0b92afa337a7",
   "metadata": {},
   "source": [
    "## 0.1.3. 복소수형"
   ]
  },
  {
   "cell_type": "markdown",
   "id": "d52aa711-af13-4bba-8e79-9206f4b259f3",
   "metadata": {},
   "source": [
    "\n",
    "* 실수부+허수부j\n",
    "* 알파벳 j 접미가 복소수임을 나타냄"
   ]
  },
  {
   "cell_type": "code",
   "execution_count": null,
   "id": "7338fc7a-d899-406f-be6f-a2cd643a3131",
   "metadata": {},
   "outputs": [],
   "source": [
    "print(1+2j)"
   ]
  },
  {
   "cell_type": "code",
   "execution_count": null,
   "id": "aef6a33b-f85b-40ee-be26-56cc24552a30",
   "metadata": {},
   "outputs": [],
   "source": [
    "print(3, 1+2j)"
   ]
  },
  {
   "cell_type": "code",
   "execution_count": null,
   "id": "b22842ca-7e99-4c05-b387-d67e9f426e98",
   "metadata": {},
   "outputs": [],
   "source": [
    "a = 1 + 2j\n",
    "b = 2 + 3j\n",
    "print(a+b)"
   ]
  },
  {
   "cell_type": "markdown",
   "id": "37caa35c-2470-4381-b580-c762b17a0bc2",
   "metadata": {},
   "source": [
    "## 0.1.4. 문자열"
   ]
  },
  {
   "cell_type": "markdown",
   "id": "8320f989-0274-48bf-898b-e4604fc31d74",
   "metadata": {},
   "source": [
    "\n",
    "* 일련의 문자를 따옴표로 감싸 나열한 것\n",
    "* 각종 문자, 기호, 숫자 등 포함 가능\n",
    "* 따옴표는 따옴표 안에 적을 수 없음\n",
    "* 큰따옴표 포함하려면 문자열을 작은따옴표로 감싸야함.\n",
    "* 한 문자열에 두 따옴표 섞어 사용할 수 없음\n"
   ]
  },
  {
   "cell_type": "code",
   "execution_count": null,
   "id": "a41b52a0-d04e-46c5-a64a-df8dfc4febbc",
   "metadata": {},
   "outputs": [],
   "source": [
    "a = \"Korea 서울 1234\"\n",
    "print(a)"
   ]
  },
  {
   "cell_type": "code",
   "execution_count": null,
   "id": "9a8384b1-fa6b-4f79-bad6-035a631a9f1c",
   "metadata": {},
   "outputs": [],
   "source": [
    "b = 'I say \"help\" to you'\n",
    "print(b)"
   ]
  },
  {
   "cell_type": "code",
   "execution_count": null,
   "id": "d9c2e3eb-0bb5-4300-92ea-70388c007d22",
   "metadata": {},
   "outputs": [],
   "source": []
  },
  {
   "cell_type": "markdown",
   "id": "577d366e-45c0-4b0f-b0c1-8aa26cb60479",
   "metadata": {},
   "source": [
    "## 0.1.5. 확장열 (Escape Sequence)\n",
    "\n",
    "* 문자열에서 특수한 역할을 하는 특수 문자열\n",
    "* 따옴표 안에 오기 힘든 다양한 문자들을 \\ 문자 뒤에 표기\n",
    "* \\n : 개행\n",
    "* \\t : 탭\n",
    "* \\\" : 큰따옴표\n",
    "* \\' : 작은따옴표\n",
    "* \\\\ : \\ 문자"
   ]
  },
  {
   "cell_type": "code",
   "execution_count": null,
   "id": "0c63f243-644d-4619-a455-03a5fef64c69",
   "metadata": {},
   "outputs": [],
   "source": [
    "a = \"all\\nmy\\nfriend\"\n",
    "print(a)"
   ]
  },
  {
   "cell_type": "code",
   "execution_count": null,
   "id": "3d001fa7-300b-4331-b603-49d717106d73",
   "metadata": {},
   "outputs": [],
   "source": [
    "s = \"\"\"강나루 건너서 밀밭 길을 구름에 달 가듯이 가는 나그네\n",
    "길은 외줄기 남도 삼백리 술 익는 마을마다 타는 저녁놀\n",
    "구름에 달 가듯이 가는 나그네\"\"\"\n",
    "print(s)"
   ]
  },
  {
   "cell_type": "code",
   "execution_count": null,
   "id": "f00759e7-dc36-4e59-9f83-85c9f2ff3d42",
   "metadata": {},
   "outputs": [],
   "source": [
    "s = \"강나루 건너서 밀밭 길을 구름에 달 가듯이 가는 나그네 \\\n",
    "길은 외줄기 남도 삼백리 술 익는 마을마다 타는 저녁놀 \\\n",
    "구름에 달 가듯이 가는 나그네\"\n",
    "print(s)"
   ]
  },
  {
   "cell_type": "code",
   "execution_count": null,
   "id": "29f75be6-2ee0-436a-abd6-190adaf33a28",
   "metadata": {},
   "outputs": [],
   "source": [
    "totalsec = 365 * 24 * \\\n",
    "           60 * 60\n",
    "print(totalsec)"
   ]
  },
  {
   "cell_type": "code",
   "execution_count": null,
   "id": "ba044005-00cb-4e5c-9700-5c6205e11a8b",
   "metadata": {},
   "outputs": [],
   "source": [
    "s = \"korea\" \"japan\" \"2002\"\n",
    "print(s)"
   ]
  },
  {
   "cell_type": "code",
   "execution_count": null,
   "id": "9b1fbcf8-a1db-451b-b845-585e1ecd162b",
   "metadata": {},
   "outputs": [],
   "source": [
    "s = (\"korea\"\n",
    "     \"japan\"\n",
    "     \"2002\")\n",
    "print(s)"
   ]
  },
  {
   "cell_type": "markdown",
   "id": "7b987483-0ed5-4091-82a2-b1c8ea35c14d",
   "metadata": {},
   "source": [
    "*  ord(문자) :하나의 문자를 인자로 받고 해당 문자에 해당하는 유니코드 정수를 반환\n",
    "* ord('a')를 넣으면 정수 97을 반환합니다.\n",
    "* chr(정수) : 하나의 정수를 인자로 받고 해당 정수에 해당하는 유니코드 문자를 반환\n",
    "* 인자(정수)의 유효 범위는 0 ~ 1,114,111 (16진수 0x10 FFFF)까지 입니다.\n",
    "* chr(97)을 하면 문자 'a'를 반환합니다."
   ]
  },
  {
   "cell_type": "code",
   "execution_count": null,
   "id": "50cd04e1-868d-4e5e-a837-92eca4730c67",
   "metadata": {},
   "outputs": [],
   "source": [
    "print(ord('a'))\n",
    "print(chr(98))\n",
    "for c in range(ord('A'), ord('Z') + 1):\n",
    "    print(chr(c), end = '')"
   ]
  },
  {
   "cell_type": "markdown",
   "id": "86c5b17d-9c58-4e35-9bf8-72ee1e5d7907",
   "metadata": {},
   "source": [
    "# 0.2. 연습 답안"
   ]
  },
  {
   "cell_type": "markdown",
   "id": "31399fde-3990-448b-8d8e-1a05f5ce823f",
   "metadata": {},
   "source": [
    "오늘은 여러가지 자료형들에 대해 배웠습니다.\n",
    "\n",
    "오늘 배운 것들을 이용해서 다음의 연습문제를 구성해봅시다.\n",
    "\n",
    "연습문제 : 다음 나와있는 변수를 활용하여, print 함수를 하나만 사용해서 다음 문자열이 나오는 코드를 만드세요.\n",
    "\n",
    "문자열 : \n",
    "\n",
    "\" + 강아지 + \\ + ' + 고양이 + \\ + ' + 닭 + 염소 + 호랑이 + \"\r\n"
   ]
  },
  {
   "cell_type": "code",
   "execution_count": null,
   "id": "73fdaeb4-0d40-4f0d-bed9-ed8ac2a94d0c",
   "metadata": {},
   "outputs": [],
   "source": [
    "a = \"강아지\"\n",
    "b = \"고양이\"\n",
    "c = \"닭\"\n",
    "d = \"염소\"\n",
    "e = \"호랑이\"\n",
    "print(\"\\\"\",a,\"\\\\\",\"\\'\",b,\"\\\\\",\"\\'\",c,d,e,\"\\\"\",sep = ' + ')"
   ]
  },
  {
   "cell_type": "markdown",
   "id": "7a5218fa-6297-43e7-a496-0b92320476c1",
   "metadata": {},
   "source": [
    "# 0.2.1. 연습 2\n",
    "연습문제 2 : 숫자 257을 16진수, 8진수로 얼만지 확인하는 코드를 작성하세요. 해당 값을 확인하면 이를 역으로 257를 반환하는 코드를 작성하세요."
   ]
  },
  {
   "cell_type": "code",
   "execution_count": null,
   "id": "818ae5c8-74d5-4d46-abb9-9f68a950a9e1",
   "metadata": {},
   "outputs": [],
   "source": [
    "print(hex(257), oct(257))"
   ]
  },
  {
   "cell_type": "code",
   "execution_count": null,
   "id": "1bbfac0d-2490-470c-ae62-925d02993203",
   "metadata": {},
   "outputs": [],
   "source": [
    "print(0x101, 0o401)"
   ]
  },
  {
   "cell_type": "markdown",
   "id": "4aba9851-8504-4080-8b2d-64f65a64c244",
   "metadata": {},
   "source": [
    "# 1. 연산자\n"
   ]
  },
  {
   "cell_type": "markdown",
   "id": "ff26cfba-bd18-48a2-93a6-947221a33cbc",
   "metadata": {},
   "source": [
    "## 1.1. 대입 연산자\n",
    "* 변수에 값을 저장하는 연산자\n",
    "* 변수 = 수식\t\n",
    "* 대입되는 값에 따라 변수 타입이 결정됨"
   ]
  },
  {
   "cell_type": "code",
   "execution_count": null,
   "id": "b2ac7afb-846d-42e3-828c-ddcdb67a8be0",
   "metadata": {},
   "outputs": [],
   "source": [
    "a = 10\n",
    "b = 15.5\n",
    "c = 'character'\n",
    "print(a,b,c)\n",
    "print(type(a), type(b), type(c))"
   ]
  },
  {
   "cell_type": "code",
   "execution_count": null,
   "id": "aa318691-c613-4f21-b5b9-074c57c16a14",
   "metadata": {},
   "outputs": [],
   "source": [
    "a = c"
   ]
  },
  {
   "cell_type": "code",
   "execution_count": null,
   "id": "158efa63-f7d9-4f8a-9c01-66e0a5a82f2b",
   "metadata": {},
   "outputs": [],
   "source": [
    "print(a, c)"
   ]
  },
  {
   "cell_type": "code",
   "execution_count": null,
   "id": "7e26bab7-e757-4695-9086-b410591b2de6",
   "metadata": {},
   "outputs": [],
   "source": [
    "a = a + b ## error"
   ]
  },
  {
   "cell_type": "code",
   "execution_count": null,
   "id": "2f2864ed-0e05-4ace-965d-2db7f973c46d",
   "metadata": {},
   "outputs": [],
   "source": [
    "print(type(a), type(b), type(c))"
   ]
  },
  {
   "cell_type": "code",
   "execution_count": null,
   "id": "9a043680-0d36-4a89-85bf-2ce83016e3cc",
   "metadata": {},
   "outputs": [],
   "source": [
    "d = 'c'\n",
    "print(d, type(d))"
   ]
  },
  {
   "cell_type": "code",
   "execution_count": null,
   "id": "98f26365-10fa-432a-87ba-cea5b7d2bf77",
   "metadata": {},
   "outputs": [],
   "source": [
    "print(type(1+2j), type([1,2,3,4]), type((1,2,3,4)), type(True))"
   ]
  },
  {
   "cell_type": "markdown",
   "id": "44b45480-7974-4152-b8e6-d78d91cefc9d",
   "metadata": {},
   "source": [
    "## 1.2. 산술 연산자"
   ]
  },
  {
   "cell_type": "markdown",
   "id": "2aa60705-173b-4a05-a695-960cb4ad4fe2",
   "metadata": {},
   "source": [
    "* 덧셈 : +\n",
    "* 뺄셈 : -\n",
    "* 곱셈 : *\n",
    "* 나눗셈 : /\n",
    "* 거듭제곱 : **\n",
    "* 정수나누기 : //\n",
    "* 나머지 : %"
   ]
  },
  {
   "cell_type": "code",
   "execution_count": null,
   "id": "654bbf8c-c6e5-4cad-b8fd-216b7d614956",
   "metadata": {},
   "outputs": [],
   "source": [
    "print(5/2, 5//2)"
   ]
  },
  {
   "cell_type": "code",
   "execution_count": null,
   "id": "314d1b05-16f3-4473-92c4-f78029521d4c",
   "metadata": {},
   "outputs": [],
   "source": [
    "print(2*5, 2**5)"
   ]
  },
  {
   "cell_type": "markdown",
   "id": "c4125bf8-5a98-49b8-8f55-79cafae58292",
   "metadata": {},
   "source": [
    "## 1.3. 논리 연산자\n",
    "\n",
    "* A and B : A와 B 둘다 True 일 때\n",
    "* A or B : A 또는 B가 True 일 때\n",
    "* not A : 반대논리"
   ]
  },
  {
   "cell_type": "code",
   "execution_count": null,
   "id": "4d5c6c18-a34b-4784-bca0-73b804fbafb8",
   "metadata": {},
   "outputs": [],
   "source": [
    "a = True\n",
    "b = False\n",
    "print(a and b, a or b, not a, not b)"
   ]
  },
  {
   "cell_type": "markdown",
   "id": "ba70b1db-8d3b-4150-b246-085887acde50",
   "metadata": {},
   "source": [
    "## 1.4. 비트 연산자"
   ]
  },
  {
   "cell_type": "markdown",
   "id": "6fdcc130-8883-4aac-833b-3159838a7c1c",
   "metadata": {},
   "source": [
    "* and : &\n",
    "* or : |\n",
    "* xor : ^\n",
    "* not : ~\n",
    "* left shift : <<\n",
    "* right shift : >>"
   ]
  },
  {
   "cell_type": "code",
   "execution_count": null,
   "id": "e8fa0468-eea7-4d9d-aeda-d8391e2bf09a",
   "metadata": {},
   "outputs": [],
   "source": [
    "a = 0b00001111\n",
    "b = 0b10101010\n",
    "print(bin(a), bin(b)) ## 0000 생략\n",
    "print(oct(a), oct(b)) ## 0000 생략\n",
    "print(hex(a), hex(b)) ## 0000 생략\n",
    "print(a, b)"
   ]
  },
  {
   "cell_type": "code",
   "execution_count": null,
   "id": "a197f747-cffa-493e-9d7c-72d8cac98844",
   "metadata": {},
   "outputs": [],
   "source": [
    "print(bin(a&b), bin(a|b), bin(a^b), bin(~a), bin(~b), bin(a<<2), bin(b<<2), bin(a>>2), bin(b>>2))"
   ]
  },
  {
   "cell_type": "code",
   "execution_count": null,
   "id": "0bc3f7f8-3fe8-44cf-ac4a-6325a5deaae2",
   "metadata": {},
   "outputs": [],
   "source": [
    "print(a&b, a|b, a^b, ~a, ~b, a<<2, b<<2, a>>2, b>>2)"
   ]
  },
  {
   "cell_type": "markdown",
   "id": "79d6845a-58c8-4042-a1e1-08b31b56f2e8",
   "metadata": {},
   "source": [
    "## 1.5. 복합 대입 연산자\n",
    "* a = a + 1꼴과 같이, 우변의 값이나 수식을 좌변에 대입\n",
    "* += : 좌변의 값에 우변의 값을 더하여 대입\n",
    "* -= : 좌변의 값에 우변의 값을 빼서 대입\n",
    "* *= : 좌변의 값에 우변의 값을 곱해서 대입"
   ]
  },
  {
   "cell_type": "code",
   "execution_count": null,
   "id": "f3cbe7a3-fb17-4cf2-b572-dadf4907ed29",
   "metadata": {},
   "outputs": [],
   "source": [
    "x = 10\n",
    "print(x)"
   ]
  },
  {
   "cell_type": "code",
   "execution_count": null,
   "id": "77cac236-aba0-4f9b-be0f-849c0b18b357",
   "metadata": {},
   "outputs": [],
   "source": [
    "x = x + 1\n",
    "print(x)"
   ]
  },
  {
   "cell_type": "code",
   "execution_count": null,
   "id": "b5d42052-916f-45c7-b0c8-83d44084e5c3",
   "metadata": {},
   "outputs": [],
   "source": [
    "x++ ## error\n",
    "print(x)\n",
    "x-- ## error\n",
    "print(x)"
   ]
  },
  {
   "cell_type": "code",
   "execution_count": null,
   "id": "ebb49ede-bb5b-4e50-9a7c-7053499d08e6",
   "metadata": {},
   "outputs": [],
   "source": [
    "x += 2\n",
    "print(x)"
   ]
  },
  {
   "cell_type": "code",
   "execution_count": null,
   "id": "74fd3a63-635d-4f52-8dfe-e60376181641",
   "metadata": {},
   "outputs": [],
   "source": [
    "x -= 10\n",
    "print(x)"
   ]
  },
  {
   "cell_type": "code",
   "execution_count": null,
   "id": "00f9d0ae-f564-4586-a998-ebc855c13a89",
   "metadata": {},
   "outputs": [],
   "source": [
    "x *= 4\n",
    "print(x)"
   ]
  },
  {
   "cell_type": "markdown",
   "id": "790fd1cf-9765-468e-888a-e7b331ab62b2",
   "metadata": {},
   "source": [
    "## 1.6. 문자열 연산\n",
    "* \\+ 와 * 연산자는 문자열에 대해서도 사용 가능\n",
    "* \\+ : 문자열을 연결\n",
    "* \\* : 문자열을 정수 횟수만큼 반복\n",
    "* 단, 정수형이나 실수형 등을 문자열로 변환하고 싶을 때, str() 형변환을 사용해야함\n",
    "* 마찬가지로 문자열을 정수형이나 실수형 등으로 변환하고 싶을 때, int(), float() 형변환을 사용해야함"
   ]
  },
  {
   "cell_type": "code",
   "execution_count": null,
   "id": "f6c3c28d-9710-4278-af13-f6d4f665b01a",
   "metadata": {},
   "outputs": [],
   "source": [
    "s1 = \"대한민국\"\n",
    "s2 = \"만세\"\n",
    "print(s1 + s2)"
   ]
  },
  {
   "cell_type": "code",
   "execution_count": null,
   "id": "2ca902ee-fac7-47ba-b6a5-108f45a32d19",
   "metadata": {},
   "outputs": [],
   "source": [
    "print(\"좋아!\" * 5)"
   ]
  },
  {
   "cell_type": "code",
   "execution_count": null,
   "id": "86e1bd9d-e9fb-4f6a-8ffb-15c0f80fe1a1",
   "metadata": {},
   "outputs": [],
   "source": [
    "print(\"korea\" + 2023)"
   ]
  },
  {
   "cell_type": "code",
   "execution_count": null,
   "id": "9429accc-9bd5-40cf-830f-635656af7189",
   "metadata": {},
   "outputs": [],
   "source": [
    "print(\"korea\" + str(2023))"
   ]
  },
  {
   "cell_type": "code",
   "execution_count": null,
   "id": "117017a6-9715-4a07-a2fa-9c784ddcff3a",
   "metadata": {},
   "outputs": [],
   "source": [
    "print(\"korea\" + \"2023\")"
   ]
  },
  {
   "cell_type": "code",
   "execution_count": null,
   "id": "30af962b-1006-4a31-8141-8214e392b728",
   "metadata": {},
   "outputs": [],
   "source": [
    "print(\"1234\" + 123)"
   ]
  },
  {
   "cell_type": "code",
   "execution_count": null,
   "id": "cad6e71d-265f-4271-a92c-5b0f06b4b4da",
   "metadata": {},
   "outputs": [],
   "source": [
    "print(int(\"1234\") + 123)"
   ]
  },
  {
   "cell_type": "markdown",
   "id": "3fece8dc-9fba-4ad4-b935-223faac4d834",
   "metadata": {},
   "source": [
    "## 1.7. round 함수 : 반올림 함수"
   ]
  },
  {
   "cell_type": "code",
   "execution_count": null,
   "id": "59f0997b-a48e-4b39-8f32-f0a74bfadb04",
   "metadata": {},
   "outputs": [],
   "source": [
    "print(int(2.54))\t\t\t# 2\n",
    "print(round(2.54))\t\t# 3\n",
    "print(round(2.54, 1))\t\t# 2.5\n",
    "print(round(123456, -3))\t\t# 123000"
   ]
  },
  {
   "cell_type": "markdown",
   "id": "ac0b10fa-5196-4186-aa94-b1ca70e6952d",
   "metadata": {},
   "source": [
    "# 2. 연습\n",
    "오늘은 여러가지 연산자에 대해 배웠습니다.\n",
    "\n",
    "오늘 배운 것들을 이용해서 다음의 연습문제를 구성해봅시다.\n",
    "\n",
    "연습문제 : c언어, python, 수학 점수를 입력받아 세 점수의 평균을 소수점 두번째 자리까지 출력하는 코드를 작성하세요.\n",
    "\n",
    "예상 결과 :\n",
    "\n",
    "C언어 점수를 입력하세요:  50\n",
    "\n",
    "python 점수를 입력하세요:  70\n",
    "\n",
    "수학 점수를 입력하세요:  80\n",
    "\n",
    "C언어 점수: 50\n",
    "\n",
    "python 점수: 70\n",
    "\n",
    "수학 점수: 80\n",
    "\n",
    "평균 점수: 66.67"
   ]
  },
  {
   "cell_type": "code",
   "execution_count": null,
   "id": "6fd79bc6-ff04-4a13-9646-3ebc09fefb21",
   "metadata": {},
   "outputs": [],
   "source": []
  },
  {
   "cell_type": "code",
   "execution_count": null,
   "id": "1abd48dd-d0ac-483f-b17f-763f2ef19055",
   "metadata": {},
   "outputs": [],
   "source": []
  }
 ],
 "metadata": {
  "kernelspec": {
   "display_name": "Python 3 (ipykernel)",
   "language": "python",
   "name": "python3"
  },
  "language_info": {
   "codemirror_mode": {
    "name": "ipython",
    "version": 3
   },
   "file_extension": ".py",
   "mimetype": "text/x-python",
   "name": "python",
   "nbconvert_exporter": "python",
   "pygments_lexer": "ipython3",
   "version": "3.11.5"
  }
 },
 "nbformat": 4,
 "nbformat_minor": 5
}
