{
 "cells": [
  {
   "cell_type": "markdown",
   "id": "b39b24a2-1309-4d76-8579-8c92caefd2f6",
   "metadata": {},
   "source": [
    "# Week 3 (2) - 조건문 (1)\n",
    "### 인공지능과 컴퓨팅 사고 - AI Computational Thinking\n",
    "##### Author : Jihyeon Ryu\n",
    "##### Date : 2024-9-18 (Wed)"
   ]
  },
  {
   "cell_type": "markdown",
   "id": "4aba9851-8504-4080-8b2d-64f65a64c244",
   "metadata": {},
   "source": [
    "# 0. 복습\n",
    "# 0.1. 연산자\n"
   ]
  },
  {
   "cell_type": "markdown",
   "id": "ff26cfba-bd18-48a2-93a6-947221a33cbc",
   "metadata": {},
   "source": [
    "## 0.1.1. 대입 연산자\n",
    "* 변수에 값을 저장하는 연산자\n",
    "* 변수 = 수식\t\n",
    "* 대입되는 값에 따라 변수 타입이 결정됨"
   ]
  },
  {
   "cell_type": "code",
   "execution_count": null,
   "id": "b2ac7afb-846d-42e3-828c-ddcdb67a8be0",
   "metadata": {},
   "outputs": [],
   "source": [
    "a = 10\n",
    "b = 15.5\n",
    "c = 'character'\n",
    "print(a,b,c)\n",
    "print(type(a), type(b), type(c))"
   ]
  },
  {
   "cell_type": "code",
   "execution_count": null,
   "id": "aa318691-c613-4f21-b5b9-074c57c16a14",
   "metadata": {},
   "outputs": [],
   "source": [
    "a = c"
   ]
  },
  {
   "cell_type": "code",
   "execution_count": null,
   "id": "158efa63-f7d9-4f8a-9c01-66e0a5a82f2b",
   "metadata": {},
   "outputs": [],
   "source": [
    "print(a, c)"
   ]
  },
  {
   "cell_type": "code",
   "execution_count": null,
   "id": "7e26bab7-e757-4695-9086-b410591b2de6",
   "metadata": {},
   "outputs": [],
   "source": [
    "a = a + b ## error"
   ]
  },
  {
   "cell_type": "code",
   "execution_count": null,
   "id": "2f2864ed-0e05-4ace-965d-2db7f973c46d",
   "metadata": {},
   "outputs": [],
   "source": [
    "print(type(a), type(b), type(c))"
   ]
  },
  {
   "cell_type": "code",
   "execution_count": null,
   "id": "9a043680-0d36-4a89-85bf-2ce83016e3cc",
   "metadata": {},
   "outputs": [],
   "source": [
    "d = 'c'\n",
    "print(d, type(d))"
   ]
  },
  {
   "cell_type": "code",
   "execution_count": null,
   "id": "98f26365-10fa-432a-87ba-cea5b7d2bf77",
   "metadata": {},
   "outputs": [],
   "source": [
    "print(type(1+2j), type([1,2,3,4]), type((1,2,3,4)), type(True))"
   ]
  },
  {
   "cell_type": "markdown",
   "id": "44b45480-7974-4152-b8e6-d78d91cefc9d",
   "metadata": {},
   "source": [
    "## 0.1.2. 산술 연산자"
   ]
  },
  {
   "cell_type": "markdown",
   "id": "2aa60705-173b-4a05-a695-960cb4ad4fe2",
   "metadata": {},
   "source": [
    "* 덧셈 : +\n",
    "* 뺄셈 : -\n",
    "* 곱셈 : *\n",
    "* 나눗셈 : /\n",
    "* 거듭제곱 : **\n",
    "* 정수나누기 : //\n",
    "* 나머지 : %"
   ]
  },
  {
   "cell_type": "code",
   "execution_count": null,
   "id": "654bbf8c-c6e5-4cad-b8fd-216b7d614956",
   "metadata": {},
   "outputs": [],
   "source": [
    "print(5/2, 5//2)"
   ]
  },
  {
   "cell_type": "code",
   "execution_count": null,
   "id": "314d1b05-16f3-4473-92c4-f78029521d4c",
   "metadata": {},
   "outputs": [],
   "source": [
    "print(2*5, 2**5)"
   ]
  },
  {
   "cell_type": "markdown",
   "id": "c4125bf8-5a98-49b8-8f55-79cafae58292",
   "metadata": {},
   "source": [
    "## 0.1.3. 논리 연산자\n",
    "\n",
    "* A and B : A와 B 둘다 True 일 때\n",
    "* A or B : A 또는 B가 True 일 때\n",
    "* not A : 반대논리"
   ]
  },
  {
   "cell_type": "code",
   "execution_count": null,
   "id": "4d5c6c18-a34b-4784-bca0-73b804fbafb8",
   "metadata": {},
   "outputs": [],
   "source": [
    "a = True\n",
    "b = False\n",
    "print(a and b, a or b, not a, not b)"
   ]
  },
  {
   "cell_type": "markdown",
   "id": "ba70b1db-8d3b-4150-b246-085887acde50",
   "metadata": {},
   "source": [
    "## 0.1.4. 비트 연산자"
   ]
  },
  {
   "cell_type": "markdown",
   "id": "6fdcc130-8883-4aac-833b-3159838a7c1c",
   "metadata": {},
   "source": [
    "* and : &\n",
    "* or : |\n",
    "* xor : ^\n",
    "* not : ~\n",
    "* left shift : <<\n",
    "* right shift : >>"
   ]
  },
  {
   "cell_type": "code",
   "execution_count": null,
   "id": "e8fa0468-eea7-4d9d-aeda-d8391e2bf09a",
   "metadata": {},
   "outputs": [],
   "source": [
    "a = 0b00001111\n",
    "b = 0b10101010\n",
    "print(bin(a), bin(b)) ## 0000 생략\n",
    "print(oct(a), oct(b)) ## 0000 생략\n",
    "print(hex(a), hex(b)) ## 0000 생략\n",
    "print(a, b)"
   ]
  },
  {
   "cell_type": "code",
   "execution_count": null,
   "id": "a197f747-cffa-493e-9d7c-72d8cac98844",
   "metadata": {},
   "outputs": [],
   "source": [
    "print(bin(a&b), bin(a|b), bin(a^b), bin(~a), bin(~b), bin(a<<2), bin(b<<2), bin(a>>2), bin(b>>2))"
   ]
  },
  {
   "cell_type": "code",
   "execution_count": null,
   "id": "0bc3f7f8-3fe8-44cf-ac4a-6325a5deaae2",
   "metadata": {},
   "outputs": [],
   "source": [
    "print(a&b, a|b, a^b, ~a, ~b, a<<2, b<<2, a>>2, b>>2)"
   ]
  },
  {
   "cell_type": "markdown",
   "id": "79d6845a-58c8-4042-a1e1-08b31b56f2e8",
   "metadata": {},
   "source": [
    "## 0.1.5. 복합 대입 연산자\n",
    "* a = a + 1꼴과 같이, 우변의 값이나 수식을 좌변에 대입\n",
    "* += : 좌변의 값에 우변의 값을 더하여 대입\n",
    "* -= : 좌변의 값에 우변의 값을 빼서 대입\n",
    "* *= : 좌변의 값에 우변의 값을 곱해서 대입"
   ]
  },
  {
   "cell_type": "code",
   "execution_count": null,
   "id": "f3cbe7a3-fb17-4cf2-b572-dadf4907ed29",
   "metadata": {},
   "outputs": [],
   "source": [
    "x = 10\n",
    "print(x)"
   ]
  },
  {
   "cell_type": "code",
   "execution_count": null,
   "id": "77cac236-aba0-4f9b-be0f-849c0b18b357",
   "metadata": {},
   "outputs": [],
   "source": [
    "x = x + 1\n",
    "print(x)"
   ]
  },
  {
   "cell_type": "code",
   "execution_count": null,
   "id": "b5d42052-916f-45c7-b0c8-83d44084e5c3",
   "metadata": {},
   "outputs": [],
   "source": [
    "x++ ## error\n",
    "print(x)\n",
    "x-- ## error\n",
    "print(x)"
   ]
  },
  {
   "cell_type": "code",
   "execution_count": null,
   "id": "ebb49ede-bb5b-4e50-9a7c-7053499d08e6",
   "metadata": {},
   "outputs": [],
   "source": [
    "x += 2\n",
    "print(x)"
   ]
  },
  {
   "cell_type": "code",
   "execution_count": null,
   "id": "74fd3a63-635d-4f52-8dfe-e60376181641",
   "metadata": {},
   "outputs": [],
   "source": [
    "x -= 10\n",
    "print(x)"
   ]
  },
  {
   "cell_type": "code",
   "execution_count": null,
   "id": "00f9d0ae-f564-4586-a998-ebc855c13a89",
   "metadata": {},
   "outputs": [],
   "source": [
    "x *= 4\n",
    "print(x)"
   ]
  },
  {
   "cell_type": "markdown",
   "id": "790fd1cf-9765-468e-888a-e7b331ab62b2",
   "metadata": {},
   "source": [
    "## 0.1.6. 문자열 연산\n",
    "* \\+ 와 * 연산자는 문자열에 대해서도 사용 가능\n",
    "* \\+ : 문자열을 연결\n",
    "* \\* : 문자열을 정수 횟수만큼 반복\n",
    "* 단, 정수형이나 실수형 등을 문자열로 변환하고 싶을 때, str() 형변환을 사용해야함\n",
    "* 마찬가지로 문자열을 정수형이나 실수형 등으로 변환하고 싶을 때, int(), float() 형변환을 사용해야함"
   ]
  },
  {
   "cell_type": "code",
   "execution_count": null,
   "id": "f6c3c28d-9710-4278-af13-f6d4f665b01a",
   "metadata": {},
   "outputs": [],
   "source": [
    "s1 = \"대한민국\"\n",
    "s2 = \"만세\"\n",
    "print(s1 + s2)"
   ]
  },
  {
   "cell_type": "code",
   "execution_count": null,
   "id": "2ca902ee-fac7-47ba-b6a5-108f45a32d19",
   "metadata": {},
   "outputs": [],
   "source": [
    "print(\"좋아!\" * 5)"
   ]
  },
  {
   "cell_type": "code",
   "execution_count": null,
   "id": "86e1bd9d-e9fb-4f6a-8ffb-15c0f80fe1a1",
   "metadata": {},
   "outputs": [],
   "source": [
    "print(\"korea\" + 2023)"
   ]
  },
  {
   "cell_type": "code",
   "execution_count": null,
   "id": "9429accc-9bd5-40cf-830f-635656af7189",
   "metadata": {},
   "outputs": [],
   "source": [
    "print(\"korea\" + str(2023))"
   ]
  },
  {
   "cell_type": "code",
   "execution_count": null,
   "id": "117017a6-9715-4a07-a2fa-9c784ddcff3a",
   "metadata": {},
   "outputs": [],
   "source": [
    "print(\"korea\" + \"2023\")"
   ]
  },
  {
   "cell_type": "code",
   "execution_count": null,
   "id": "30af962b-1006-4a31-8141-8214e392b728",
   "metadata": {},
   "outputs": [],
   "source": [
    "print(\"1234\" + 123)"
   ]
  },
  {
   "cell_type": "code",
   "execution_count": null,
   "id": "cad6e71d-265f-4271-a92c-5b0f06b4b4da",
   "metadata": {},
   "outputs": [],
   "source": [
    "print(int(\"1234\") + 123)"
   ]
  },
  {
   "cell_type": "markdown",
   "id": "3fece8dc-9fba-4ad4-b935-223faac4d834",
   "metadata": {},
   "source": [
    "## 0.1.7. round 함수 : 반올림 함수"
   ]
  },
  {
   "cell_type": "code",
   "execution_count": null,
   "id": "59f0997b-a48e-4b39-8f32-f0a74bfadb04",
   "metadata": {},
   "outputs": [],
   "source": [
    "print(int(2.54))\t\t\t# 2\n",
    "print(round(2.54))\t\t# 3\n",
    "print(round(2.54, 1))\t\t# 2.5\n",
    "print(round(123456, -3))\t\t# 123000"
   ]
  },
  {
   "cell_type": "markdown",
   "id": "ac0b10fa-5196-4186-aa94-b1ca70e6952d",
   "metadata": {},
   "source": [
    "# 0.2. 연습 답안\n",
    "오늘은 여러가지 연산자에 대해 배웠습니다.\n",
    "\n",
    "오늘 배운 것들을 이용해서 다음의 연습문제를 구성해봅시다.\n",
    "\n",
    "연습문제 : c언어, python, 수학 점수를 입력받아 세 점수의 평균을 소수점 두번째 자리까지 입력받은 코드를 작성하세요.\n",
    "\n",
    "예상 결과 :\n",
    "\n",
    "C언어 점수를 입력하세요:  50\n",
    "\n",
    "python 점수를 입력하세요:  70\n",
    "\n",
    "수학 점수를 입력하세요:  80\n",
    "\n",
    "C언어 점수: 50\n",
    "\n",
    "python 점수: 70\n",
    "\n",
    "수학 점수: 80\n",
    "\n",
    "평균 점수: 66.67"
   ]
  },
  {
   "cell_type": "code",
   "execution_count": null,
   "id": "6fd79bc6-ff04-4a13-9646-3ebc09fefb21",
   "metadata": {},
   "outputs": [],
   "source": [
    "Clang = input('C언어 점수를 입력하세요: ')\n",
    "python = input('python 점수를 입력하세요: ')\n",
    "math = input('수학 점수를 입력하세요: ')\n",
    "\n",
    "print('C언어 점수:', Clang) \n",
    "print('python 점수:', python)\n",
    "print('수학 점수:', math) \n",
    "\n",
    "Clang = int(Clang)\n",
    "python = int(python)\n",
    "math = int(math)\n",
    "average = (Clang + python + math) /3 \n",
    "print('평균 점수:', round(average, 2))"
   ]
  },
  {
   "cell_type": "code",
   "execution_count": null,
   "id": "cb430f63-1457-460a-a039-a2ff4d9d613d",
   "metadata": {},
   "outputs": [],
   "source": [
    "Clang = int(input('C언어 점수를 입력하세요: '))\n",
    "python = int(input('python 점수를 입력하세요: '))\n",
    "math = int(input('수학 점수를 입력하세요: '))\n",
    "\n",
    "print('C언어 점수:', Clang) \n",
    "print('python 점수:', python)\n",
    "print('수학 점수:', math) \n",
    "\n",
    "average = (Clang + python + math) /3 \n",
    "print('평균 점수:', round(average, 2))"
   ]
  },
  {
   "cell_type": "code",
   "execution_count": null,
   "id": "174cc4e0-4c97-4d00-befd-29dd377ff024",
   "metadata": {},
   "outputs": [],
   "source": [
    "Clang = input('C언어 점수를 입력하세요: ')\n",
    "python = input('python 점수를 입력하세요: ')\n",
    "math = input('수학 점수를 입력하세요: ')\n",
    "\n",
    "print('C언어 점수:', Clang) \n",
    "print('python 점수:', python)\n",
    "print('수학 점수:', math) \n",
    "\n",
    "average = (int(Clang) + int(python) + int(math)) /3 \n",
    "print('평균 점수:', round(average, 2))"
   ]
  },
  {
   "cell_type": "markdown",
   "id": "0240a0b5-81cd-4ff4-83b8-7ce23c02418b",
   "metadata": {},
   "source": [
    "# 1. 조건문 (1)"
   ]
  },
  {
   "cell_type": "markdown",
   "id": "ce8c8c88-0afe-4512-8d17-61b8745cb2b0",
   "metadata": {},
   "source": [
    "if문\n",
    "* 조건문 : 조건의 진위 여부에 따라 명령 실행 여부 결정\n",
    "* if 키워드로 조건문 작성\n",
    "* 해당 조건이 참일 때만 명령이 실행\n",
    "* 해당 조건이 거짓인 경우 무시하고 지나침\n",
    "* 형식 규칙 지켜야 함"
   ]
  },
  {
   "cell_type": "code",
   "execution_count": null,
   "id": "a08632a0-a157-417a-b890-93831df1fcab",
   "metadata": {},
   "outputs": [],
   "source": [
    "if (조건)\n",
    "{\n",
    "    조건이 참일 경우 실행;\n",
    "    조건이 참일 경우 실행;\n",
    "}"
   ]
  },
  {
   "cell_type": "code",
   "execution_count": null,
   "id": "070684aa-1b38-4530-8fc6-b5e25395951e",
   "metadata": {},
   "outputs": [],
   "source": [
    "age = int(input(\"너 몇살이니? \"))\n",
    "if age < 19:\n",
    "    print(\"애들은 가라\")"
   ]
  },
  {
   "cell_type": "markdown",
   "id": "6e160a72-95eb-4c94-a4ae-d26c9f4cb62a",
   "metadata": {},
   "source": [
    "비교 연산자\n",
    "* 두 값의 상등 여부나 대소관계 비교하여 참, 거짓 반환\n",
    "* if문이 이 평가 결과에 따라 명령 실행 여부 결정"
   ]
  },
  {
   "cell_type": "code",
   "execution_count": null,
   "id": "a555cb8a-bde4-4d74-9a57-b1b43e8a31a5",
   "metadata": {},
   "outputs": [],
   "source": [
    "a = 7\n",
    "if a == 3:\n",
    "    print(\"3이다\")\n",
    "if a > 5:\n",
    "    print(\"5보다 크다\")\n",
    "if a < 5:\n",
    "    print(\"5보다 작다\")"
   ]
  },
  {
   "cell_type": "code",
   "execution_count": null,
   "id": "75c019c2-b774-42e6-aed9-bd82ed7dda72",
   "metadata": {},
   "outputs": [],
   "source": [
    "country = \"korea\"\n",
    "if country == \"Korea\":\n",
    "    print(\"한국입니다.\")\n",
    "if country == \"korea\":\n",
    "    print(\"대한민국입니다.\")"
   ]
  },
  {
   "cell_type": "markdown",
   "id": "5bbe12ca-b082-4b7f-b097-6aefb48ac6a0",
   "metadata": {},
   "source": [
    "* == : 같다\n",
    "  \n",
    "      *** = : 오른쪽에 있는 걸 왼쪽에 대입한다!\n",
    "  \n",
    "* != : 다르다\n",
    "* < : 오른쪽이 더 크다\n",
    "* \\> : 왼쪽이 더 크다\n",
    "* <= : 오른쪽이 더 크거나 같다\n",
    "* \\>= : 왼쪽이 더 크거나 같다"
   ]
  },
  {
   "cell_type": "code",
   "execution_count": null,
   "id": "be36a3cd-309b-4ef3-b29e-5ee966e93b7e",
   "metadata": {},
   "outputs": [],
   "source": [
    "ord('k')"
   ]
  },
  {
   "cell_type": "code",
   "execution_count": null,
   "id": "2b4aaffb-1b90-4df9-899e-a74550021c4b",
   "metadata": {},
   "outputs": [],
   "source": [
    "ord('j')"
   ]
  },
  {
   "cell_type": "code",
   "execution_count": null,
   "id": "b1bddd35-e34a-4511-8515-65985956aad7",
   "metadata": {},
   "outputs": [],
   "source": [
    "ord('c')"
   ]
  },
  {
   "cell_type": "code",
   "execution_count": null,
   "id": "3709b1d8-e0ee-49aa-a574-a2b6cba86889",
   "metadata": {},
   "outputs": [],
   "source": [
    "ord('C')"
   ]
  },
  {
   "cell_type": "code",
   "execution_count": null,
   "id": "e5c281f7-8601-4152-9806-01f5b4c5bbdf",
   "metadata": {},
   "outputs": [],
   "source": [
    "if (\"corea\" > \"japan\"):\n",
    "    print(\"한국이 더 크다\")\n",
    "if (\"corea\" < \"japan\"):\n",
    "    print(\"일본이 더 크다\")"
   ]
  },
  {
   "cell_type": "markdown",
   "id": "ca0ce918-dfc7-4269-b69b-ad10cec85036",
   "metadata": {},
   "source": [
    "조건문에 비교연산식 대신 변수 바로 쓸 수도 있음"
   ]
  },
  {
   "cell_type": "code",
   "execution_count": null,
   "id": "a35d173b-814b-472f-84be-660813e608a0",
   "metadata": {},
   "outputs": [],
   "source": [
    "energy = -1  ## 0일 경우만 거짓!\n",
    "if energy == 1:\n",
    "    print(\"열심히 싸운다\")"
   ]
  },
  {
   "cell_type": "markdown",
   "id": "9575a30e-2016-4ee7-ac61-7faba2bc695d",
   "metadata": {},
   "source": [
    "논리 연산자\n",
    "* 두 개 이상의 조건을 한꺼번에 점검하는 경우"
   ]
  },
  {
   "cell_type": "code",
   "execution_count": null,
   "id": "d77eca02-e2d3-48b6-bc7b-63dbaf11a069",
   "metadata": {},
   "outputs": [],
   "source": [
    "and / or / not"
   ]
  },
  {
   "cell_type": "code",
   "execution_count": null,
   "id": "4590a31b-f20a-42c9-ad04-396474aa9863",
   "metadata": {},
   "outputs": [],
   "source": [
    "a = 10\n",
    "if a > 1 and a < 10:\n",
    "    print(\"OK\")"
   ]
  },
  {
   "cell_type": "code",
   "execution_count": null,
   "id": "eb148148-ed11-42ad-9e34-e562e149b4a7",
   "metadata": {},
   "outputs": [],
   "source": [
    "age = 18\n",
    "if age < 19:\n",
    "    print(\"애들은 가라\")\n",
    "    print(\"공부 열심히 해야지\")"
   ]
  },
  {
   "cell_type": "code",
   "execution_count": null,
   "id": "3c3bfcf3-3e7d-48bc-a858-674aa60219c5",
   "metadata": {},
   "outputs": [],
   "source": [
    "age = 20\n",
    "if age < 19:\n",
    "    print(\"애들은 가라\")\n",
    "print(\"공부 열심히 해야지\")"
   ]
  },
  {
   "cell_type": "markdown",
   "id": "83d55e88-3f13-4aaa-be91-ae175d355248",
   "metadata": {},
   "source": [
    "else문\n",
    "* 조건 진위에 따라 실행할 명령을 선택\n",
    "* 각 자리에 2개 이상의 명령 넣을 수 있음\n",
    "* 같이 실행할 명령은 들여쓰기 맞추어 블록 구성하여야 함"
   ]
  },
  {
   "cell_type": "code",
   "execution_count": null,
   "id": "38d49d72-f8d2-4832-b9c7-366955947541",
   "metadata": {},
   "outputs": [],
   "source": [
    "age = 18\n",
    "if age < 19:\n",
    "    print(\"애들은 가라\")\n",
    "else:\n",
    "    print(\"어서 옵쇼\")"
   ]
  },
  {
   "cell_type": "markdown",
   "id": "e6d11d76-8690-4c87-8f5c-166806ca222b",
   "metadata": {},
   "source": [
    "블록 구조\n",
    "* 블록 : 한꺼번에 실행되는 명령 묶음 {}: c언어에서 사용하는 부분!!!\n",
    "* 여러 명령이 하나의 조건에 함께 영향을 받음\n",
    "* 들여쓰기 틀려서 블록 구조 맞지 않으면 일부만 조건에 걸림"
   ]
  },
  {
   "cell_type": "code",
   "execution_count": null,
   "id": "e819244a-7648-48bc-b9a8-9992b73cb882",
   "metadata": {},
   "outputs": [],
   "source": [
    "age = 20\n",
    "if age < 19:\n",
    "    print(\"애들은 가라\")\n",
    "    print(\"공부 열심히 해야지\")\n",
    "else:\n",
    "    print(\"어서 옵쇼\")\n",
    "    print(\"즐거운 시간 되세요\")"
   ]
  },
  {
   "cell_type": "code",
   "execution_count": null,
   "id": "57752922-d779-4c6e-8ad1-a6ce9cac9886",
   "metadata": {},
   "outputs": [],
   "source": [
    "age = 20\n",
    "if age < 19:\n",
    "    print(\"애들은 가라\")\n",
    "    print(\"공부 열심히 해야지\")\n",
    "else:\n",
    "    print(\"어서 옵쇼\")\n",
    "print(\"즐거운 시간 되세요\")"
   ]
  },
  {
   "cell_type": "markdown",
   "id": "c47515e6-d96d-412a-bb5f-b95ed6ac2a5a",
   "metadata": {},
   "source": [
    "elif문\n",
    "* else if\n",
    "* if else 문에서 조건 만족하지 않을 때 세부 조건을 추가 점검\n",
    "* 살펴봐야 할 조건에 따라 얼마든지 elif문 넣을 수 있음\n",
    "* elif문 수 늘려 많은 조건 점검할 수 있음"
   ]
  },
  {
   "cell_type": "code",
   "execution_count": null,
   "id": "6fb7a025-52e2-4950-adc9-2e99e72b4366",
   "metadata": {},
   "outputs": [],
   "source": [
    "money = 6500\n",
    "if money >= 20000:\n",
    "    print(\"탕수육을 먹는다\")\n",
    "else:\n",
    "    if money >= 10000:\n",
    "        ~~~"
   ]
  },
  {
   "cell_type": "code",
   "execution_count": null,
   "id": "65d573e8-1ab6-483f-98e7-1d787a768ed0",
   "metadata": {},
   "outputs": [],
   "source": [
    "money = 8000\n",
    "if money >= 20000:\n",
    "    print(\"탕수육을 먹는다\")\n",
    "elif money >= 10000:\n",
    "    print(\"쟁반 짜장을 먹는다\")\n",
    "elif money >= 6000:\n",
    "    print(\"짬뽕을 먹는다\")\n",
    "elif money >= 4000:\n",
    "    print(\"짜장면을 먹는다\")\n",
    "else:\n",
    "    print(\"단무지를 먹는다\")"
   ]
  },
  {
   "cell_type": "code",
   "execution_count": null,
   "id": "4653edd8-129e-4d14-aa18-f21d5e04b31b",
   "metadata": {},
   "outputs": [],
   "source": [
    "man = True\n",
    "age = 10\n",
    "if man == True:\n",
    "    if age >= 19:\n",
    "        print(\"성인 남자입니다.\")"
   ]
  },
  {
   "cell_type": "code",
   "execution_count": null,
   "id": "fd407086-ba3a-45bc-9250-a90f38ec1954",
   "metadata": {},
   "outputs": [],
   "source": [
    "man = True\n",
    "age = 19\n",
    "if man == True:\n",
    "    if age >= 19:\n",
    "        print(\"성인 남자입니다.\")\n",
    "    else:\n",
    "        print(\"소년입니다.\")"
   ]
  },
  {
   "cell_type": "code",
   "execution_count": null,
   "id": "1d601649-2871-496d-839d-c1db6c0eac99",
   "metadata": {},
   "outputs": [],
   "source": [
    "man = False\n",
    "age = 10\n",
    "if man == True:\n",
    "    if age >= 19:\n",
    "        print(\"성인 남자입니다.\")\n",
    "    else:\n",
    "        print(\"소년입니다.\")\n",
    "else:\n",
    "    if age >= 19:\n",
    "        print(\"성인 여자입니다.\")\n",
    "    else:\n",
    "        print(\"소녀입니다.\")"
   ]
  },
  {
   "cell_type": "code",
   "execution_count": null,
   "id": "dda1865a-45c1-4ef6-9d2a-43440ad78423",
   "metadata": {},
   "outputs": [],
   "source": []
  }
 ],
 "metadata": {
  "kernelspec": {
   "display_name": "Python 3 (ipykernel)",
   "language": "python",
   "name": "python3"
  },
  "language_info": {
   "codemirror_mode": {
    "name": "ipython",
    "version": 3
   },
   "file_extension": ".py",
   "mimetype": "text/x-python",
   "name": "python",
   "nbconvert_exporter": "python",
   "pygments_lexer": "ipython3",
   "version": "3.11.5"
  }
 },
 "nbformat": 4,
 "nbformat_minor": 5
}
