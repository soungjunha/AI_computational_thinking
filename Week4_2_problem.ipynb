{
 "cells": [
  {
   "cell_type": "markdown",
   "id": "b39b24a2-1309-4d76-8579-8c92caefd2f6",
   "metadata": {},
   "source": [
    "# Week 4 (2) - 조건문 (3)\n",
    "### 인공지능과 컴퓨팅 사고 - AI Computational Thinking\n",
    "##### Author : Jihyeon Ryu\n",
    "##### Date : 2024-9-25 (Wed)"
   ]
  },
  {
   "cell_type": "markdown",
   "id": "0240a0b5-81cd-4ff4-83b8-7ce23c02418b",
   "metadata": {},
   "source": [
    "# 0. 복습\n",
    "## 0.1. 조건문 (1)"
   ]
  },
  {
   "cell_type": "markdown",
   "id": "ce8c8c88-0afe-4512-8d17-61b8745cb2b0",
   "metadata": {},
   "source": [
    "if문\n",
    "* 조건문 : 조건의 진위 여부에 따라 명령 실행 여부 결정\n",
    "* if 키워드로 조건문 작성\n",
    "* 해당 조건이 참일 때만 명령이 실행\n",
    "* 해당 조건이 거짓인 경우 무시하고 지나침\n",
    "* 형식 규칙 지켜야 함"
   ]
  },
  {
   "cell_type": "code",
   "execution_count": null,
   "id": "070684aa-1b38-4530-8fc6-b5e25395951e",
   "metadata": {},
   "outputs": [],
   "source": [
    "age = int(input(\"너 몇살이니? \"))\n",
    "if age < 19:\n",
    "    print(\"애들은 가라\")"
   ]
  },
  {
   "cell_type": "markdown",
   "id": "6e160a72-95eb-4c94-a4ae-d26c9f4cb62a",
   "metadata": {},
   "source": [
    "비교 연산자\n",
    "* 두 값의 상등 여부나 대소관계 비교하여 참, 거짓 반환\n",
    "* if문이 이 평가 결과에 따라 명령 실행 여부 결정"
   ]
  },
  {
   "cell_type": "code",
   "execution_count": null,
   "id": "a555cb8a-bde4-4d74-9a57-b1b43e8a31a5",
   "metadata": {},
   "outputs": [],
   "source": [
    "a = 5\n",
    "if a == 3:\n",
    "    print(\"3이다\")\n",
    "if a > 5:\n",
    "    print(\"5보다 크다\")\n",
    "if a < 5:\n",
    "    print(\"5보다 작다\")"
   ]
  },
  {
   "cell_type": "code",
   "execution_count": null,
   "id": "75c019c2-b774-42e6-aed9-bd82ed7dda72",
   "metadata": {},
   "outputs": [],
   "source": [
    "country = \"Korea\"\n",
    "if country == \"Korea\":\n",
    "    print(\"한국입니다.\")\n",
    "if country == \"korea\":\n",
    "    print(\"대한민국입니다.\")"
   ]
  },
  {
   "cell_type": "markdown",
   "id": "5bbe12ca-b082-4b7f-b097-6aefb48ac6a0",
   "metadata": {},
   "source": [
    "* == : 같다\n",
    "  \n",
    "      *** = : 오른쪽에 있는 걸 왼쪽에 대입한다!\n",
    "  \n",
    "* != : 다르다\n",
    "* < : 오른쪽이 더 크다\n",
    "* \\> : 왼쪽이 더 크다\n",
    "* <= : 오른쪽이 더 크거나 같다\n",
    "* \\>= : 왼쪽이 더 크거나 같다"
   ]
  },
  {
   "cell_type": "code",
   "execution_count": null,
   "id": "e5c281f7-8601-4152-9806-01f5b4c5bbdf",
   "metadata": {},
   "outputs": [],
   "source": [
    "if (\"korea\" > \"japan\"):\n",
    "    print(\"한국이 더 크다\")\n",
    "if (\"korea\" < \"japan\"):\n",
    "    print(\"일본이 더 크다\")"
   ]
  },
  {
   "cell_type": "markdown",
   "id": "ca0ce918-dfc7-4269-b69b-ad10cec85036",
   "metadata": {},
   "source": [
    "조건문에 비교연산식 대신 변수 바로 쓸 수도 있음"
   ]
  },
  {
   "cell_type": "code",
   "execution_count": null,
   "id": "a35d173b-814b-472f-84be-660813e608a0",
   "metadata": {},
   "outputs": [],
   "source": [
    "energy = 0\n",
    "if energy:\n",
    "    print(\"열심히 싸운다\")"
   ]
  },
  {
   "cell_type": "markdown",
   "id": "9575a30e-2016-4ee7-ac61-7faba2bc695d",
   "metadata": {},
   "source": [
    "논리 연산자\n",
    "* 두 개 이상의 조건을 한꺼번에 점검하는 경우"
   ]
  },
  {
   "cell_type": "code",
   "execution_count": null,
   "id": "d77eca02-e2d3-48b6-bc7b-63dbaf11a069",
   "metadata": {},
   "outputs": [],
   "source": [
    "and / or / not"
   ]
  },
  {
   "cell_type": "code",
   "execution_count": null,
   "id": "4590a31b-f20a-42c9-ad04-396474aa9863",
   "metadata": {},
   "outputs": [],
   "source": [
    "a = 3\n",
    "if a > 1 and a < 10:\n",
    "    print(\"OK\")"
   ]
  },
  {
   "cell_type": "code",
   "execution_count": null,
   "id": "eb148148-ed11-42ad-9e34-e562e149b4a7",
   "metadata": {},
   "outputs": [],
   "source": [
    "age = 20\n",
    "if age < 19:\n",
    "    print(\"애들은 가라\")\n",
    "    print(\"공부 열심히 해야지\")"
   ]
  },
  {
   "cell_type": "code",
   "execution_count": null,
   "id": "3c3bfcf3-3e7d-48bc-a858-674aa60219c5",
   "metadata": {},
   "outputs": [],
   "source": [
    "age = 18\n",
    "if age < 19:\n",
    "    print(\"애들은 가라\")\n",
    "print(\"공부 열심히 해야지\")"
   ]
  },
  {
   "cell_type": "markdown",
   "id": "83d55e88-3f13-4aaa-be91-ae175d355248",
   "metadata": {},
   "source": [
    "else문\n",
    "* 조건 진위에 따라 실행할 명령을 선택\n",
    "* 각 자리에 2개 이상의 명령 넣을 수 있음\n",
    "* 같이 실행할 명령은 들여쓰기 맞추어 블록 구성하여야 함"
   ]
  },
  {
   "cell_type": "code",
   "execution_count": null,
   "id": "38d49d72-f8d2-4832-b9c7-366955947541",
   "metadata": {},
   "outputs": [],
   "source": [
    "age = 18\n",
    "if age < 19:\n",
    "    print(\"애들은 가라\")\n",
    "else:\n",
    "    print(\"어서 옵쇼\")"
   ]
  },
  {
   "cell_type": "markdown",
   "id": "e6d11d76-8690-4c87-8f5c-166806ca222b",
   "metadata": {},
   "source": [
    "블록 구조\n",
    "* 블록 : 한꺼번에 실행되는 명령 묶음 {}\n",
    "* 여러 명령이 하나의 조건에 함께 영향을 받음\n",
    "* 들여쓰기 틀려서 블록 구조 맞지 않으면 일부만 조건에 걸림"
   ]
  },
  {
   "cell_type": "code",
   "execution_count": null,
   "id": "e819244a-7648-48bc-b9a8-9992b73cb882",
   "metadata": {},
   "outputs": [],
   "source": [
    "age = 18\n",
    "if age < 19:\n",
    "    print(\"애들은 가라\")\n",
    "    print(\"공부 열심히 해야지\")\n",
    "else:\n",
    "    print(\"어서 옵쇼\")\n",
    "    print(\"즐거운 시간 되세요\")"
   ]
  },
  {
   "cell_type": "code",
   "execution_count": null,
   "id": "57752922-d779-4c6e-8ad1-a6ce9cac9886",
   "metadata": {},
   "outputs": [],
   "source": [
    "age = 20\n",
    "if age < 19:\n",
    "    print(\"애들은 가라\")\n",
    "    print(\"공부 열심히 해야지\")\n",
    "else:\n",
    "    print(\"어서 옵쇼\")\n",
    "print(\"즐거운 시간 되세요\")"
   ]
  },
  {
   "cell_type": "markdown",
   "id": "c47515e6-d96d-412a-bb5f-b95ed6ac2a5a",
   "metadata": {},
   "source": [
    "elif문\n",
    "* else if\n",
    "* if else 문에서 조건 만족하지 않을 때 세부 조건을 추가 점검\n",
    "* 살펴봐야 할 조건에 따라 얼마든지 elif문 넣을 수 있음\n",
    "* elif문 수 늘려 많은 조건 점검할 수 있음"
   ]
  },
  {
   "cell_type": "code",
   "execution_count": null,
   "id": "6fb7a025-52e2-4950-adc9-2e99e72b4366",
   "metadata": {},
   "outputs": [],
   "source": [
    "money = 6500\n",
    "if money >= 20000:\n",
    "    print(\"탕수육을 먹는다\")\n",
    "else:\n",
    "    if money >= 10000:\n",
    "        ~~~"
   ]
  },
  {
   "cell_type": "code",
   "execution_count": null,
   "id": "65d573e8-1ab6-483f-98e7-1d787a768ed0",
   "metadata": {},
   "outputs": [],
   "source": [
    "money = 20000\n",
    "if money >= 20000:\n",
    "    print(\"탕수육을 먹는다\")\n",
    "elif money >= 10000:\n",
    "    print(\"쟁반 짜장을 먹는다\")\n",
    "elif money >= 6000:\n",
    "    print(\"짬뽕을 먹는다\")\n",
    "elif money >= 4000:\n",
    "    print(\"짜장면을 먹는다\")\n",
    "else:\n",
    "    print(\"단무지를 먹는다\")"
   ]
  },
  {
   "cell_type": "code",
   "execution_count": null,
   "id": "4653edd8-129e-4d14-aa18-f21d5e04b31b",
   "metadata": {},
   "outputs": [],
   "source": [
    "man = True\n",
    "age = 22\n",
    "if man == True:\n",
    "    if age >= 19:\n",
    "        print(\"성인 남자입니다.\")"
   ]
  },
  {
   "cell_type": "code",
   "execution_count": null,
   "id": "fd407086-ba3a-45bc-9250-a90f38ec1954",
   "metadata": {},
   "outputs": [],
   "source": [
    "man = False\n",
    "age = 20\n",
    "if man == True:\n",
    "    if age >= 19:\n",
    "        print(\"성인 남자입니다.\")\n",
    "    else:\n",
    "        print(\"소년입니다.\")"
   ]
  },
  {
   "cell_type": "markdown",
   "id": "a6ad4251-b9f9-4fed-8035-a5606f4d8869",
   "metadata": {},
   "source": [
    "# 1. 조건문 (2) : 배운 것들로 연습해보기."
   ]
  },
  {
   "cell_type": "markdown",
   "id": "29e2f49a-1038-4600-b619-9cb75c85f78f",
   "metadata": {},
   "source": [
    "### (문제 1) 사용자로부터 숫자를 입력 받아, 그 숫자가 양수인지, 음수인지, 또는 0인지를 판별하여 출력하는 프로그램을 작성하세요."
   ]
  },
  {
   "cell_type": "code",
   "execution_count": null,
   "id": "004d9861-8f34-4ab8-9bf0-a7070ca35e98",
   "metadata": {},
   "outputs": [],
   "source": [
    "# 사용자로부터 숫자 입력 받기\n",
    "number = float(input(\"숫자를 입력하세요: \"))\n",
    "\n",
    "# 조건문을 사용하여 판별\n",
    "if number > 0:\n",
    "    print(\"입력한 숫자는 양수입니다.\")\n",
    "elif number < 0:\n",
    "    print(\"입력한 숫자는 음수입니다.\")\n",
    "else:\n",
    "    print(\"입력한 숫자는 0입니다.\")"
   ]
  },
  {
   "cell_type": "markdown",
   "id": "0288194e-478e-44df-bdbf-1e3dabf199d1",
   "metadata": {},
   "source": [
    "### (문제 2) 사용자로부터 세 과목(국어, 영어, 수학)의 점수를 입력받아, 세 과목의 평균 점수를 소수점 첫째자리까지 계산하고, 평균 점수에 따라 학점을 부여하는 프로그램을 작성하세요. 학점은 다음과 같이 부여됩니다.\n",
    "\n",
    "* 평균 점수 90 이상: A\n",
    "* 평균 점수 80 이상 90 미만: B\n",
    "* 평균 점수 70 이상 80 미만: C\n",
    "* 평균 점수 60 이상 70 미만: D\n",
    "* 평균 점수 60 미만: F"
   ]
  },
  {
   "cell_type": "code",
   "execution_count": null,
   "id": "8b9d02b6-5782-43d1-a15e-41da97c9c84a",
   "metadata": {},
   "outputs": [],
   "source": [
    "# 국어, 영어, 수학 점수 입력 받기\n",
    "korean_score = float(input(\"국어 점수를 입력하세요: \"))\n",
    "english_score = float(input(\"영어 점수를 입력하세요: \"))\n",
    "math_score = float(input(\"수학 점수를 입력하세요: \"))\n",
    "\n",
    "# 평균 점수 계산\n",
    "average_score = (korean_score + english_score + math_score) / 3\n",
    "\n",
    "# 학점 부여\n",
    "if average_score >= 90:\n",
    "    grade = 'A'\n",
    "elif average_score >= 80:\n",
    "    grade = 'B'\n",
    "elif average_score >= 70:\n",
    "    grade = 'C'\n",
    "elif average_score >= 60:\n",
    "    grade = 'D'\n",
    "else:\n",
    "    grade = 'F'\n",
    "\n",
    "# 결과 출력\n",
    "print(\"평균 점수:\", round(average_score, 2))\n",
    "print(\"학점:\", grade)"
   ]
  },
  {
   "cell_type": "markdown",
   "id": "a903a675-ea18-4031-8879-4cf048e4fd79",
   "metadata": {},
   "source": [
    "### (문제 3) 사용자로부터 나이를 입력받아, 다음과 같이 연령대를 판별하여 출력하는 프로그램을 작성하세요.\n",
    "\n",
    "* 0세 미만: 유아\n",
    "* 0세 이상 18세 미만: 아동/청소년\n",
    "* 18세 이상 65세 미만: 성인\n",
    "* 65세 이상: 노인"
   ]
  },
  {
   "cell_type": "code",
   "execution_count": null,
   "id": "73de0e20-c073-42bf-b871-1f7ce899f03c",
   "metadata": {},
   "outputs": [],
   "source": [
    "# 나이 입력 받기\n",
    "age = int(input(\"나이를 입력하세요: \"))\n",
    "\n",
    "# 연령대 판별\n",
    "if age < 0:\n",
    "    category = \"유아\"\n",
    "elif age < 18:\n",
    "    category = \"아동/청소년\"\n",
    "elif age < 65:\n",
    "    category = \"성인\"\n",
    "else:\n",
    "    category = \"노인\"\n",
    "\n",
    "# 결과 출력\n",
    "print(\"입력한 나이는\", category, \"연령대에 속합니다.\")"
   ]
  },
  {
   "cell_type": "markdown",
   "id": "b5c94a9c-fdf8-408c-934c-b3ed507d0f0b",
   "metadata": {},
   "source": [
    "### (문제 4) 사용자로부터 세 개의 숫자를 입력받아, 이 숫자들 중 가장 큰 숫자를 찾아서 출력하는 프로그램을 작성하세요."
   ]
  },
  {
   "cell_type": "code",
   "execution_count": null,
   "id": "bf92cbbc-cdbf-4db8-8add-3dc3baee98f6",
   "metadata": {},
   "outputs": [],
   "source": [
    "# 세 개의 숫자 입력 받기\n",
    "num1 = float(input(\"첫 번째 숫자를 입력하세요: \"))\n",
    "num2 = float(input(\"두 번째 숫자를 입력하세요: \"))\n",
    "num3 = float(input(\"세 번째 숫자를 입력하세요: \"))\n",
    "\n",
    "# 가장 큰 숫자 찾기\n",
    "max_number = num1\n",
    "\n",
    "if num2 > max_number:\n",
    "    max_number = num2\n",
    "\n",
    "if num3 > max_number:\n",
    "    max_number = num3\n",
    "\n",
    "# 결과 출력\n",
    "print(\"입력한 숫자 중 가장 큰 숫자는\", max_number,\"입니다.\")"
   ]
  },
  {
   "cell_type": "markdown",
   "id": "013e55f1-340a-4097-89d4-d9505882e8d0",
   "metadata": {},
   "source": [
    "### (문제 5) 사용자로부터 연도를 입력받아, 해당 연도가 윤년인지 아닌지를 판별하는 프로그램을 작성하세요. 윤년은 다음 조건 중 하나 이상을 만족하는 연도입니다.\n",
    "\n",
    "* 4로 나누어 떨어지면서 100으로 나누어 떨어지지 않는 연도\n",
    "* 400으로 나누어 떨어지는 연도\n",
    "* 예 : 100 - 평년, 400 - 윤년, 96 - 윤년, 200 - 평년"
   ]
  },
  {
   "cell_type": "code",
   "execution_count": null,
   "id": "fe04c5a8-2237-406b-b550-a9efba258fd1",
   "metadata": {},
   "outputs": [],
   "source": [
    "# 연도 입력 받기\n",
    "year = int(input(\"연도를 입력하세요: \"))\n",
    "\n",
    "# 윤년 판별\n",
    "if (year % 4 == 0 and year % 100 != 0) or (year % 400 == 0):\n",
    "    print(year, \"년은 윤년입니다.\")\n",
    "else:\n",
    "    print(year, \"년은 윤년이 아닙니다.\")"
   ]
  },
  {
   "cell_type": "markdown",
   "id": "598c9966-835e-4946-89bf-780ec3e6b324",
   "metadata": {},
   "source": [
    "### (문제 6) 사용자로부터 세 개의 정수를 입력 받아, 이 정수 중에서 가장 큰 수와 가장 작은 수를 찾아서 출력하는 프로그램을 작성하세요.\r\n",
    "\r\n"
   ]
  },
  {
   "cell_type": "code",
   "execution_count": null,
   "id": "5a229d62-3e68-48f5-91ec-6902ebdd67dc",
   "metadata": {},
   "outputs": [],
   "source": [
    "# 세 개의 정수 입력 받기\n",
    "num1 = float(input(\"첫 번째 정수를 입력하세요: \"))\n",
    "num2 = float(input(\"두 번째 정수를 입력하세요: \"))\n",
    "num3 = float(input(\"세 번째 정수를 입력하세요: \"))\n",
    "\n",
    "# 초기값으로 첫 번째 숫자를 최대값과 최소값으로 설정\n",
    "max_num = num1\n",
    "min_num = num1\n",
    "\n",
    "# 최대값과 최소값 갱신\n",
    "if num2 > max_num:\n",
    "    max_num = num2\n",
    "elif num2 < min_num:\n",
    "    min_num = num2\n",
    "\n",
    "if num3 > max_num:\n",
    "    max_num = num3\n",
    "elif num3 < min_num:\n",
    "    min_num = num3\n",
    "\n",
    "# 결과 출력\n",
    "print(\"가장 큰 수:\", max_num)\n",
    "print(\"가장 작은 수:\", min_num)"
   ]
  },
  {
   "cell_type": "code",
   "execution_count": null,
   "id": "2630c003-5266-48aa-844d-361e5274fb1b",
   "metadata": {},
   "outputs": [],
   "source": [
    "# 세 개의 정수 입력 받기\n",
    "num1 = float(input(\"첫 번째 정수를 입력하세요: \"))\n",
    "num2 = float(input(\"두 번째 정수를 입력하세요: \"))\n",
    "num3 = float(input(\"세 번째 정수를 입력하세요: \"))\n",
    "\n",
    "# 최대값과 최소값 갱신\n",
    "if num1 > num2:\n",
    "    if num2 > num3:\n",
    "        max_num = num1\n",
    "        min_num = num3\n",
    "    elif num1 > num3:\n",
    "        max_num = num1\n",
    "        min_num = num2\n",
    "    else:\n",
    "        max_num = num3\n",
    "        min_num = num2\n",
    "else:\n",
    "    a = num1\n",
    "    num1 = num2\n",
    "    num2 = a\n",
    "    if num2 > num3:\n",
    "        max_num = num1\n",
    "        min_num = num3\n",
    "    elif num1 > num3:\n",
    "        max_num = num1\n",
    "        min_num = num2\n",
    "    else:\n",
    "        max_num = num3\n",
    "        min_num = num2\n",
    "\n",
    "# 결과 출력\n",
    "print(\"가장 큰 수:\", max_num)\n",
    "print(\"가장 작은 수:\", min_num)"
   ]
  },
  {
   "cell_type": "markdown",
   "id": "85308a70-337c-4f49-9989-b348235841ea",
   "metadata": {},
   "source": [
    "### (문제 7) 사용자로부터 두 개의 숫자와 연산자 (+, -, *, /)를 입력받아 계산하는 계산기 프로그램을 작성하세요. 입력된 연산자에 따라 두 숫자를 계산하고 결과를 출력하세요. 또한, 사용자가 유효하지 않은 연산자를 입력한 경우 오류 메시지를 출력하세요.\r\n",
    "\r\n",
    "힌트: input 함수를 사용하여 사용자로부터 숫자와 연산자를 입력 받고, 조건문을 사용하여 입력된 연산자에 따라 적절한 계산을 수행하세요."
   ]
  },
  {
   "cell_type": "code",
   "execution_count": null,
   "id": "c543598e-ae2c-4bde-8ccb-82abf49b60ba",
   "metadata": {},
   "outputs": [],
   "source": [
    "# 사용자로부터 두 개의 숫자와 연산자 입력 받기\n",
    "num1 = float(input(\"첫 번째 숫자를 입력하세요: \"))\n",
    "operator = input(\"사칙연산 연산자 (+, -, *, /)를 입력하세요: \")\n",
    "num2 = float(input(\"두 번째 숫자를 입력하세요: \"))\n",
    "\n",
    "# 연산자에 따라 계산 수행\n",
    "if operator == \"+\":\n",
    "    result = num1 + num2\n",
    "elif operator == \"-\":\n",
    "    result = num1 - num2\n",
    "elif operator == \"*\":\n",
    "    result = num1 * num2\n",
    "elif operator == \"/\":\n",
    "    # 0으로 나누는지 확인\n",
    "    if num2 == 0:\n",
    "        result = \"오류: 0으로 나눌 수 없습니다.\"\n",
    "    else:\n",
    "        result = num1 / num2\n",
    "else:\n",
    "    result = \"오류: 유효하지 않은 연산자입니다.\"\n",
    "\n",
    "# 결과 출력\n",
    "print(\"결과:\", result)"
   ]
  },
  {
   "cell_type": "markdown",
   "id": "030ca5e9-0cdb-4914-bfde-b17c2491a9e4",
   "metadata": {},
   "source": [
    "### (문제 8) 사용자로부터 영어 알파벳 소문자를 입력 받아, 해당 문자가 자음 또는 모음인지 판별하는 프로그램을 작성하세요. 자음은 \"b\", \"c\", \"d\", ... 등의 문자이며, 모음은 \"a\", \"e\", \"i\", \"o\", \"u\" 등의 문자입니다. 입력한 문자가 자음인 경우 \"자음\"을, 모음인 경우 \"모음\"을 출력하세요. 그 외의 문자(숫자, 특수 문자, 대문자 등)는 \"올바른 입력이 아닙니다\"라고 출력하세요.\n",
    "\n",
    "힌트: 영어 소문자를 모두 나열한 string을 정의하고, in 연산을 통해 해당 문자가 문자열에 있는지 확인할 수 있습니다."
   ]
  },
  {
   "cell_type": "code",
   "execution_count": null,
   "id": "cbbc585d-fb6c-40b8-840d-3c920e167d71",
   "metadata": {},
   "outputs": [],
   "source": [
    "# hint ex) \n",
    "string = 'abcde'\n",
    "character = 'e'\n",
    "if character in string:\n",
    "    print(\"yes!\")"
   ]
  },
  {
   "cell_type": "markdown",
   "id": "1334e318-3966-4b37-930a-7bdb00d696b5",
   "metadata": {},
   "source": [
    "답안 1: a~z까지에 대해 지정하는 경우"
   ]
  },
  {
   "cell_type": "code",
   "execution_count": null,
   "id": "35687243-1fd5-4885-9460-0199e7e68f0d",
   "metadata": {},
   "outputs": [],
   "source": [
    "vowels = \"aeiou\"\n",
    "\n",
    "character = input(\"영어 알파벳 소문자를 입력하세요: \")\n",
    "if character >= 'a' and character <= 'z':\n",
    "    if character in vowels:\n",
    "        print(\"모음\")\n",
    "    else:\n",
    "        print(\"자음\")\n",
    "else:\n",
    "    print(\"올바른 입력이 아닙니다.\")"
   ]
  },
  {
   "cell_type": "markdown",
   "id": "4dd82ae7-48ea-49bb-ba6a-d4839f682fe2",
   "metadata": {},
   "source": [
    "답안 2: 자음과 모음을 따로 지정하는 경우"
   ]
  },
  {
   "cell_type": "code",
   "execution_count": null,
   "id": "a553c947-cbfa-4ba4-aaf5-1512bdcf9e21",
   "metadata": {},
   "outputs": [],
   "source": [
    "# 영어 소문자 알파벳 정의\n",
    "vowels = \"aeiou\"\n",
    "consonants = \"bcdfghjklmnpqrstvwxyz\"\n",
    "\n",
    "# 사용자로부터 문자 입력 받기\n",
    "character = input(\"영어 알파벳 소문자를 입력하세요: \")\n",
    "\n",
    "if character in vowels:\n",
    "    print(\"모음\")\n",
    "elif character in consonants:\n",
    "    print(\"자음\")\n",
    "else:\n",
    "    print(\"올바른 입력이 아닙니다.\")"
   ]
  },
  {
   "cell_type": "markdown",
   "id": "a9f3dbdc-faf1-4cea-885f-d04dad67b496",
   "metadata": {},
   "source": [
    "## 추가 복습 문제"
   ]
  },
  {
   "cell_type": "markdown",
   "id": "a2b609b9-3f59-4fcd-84fe-d6d9d7e0367c",
   "metadata": {},
   "source": [
    "(문제 9) 사용자에게 입력받은 값에 따라서 0 ~ 9까지의 값일 경우, \"숫자입니다.\" A ~ Z까지의 값일 경우, \"대문자입니다.\" 그리고 a~z까지의 값 일 경우, \"소문자입니다.\" 라고 출력하는 프로그램을 작성하세요. "
   ]
  },
  {
   "cell_type": "code",
   "execution_count": null,
   "id": "6f80d600-2e40-407f-84e9-30af275c6502",
   "metadata": {},
   "outputs": [],
   "source": []
  },
  {
   "cell_type": "markdown",
   "id": "125fa6ec-af8d-47d5-b690-81e6567cf7c6",
   "metadata": {},
   "source": [
    "(문제 10) 사용자에게 10진수 정수형의 값을 입력받고, 원하는 변수형을 함께 입력받아 (예: 2진수) 해당 값을 2진수, 8진수, 16진수로 변환하여 출력하는 프로그램을 작성하세요."
   ]
  },
  {
   "cell_type": "code",
   "execution_count": null,
   "id": "c5b9ffeb-15da-4cbd-b98a-2bf2f67f2b2d",
   "metadata": {},
   "outputs": [],
   "source": []
  },
  {
   "cell_type": "markdown",
   "id": "bf90ae44-4cf8-45c2-aa11-635efa305873",
   "metadata": {},
   "source": [
    "(문제 10-1) 위의 문제를 응용하여 사용자에게 번호를 입력받아 (1) left shift (2) right shift (3) 두 수의 비트 xor 연산 (4) 두 수의 비트 and 연산 (5) 두 수의 비트 or 연산을 취하는 프로그램을 작성하세요. 이때 각 두 수 (예: left shift의 경우 shift를 시킬 10진수 숫자와 몇 bit를 shift 시킬지) 를 입력받도록 설계하여 계산 결과를 2진수로 출력하는 프로그램을 작성하세요."
   ]
  },
  {
   "cell_type": "code",
   "execution_count": null,
   "id": "c83aea78-aa4f-4d36-8449-37a82bcefdd1",
   "metadata": {},
   "outputs": [],
   "source": []
  },
  {
   "cell_type": "markdown",
   "id": "6d896e4f-8621-40b3-a0e7-d4b68eb14d6a",
   "metadata": {},
   "source": [
    "(문제 10-2) 위의 문제를 응용하여 여태까지 출력한 모든 값들을 하나의 문자열로 만들어서 출력하는 프로그램을 작성하세요."
   ]
  },
  {
   "cell_type": "code",
   "execution_count": null,
   "id": "3f94bba0-ec13-40e3-a8bf-b320b7270b5e",
   "metadata": {},
   "outputs": [],
   "source": []
  },
  {
   "cell_type": "markdown",
   "id": "730dbf3b-c444-4aa0-9a0e-36eee35b2b22",
   "metadata": {},
   "source": [
    "## 문자열 응용"
   ]
  },
  {
   "cell_type": "markdown",
   "id": "be6a27cf-a6fd-4611-8c8a-cda8a198665d",
   "metadata": {},
   "source": [
    "문자열은 list 형태로 되어있어 각 값에 index가 부여되어 있습니다. 가장 앞에 나오는 것을 0번째 index로 취급하며 다음 순서에 따라 하나씩 증가합니다.\n",
    "\n",
    "또한, 문자열 음수 index는 문자열의 맨 뒤에서부터 확인하는 것을 의미합니다."
   ]
  },
  {
   "cell_type": "code",
   "execution_count": null,
   "id": "1209af21-a2be-41be-8d28-4ff2a387c8ee",
   "metadata": {},
   "outputs": [],
   "source": [
    "s = \"python\"\n",
    "print(s[2])\n",
    "print(s[-2])"
   ]
  },
  {
   "cell_type": "markdown",
   "id": "dcd73cb2-43d2-4d98-907b-68ddbdd62861",
   "metadata": {},
   "source": [
    "슬라이스\n",
    "* 범위 지정하여 부분 문자열을 추출\n",
    "* [begin:end:step]\n",
    "* 시작, 끝, 증가량을 지정"
   ]
  },
  {
   "cell_type": "code",
   "execution_count": null,
   "id": "cf84bf08-7a42-41eb-9158-5868fa1fdbe0",
   "metadata": {},
   "outputs": [],
   "source": [
    "s = \"python\"\n",
    "print(s[2:5])\n",
    "print(s[3:])\n",
    "print(s[:4])\n",
    "print(s[2:-2])"
   ]
  },
  {
   "cell_type": "code",
   "execution_count": null,
   "id": "ada755dd-9e97-46a0-a0d9-ddc530967169",
   "metadata": {},
   "outputs": [],
   "source": [
    "file = \"20171224-104830.jpg\"\n",
    "print(\"촬영 날짜 : \" + file[4:6] + \"월 \" + file[6:8] + \"일\")\n",
    "print(\"촬영 시간 : \" + file[9:11] + \"시 \" + file[11:13] + \"분\")\n",
    "print(\"확장자 : \" + file[-3:])"
   ]
  },
  {
   "cell_type": "code",
   "execution_count": null,
   "id": "2f368dd4-0ca1-497e-b4bc-11c2c6bb3bce",
   "metadata": {},
   "outputs": [],
   "source": [
    "yoil = \"월화수목금토일\"\n",
    "print(yoil[::2])\n",
    "print(yoil[::-1])"
   ]
  },
  {
   "cell_type": "markdown",
   "id": "d6361ab8-3fff-4662-90dd-2c7144a4e45e",
   "metadata": {},
   "source": [
    "메서드\n",
    "* 클래스에 소속된 함수\n",
    "* 객체에 대해 특화된 작업 수행"
   ]
  },
  {
   "cell_type": "markdown",
   "id": "66430132-455b-4179-8603-90bac01fd82a",
   "metadata": {},
   "source": [
    "* len 함수 : 문자열의 길이 조사\n",
    "* find 메서드 : 인수로 지정한 문자 또는 부분 문자열의 위치 조사\n",
    "* rfind 메서드 : 뒤에서 검색 시작\n",
    "* count 메서드 : 특정 문자 개수\n"
   ]
  },
  {
   "cell_type": "code",
   "execution_count": null,
   "id": "48ad039d-67f9-4a0a-a6f2-a5c658ebd682",
   "metadata": {},
   "outputs": [],
   "source": [
    "s = \"python programming\"\n",
    "print(len(s))\n",
    "print(s.find('o'))\n",
    "print(s.rfind('o'))\n",
    "print(s.index('r'))\n",
    "print(s.count('n'))"
   ]
  },
  {
   "cell_type": "code",
   "execution_count": null,
   "id": "4a2ddee5-2631-47bd-946a-88b052b71dab",
   "metadata": {},
   "outputs": [],
   "source": [
    "s = \"\"\"생각이란 생각할수록 생각나므로 생각하지 말아야 할 생각은 생각하지 \n",
    "않으려고 하는 생각이 옳은 생각이라고 생각합니다.\"\"\"\n",
    "print(\"생각의 출현 횟수 :\", s.count('생각'))"
   ]
  },
  {
   "cell_type": "markdown",
   "id": "fe9c5afa-2687-4dd6-ad4a-f81c05186df0",
   "metadata": {},
   "source": [
    "조사\n",
    "* in 구문\n",
    "* 특정 문자 유무 여부 조사"
   ]
  },
  {
   "cell_type": "code",
   "execution_count": null,
   "id": "750b052c-0080-4f15-a8ad-c79f7610293a",
   "metadata": {},
   "outputs": [],
   "source": [
    "s = \"python programming\"\n",
    "print('a' in s)\n",
    "print('z' in s)\n",
    "print('pro' in s)\n",
    "print('x' not in s)"
   ]
  },
  {
   "cell_type": "code",
   "execution_count": null,
   "id": "66012cee-6e86-499e-8b88-6b0cdac3770f",
   "metadata": {},
   "outputs": [],
   "source": []
  }
 ],
 "metadata": {
  "kernelspec": {
   "display_name": "Python 3 (ipykernel)",
   "language": "python",
   "name": "python3"
  },
  "language_info": {
   "codemirror_mode": {
    "name": "ipython",
    "version": 3
   },
   "file_extension": ".py",
   "mimetype": "text/x-python",
   "name": "python",
   "nbconvert_exporter": "python",
   "pygments_lexer": "ipython3",
   "version": "3.11.5"
  }
 },
 "nbformat": 4,
 "nbformat_minor": 5
}
