{
 "cells": [
  {
   "cell_type": "markdown",
   "id": "b39b24a2-1309-4d76-8579-8c92caefd2f6",
   "metadata": {},
   "source": [
    "# Week 6 (2) - 반복문 + list + tuple\n",
    "### 인공지능과 컴퓨팅 사고 - AI Computational Thinking\n",
    "##### Author : Jihyeon Ryu\n",
    "##### Date : 2024-10-9 (Wed)"
   ]
  },
  {
   "cell_type": "markdown",
   "id": "cf51515e-f483-4e87-a426-dba06ff1bd12",
   "metadata": {},
   "source": [
    "# 1. 리스트"
   ]
  },
  {
   "cell_type": "markdown",
   "id": "5ddcc0d3-54d4-4d74-a602-24faaa8191c5",
   "metadata": {},
   "source": [
    "리스트 (List)\n",
    "* 자료의 집합\n",
    "* 리스트는 여러 개 값을 집합적으로 저장\n",
    "  \n",
    "요소 (Element)\n",
    "* 리스트에 소속되는 각각의 값 \n",
    "* 리스트에는 주로 같은 타입 요소를 모음  "
   ]
  },
  {
   "cell_type": "code",
   "execution_count": null,
   "id": "eae37257-4561-4c88-b8a4-a786f4de4aa6",
   "metadata": {},
   "outputs": [],
   "source": [
    "\n",
    "# =============== listscore  ===============\n",
    "score = [ 88, 95, 70, 100, 99 ]\n",
    "sum = 0\n",
    "for s in score:\n",
    "    sum += s\n",
    "print(\"총점 : \", sum)\n",
    "print(\"평균 : \", sum / len(score))\n"
   ]
  },
  {
   "cell_type": "markdown",
   "id": "e380e994-4254-43ae-b1ab-63470b65ec3d",
   "metadata": {},
   "source": [
    "개별 요소 읽기와 요소의 범위 지정"
   ]
  },
  {
   "cell_type": "code",
   "execution_count": null,
   "id": "3c4323c2-d24f-438c-ae99-27f4a092c94c",
   "metadata": {},
   "outputs": [],
   "source": [
    "\n",
    "# =============== listslice  ===============\n",
    "nums = [0,1,2,3,4,5,6,7,8,9]\n",
    "print(nums[2:5])        # 2~5까지\n",
    "print(nums[:4])         # 처음부터 4까지\n",
    "print(nums[6:])         # 6에서 끝까지\n",
    "print(nums[1:7:2])      # 1~7까지 하나씩 건너뛰며\n"
   ]
  },
  {
   "cell_type": "code",
   "execution_count": null,
   "id": "a18b89a7-d7ad-4c86-8cf8-0ce5c13d3053",
   "metadata": {},
   "outputs": [],
   "source": [
    "\n",
    "# =============== listassign  ===============\n",
    "score = [ 88, 95, 70, 100, 99 ]\n",
    "print(score[2])     # 70\n",
    "print(score)    \n",
    "score[2] = 55       # 값 변경\n",
    "print(score[2])     # 55\n",
    "print(score)    \n"
   ]
  },
  {
   "cell_type": "code",
   "execution_count": null,
   "id": "dd37b1a1-890c-4f73-88b9-c8c838c23fb3",
   "metadata": {},
   "outputs": [],
   "source": [
    "\n",
    "# =============== listreplace  ===============\n",
    "nums = [0, 1, 2, 3, 4, 5, 6, 7, 8, 9]\n",
    "nums[2:5] = [20, 30, 40]\n",
    "print(nums)\n",
    "nums[6:8] = [90, 91, 92, 93, 94]\n",
    "print(nums)"
   ]
  },
  {
   "cell_type": "code",
   "execution_count": null,
   "id": "d557f365-24b0-4aff-b1f7-57436ab2f811",
   "metadata": {},
   "outputs": [],
   "source": [
    "\n",
    "# =============== rangeremove  ===============\n",
    "nums = [0, 1, 2, 3, 4, 5, 6, 7, 8, 9]\n",
    "nums[2:5] = []\n",
    "print(nums)\n",
    "del nums[4]\n",
    "print(nums)\n"
   ]
  },
  {
   "cell_type": "code",
   "execution_count": null,
   "id": "47726e50-8904-4cb7-85cb-8e2112bcfb60",
   "metadata": {},
   "outputs": [],
   "source": [
    "\n",
    "# =============== listcat  ===============\n",
    "list1 = [1, 2, 3, 4, 5]\n",
    "list2 = [10, 11]\n",
    "listadd = list1 + list2\n",
    "print(listadd)\n",
    "listmulti = list2 * 3\n",
    "print(listmulti)\n"
   ]
  },
  {
   "cell_type": "markdown",
   "id": "80c281bd-03a1-4111-80bc-1f6cf2acabb9",
   "metadata": {},
   "source": [
    "이중 리스트\n",
    "* 리스트의 요소로 리스트 넣어 중첩할 수 있음\n",
    "* 이중 리스트 순회하여 최종값 읽으려면 루프도 이중으로 하여야 함"
   ]
  },
  {
   "cell_type": "code",
   "execution_count": null,
   "id": "80580377-b7f2-4f04-974b-10c29406fe05",
   "metadata": {},
   "outputs": [],
   "source": [
    "\n",
    "# =============== nestlist  ===============\n",
    "lol = [ [1, 2, 3], [4, 5], [6, 7, 8, 9]]\n",
    "print(lol[0])\n",
    "print(lol[2][1])\n",
    "\n",
    "for sub in lol:\n",
    "    for item in sub:\n",
    "        print(item, end=' ')\n",
    "    print()"
   ]
  },
  {
   "cell_type": "code",
   "execution_count": null,
   "id": "8cc3df96-8f8a-41af-8744-d549619d9ea7",
   "metadata": {},
   "outputs": [],
   "source": [
    "\n",
    "\n",
    "# =============== nestscore  ===============\n",
    "score = [\n",
    "    [88, 76, 92, 98],\n",
    "    [65, 70, 58, 82],\n",
    "    [82, 80, 78, 88]\n",
    "    ]\n",
    "\n",
    "total = 0\n",
    "totalsub = 0\n",
    "for student in score:\n",
    "    sum = 0\n",
    "    for subject in student:\n",
    "        sum += subject\n",
    "    subjects = len(student)\n",
    "    print(\"총점 %d, 평균 %.2f\" % (sum, sum / subjects))\n",
    "    total += sum\n",
    "    totalsub += subjects\n",
    "print(\"전체평균 %.2f\" % (total / totalsub))\n"
   ]
  },
  {
   "cell_type": "markdown",
   "id": "66c15166-bbb3-4ccb-bb67-5e72b6b5b0b0",
   "metadata": {},
   "source": [
    "리스트 컴프리헨션 (List Comprehension)\n",
    "* [수식 for 변수 in 리스트 if 조건]"
   ]
  },
  {
   "cell_type": "code",
   "execution_count": null,
   "id": "bdaea349-8c98-40ae-8de6-89a59238a6c3",
   "metadata": {},
   "outputs": [],
   "source": [
    "# =============== listcomp  ===============\n",
    "nums = [n * 2 for n in range(1, 11)]\n",
    "for i in nums:\n",
    "    print(i, end = ', ')"
   ]
  },
  {
   "cell_type": "markdown",
   "id": "bfd0cf08-655f-466b-a793-95307d8eb55f",
   "metadata": {},
   "source": [
    "범위에 리스트 대입하여 여러 요소 한꺼번에 삽입 가능"
   ]
  },
  {
   "cell_type": "code",
   "execution_count": null,
   "id": "99f71d93-8276-4f86-9f6d-102facd345f3",
   "metadata": {},
   "outputs": [],
   "source": [
    "# =============== insertrange  ===============\n",
    "nums = [1, 2, 3, 4]\n",
    "nums[2:2] = [90, 91, 92]\n",
    "print(nums)\n",
    "\n",
    "nums = [1, 2, 3, 4]\n",
    "nums[2] = [90, 91, 92]\n",
    "print(nums)"
   ]
  },
  {
   "cell_type": "markdown",
   "id": "f1b746bc-d8c2-4558-b7a8-7303eac0e8fc",
   "metadata": {},
   "source": [
    "# 2. 리스트 함수"
   ]
  },
  {
   "cell_type": "markdown",
   "id": "cc233756-9c6e-4e1d-9307-3f1e2f78a7e1",
   "metadata": {},
   "source": [
    "### 2.1. list 삽입\n",
    "* append : 인수로 전달한 요소를 리스트 끝에 추가\n",
    "* insert : 삽입할 위치와 요소값을 전달받아 리스트 중간에 삽입\n",
    "* extend : list 뒤에 list를 붙여 리스트 확장"
   ]
  },
  {
   "cell_type": "code",
   "execution_count": null,
   "id": "9f1f74c9-f983-4692-a215-7545b717776d",
   "metadata": {},
   "outputs": [],
   "source": [
    "# =============== listinsert  ===============\n",
    "nums = [1, 2, 3, 4]\n",
    "nums.append(5)\n",
    "print(nums)\n",
    "nums.insert(2, 99)\n",
    "print(nums)\n"
   ]
  },
  {
   "cell_type": "code",
   "execution_count": null,
   "id": "80c604b8-64da-41c3-b884-21c1c467b1bd",
   "metadata": {},
   "outputs": [],
   "source": [
    "# =============== insertrange  ===============\n",
    "nums = [1, 2, 3, 4]\n",
    "nums[2:2] = [90, 91, 92]\n",
    "print(nums)\n",
    "\n",
    "nums = [1, 2, 3, 4]\n",
    "nums[2] = [90, 91, 92]\n",
    "print(nums)\n"
   ]
  },
  {
   "cell_type": "code",
   "execution_count": null,
   "id": "1a63d57e-5b25-48f1-9057-6b0838fac947",
   "metadata": {},
   "outputs": [],
   "source": [
    "# =============== extend  ===============\n",
    "list1 = [1, 2, 3, 4, 5]\n",
    "list2 = [10, 11]\n",
    "list3 = list1 + list2\n",
    "list1.extend(list2)\n",
    "print(list1)\n",
    "print(list3)"
   ]
  },
  {
   "cell_type": "markdown",
   "id": "f660cd44-2b3f-4033-a3e1-76da998180b8",
   "metadata": {},
   "source": [
    "### 2.2. list 삭제\n",
    "* remove : 인수로 전달받은 요소값 찾아 삭제\n",
    "* del : 순서값 지정하여 삭제\n",
    "* clear : 리스트 모든 요소 삭제\n",
    "* 빈 리스트 대입 : 일정 범위 요소 다수 삭제\n",
    "* pop() : 리스트의 마지막에 있는 값(기본값, 위치 수정 가능)을 꺼냄"
   ]
  },
  {
   "cell_type": "code",
   "execution_count": 3,
   "id": "70b8e038-5983-4d0c-b087-66906e91eecc",
   "metadata": {},
   "outputs": [
    {
     "name": "stdout",
     "output_type": "stream",
     "text": [
      "5\n",
      "[88, 95, 70, 99, 80, 78, 50]\n",
      "[88, 95, 99, 80, 78, 50]\n",
      "[88, 80, 78, 50]\n",
      "50\n",
      "[88, 80, 78]\n"
     ]
    }
   ],
   "source": [
    "# =============== listremove  ===============\n",
    "score = [ 88, 95, 70, 100, 99, 80, 78, 50 ]\n",
    "print(score.index(80))\n",
    "score.remove(100)\n",
    "print(score)\n",
    "del(score[2])\n",
    "print(score)\n",
    "score[1:3] = []\n",
    "print(score)\n",
    "print(score.pop())\n",
    "print(score)"
   ]
  },
  {
   "cell_type": "code",
   "execution_count": null,
   "id": "878be692-74db-4a41-85e4-fb37ab40e5c8",
   "metadata": {},
   "outputs": [],
   "source": [
    "# =============== pop  ===============\n",
    "score = [ 88, 95, 70, 100, 99 ]\n",
    "print(score.pop())\n",
    "print(score.pop())\n",
    "print(score.pop(1))\n",
    "print(score)"
   ]
  },
  {
   "cell_type": "code",
   "execution_count": null,
   "id": "f9312fea-bbe0-4f84-9dec-2cb50a8a028e",
   "metadata": {},
   "outputs": [],
   "source": [
    "# =============== pop  ===============\n",
    "score = [ 88, 95, 70, 100, 99 ]\n",
    "print(score.pop())\n",
    "print(score.pop())\n",
    "print(score.pop(0))\n",
    "print(score)"
   ]
  },
  {
   "cell_type": "markdown",
   "id": "74863c2b-8b11-4218-8263-b11237dad6b8",
   "metadata": {},
   "source": [
    "### 2.3. list 검색\n",
    "* index : 특정 요소 위치 찾음\n",
    "* count : 특정 요소값의 개수 조사\n",
    "* min / max : 리스트 요소 중 최소값 / 최대값 찾음\n",
    "* in / not in : 특정 요소 유무 여부 검사"
   ]
  },
  {
   "cell_type": "code",
   "execution_count": null,
   "id": "b214c848-b143-4a94-b09c-f8adfa8f823d",
   "metadata": {},
   "outputs": [],
   "source": [
    "# =============== listindex  ===============\n",
    "score = [ 88, 95, 70, 100, 99, 80, 78, 50 ]\n",
    "perfect = score.index(100)\n",
    "print(\"만점 받은 학생은 \" + str(perfect) + \"번입니다.\")\n",
    "pernum = score.count(100)\n",
    "print(\"만점자 수는 \" + str(pernum) + \"명입니다\")"
   ]
  },
  {
   "cell_type": "code",
   "execution_count": null,
   "id": "e1deff5e-d14a-4417-a8b8-55f0af2db695",
   "metadata": {},
   "outputs": [],
   "source": [
    "# =============== listmin  ===============\n",
    "score = [ 88, 95, 70, 100, 99, 80, 78, 50 ]\n",
    "print(\"학생 수는 %d명입니다.\" % len(score))\n",
    "print(\"최고 점수는 %d점입니다.\" % max(score))\n",
    "print(\"최저 점수는 %d점입니다.\" % min(score))"
   ]
  },
  {
   "cell_type": "code",
   "execution_count": null,
   "id": "520a0bb7-6800-47eb-a1eb-359b933c1ff9",
   "metadata": {},
   "outputs": [],
   "source": [
    "# =============== listin  ===============\n",
    "ans = input(\"결제 하시겠습니까? \")\n",
    "if ans in ['yes', 'y', 'ok', '예', '당근']:\n",
    "    print(\"구입해 주셔서 감사합니다.\")\n",
    "else:\n",
    "    print(\"안녕히 가세요.\")"
   ]
  },
  {
   "cell_type": "markdown",
   "id": "bc5bef46-ad91-4ba4-a4b1-0bbc2b522e43",
   "metadata": {},
   "source": [
    "### 2.4. list 정렬\n",
    "* 요소를 크기순으로 재배열\n",
    "* sort : 리스트 정렬하며 요소 순서 조정. 리스트 자체 수정\n",
    "* reverse : 요소 순서 반대로\n",
    "* key : 정렬 시 요소 비교할 키 추출\n",
    "* sorted : 리스트 그대로 두고 정렬된 새로운 리스트 만들어 리턴"
   ]
  },
  {
   "cell_type": "code",
   "execution_count": null,
   "id": "c9f5d450-ae3b-4654-ab61-4f318f7fa32c",
   "metadata": {},
   "outputs": [],
   "source": [
    "# =============== sort  ===============\n",
    "score = [ 88, 95, 70, 100, 99 ]\n",
    "score.sort()\n",
    "print(score)\n",
    "score.reverse()\n",
    "print(score)"
   ]
  },
  {
   "cell_type": "code",
   "execution_count": null,
   "id": "7763bb3a-8ac4-42e4-8b9b-eac4126574b9",
   "metadata": {},
   "outputs": [],
   "source": [
    "# =============== sort2  ===============\n",
    "country = [\"Korea\", \"japan\", \"CHINA\", \"america\"]\n",
    "country.sort()\n",
    "print(country)\n",
    "country.sort(key = str.lower)\n",
    "print(country)"
   ]
  },
  {
   "cell_type": "code",
   "execution_count": null,
   "id": "85318bb9-fb7a-4b31-b053-2f10a82be727",
   "metadata": {},
   "outputs": [],
   "source": [
    "# =============== sorted  ===============\n",
    "score = [ 88, 95, 70, 100, 99 ]\n",
    "score2 = sorted(score)\n",
    "print(score)\n",
    "print(score2)"
   ]
  },
  {
   "cell_type": "markdown",
   "id": "af4e31ac-ec78-45d5-adb9-90dc990b903e",
   "metadata": {},
   "source": [
    "# 3. 튜플"
   ]
  },
  {
   "cell_type": "markdown",
   "id": "96f4878e-9984-44d5-91c1-555b14be619d",
   "metadata": {},
   "source": [
    "* 불변 자료 집합\n",
    "* 튜플은 초기화한 후 편집할 수 없다는 점에서 리스트와 차이\n",
    "* 소괄호 사용하여 정의\n",
    "* print : 튜플 출력 시 소괄호 함께 출력하여 리스트 아님을 나타냄\n",
    "* 정의할 때에는 소괄호 없이 값만 나열해도 무관함\n",
    "* 요소 하나밖에 없는 경우에는 값 다음에 콤마 찍어 튜플임을 표시"
   ]
  },
  {
   "cell_type": "code",
   "execution_count": null,
   "id": "0b78dc5b-b319-45ea-aee2-f7d53c1026a9",
   "metadata": {},
   "outputs": [],
   "source": [
    "# =============== tuplescore  ===============\n",
    "score = ( 88, 95, 70, 100, 99 )\n",
    "sum = 0\n",
    "for s in score:\n",
    "    sum += s\n",
    "print(\"총점 : \", sum)\n",
    "print(\"평균 : \", sum / len(score))"
   ]
  },
  {
   "cell_type": "code",
   "execution_count": null,
   "id": "00f9abda-f9af-487a-a26a-3df5fcc27519",
   "metadata": {},
   "outputs": [],
   "source": [
    "# =============== onetuple  ===============\n",
    "tu = 2,\n",
    "value = 2\n",
    "print(tu)\n",
    "print(value)"
   ]
  },
  {
   "cell_type": "markdown",
   "id": "9ab83ba7-8ef0-4347-8410-3740c5eaebf5",
   "metadata": {},
   "source": [
    "튜플로 가능한 일\n",
    "* \\+ / * 연산자 사용하여 연결 및 반복\n",
    "* 요소를 변경하거나 삭제할 수는 없음"
   ]
  },
  {
   "cell_type": "code",
   "execution_count": null,
   "id": "fbb06011-403d-4006-83b5-9f2d660d8068",
   "metadata": {},
   "outputs": [],
   "source": [
    "# =============== tupleop  ===============\n",
    "tu = 1, 2, 3, 4, 5\n",
    "print(tu[3])         # 가능\n",
    "print(tu[1:4])       # 가능\n",
    "print(tu + (6, 7))    # 가능\n",
    "print(tu * 2)        # 가능      \n",
    "tu[1] = 100          # 불가능\n",
    "del tu[1]            # 불가능"
   ]
  },
  {
   "cell_type": "markdown",
   "id": "56722f10-38f7-4f6c-a3a3-7dba1cf70598",
   "metadata": {},
   "source": [
    "* 여러 개의 변수에 값을 한꺼번에 대입\n",
    "* 좌변에 변수 목록, 우변에 튜플을 대입"
   ]
  },
  {
   "cell_type": "code",
   "execution_count": null,
   "id": "0e9ae03d-0c0e-47c3-8dcd-609359b89934",
   "metadata": {},
   "outputs": [],
   "source": [
    "# =============== unpacking  ===============\n",
    "tu = \"이순신\", \"김유신\", \"강감찬\"\n",
    "lee, kim, kang = tu\n",
    "print(lee)\n",
    "print(kim)\n",
    "print(kang)"
   ]
  },
  {
   "cell_type": "code",
   "execution_count": null,
   "id": "9a851223-3496-41e4-aaca-079aa75d870b",
   "metadata": {},
   "outputs": [],
   "source": [
    "# =============== swap  ===============\n",
    "a, b = 12, 34\n",
    "print(a, b)\n",
    "a, b = b, a\n",
    "print(a, b)"
   ]
  },
  {
   "cell_type": "markdown",
   "id": "7f79ba97-f99e-4174-a9f4-07bf44c5edd6",
   "metadata": {},
   "source": [
    "* divmod : 나눗셈의 몫과 나머지를 튜플로 묶어 리턴"
   ]
  },
  {
   "cell_type": "code",
   "execution_count": null,
   "id": "4d17a13f-4abd-4422-8d42-555dbd1a576e",
   "metadata": {},
   "outputs": [],
   "source": [
    "# =============== divmod  ===============\n",
    "d, m = divmod(7, 3)\n",
    "print(\"몫\", d)\n",
    "print(\"나머지\", m)"
   ]
  },
  {
   "cell_type": "markdown",
   "id": "19792254-156f-4c6d-b140-f1f0e5f6855e",
   "metadata": {},
   "source": [
    "* tuple과 list는 상호 변환 가능"
   ]
  },
  {
   "cell_type": "code",
   "execution_count": null,
   "id": "3351c4e0-c527-40d6-9e51-9bc0966c7432",
   "metadata": {},
   "outputs": [],
   "source": [
    "# =============== convertlist  ===============\n",
    "score = [ 88, 95, 70, 100, 99 ]  ## list 로 정의\n",
    "tu = tuple(score)                ## tuple로 변환\n",
    "#tu[0] = 100\n",
    "print(tu)\n",
    "li = list(tu)                    ## list로 변환\n",
    "li[0] = 100\n",
    "print(li)"
   ]
  },
  {
   "cell_type": "code",
   "execution_count": 6,
   "id": "f49111d9-e76b-4c6e-9624-3df2210a8f75",
   "metadata": {},
   "outputs": [
    {
     "name": "stdout",
     "output_type": "stream",
     "text": [
      "5\n",
      "[88, 80, 78, 50]\n",
      "50\n",
      "[88, 80, 78]\n",
      "78\n"
     ]
    }
   ],
   "source": [
    "score = [ 88, 95, 70, 100, 99, 80, 78, 50 ]\n",
    "print(score.index(80))\n",
    "score.remove(100)\n",
    "del(score[2])\n",
    "score[1:3] = []\n",
    "print(score)\n",
    "print(score.pop())\n",
    "print(score)\n",
    "score.sort()\n",
    "tu = tuple(score)\n",
    "a, b, c = tu\n",
    "print(a)"
   ]
  },
  {
   "cell_type": "code",
   "execution_count": null,
   "id": "9bfa3388-9a56-45c5-ba70-5e2771587ded",
   "metadata": {},
   "outputs": [],
   "source": []
  }
 ],
 "metadata": {
  "kernelspec": {
   "display_name": "Python 3 (ipykernel)",
   "language": "python",
   "name": "python3"
  },
  "language_info": {
   "codemirror_mode": {
    "name": "ipython",
    "version": 3
   },
   "file_extension": ".py",
   "mimetype": "text/x-python",
   "name": "python",
   "nbconvert_exporter": "python",
   "pygments_lexer": "ipython3",
   "version": "3.11.5"
  }
 },
 "nbformat": 4,
 "nbformat_minor": 5
}
