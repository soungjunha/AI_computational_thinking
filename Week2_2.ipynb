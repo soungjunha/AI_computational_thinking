{
 "cells": [
  {
   "cell_type": "markdown",
   "id": "b39b24a2-1309-4d76-8579-8c92caefd2f6",
   "metadata": {},
   "source": [
    "# Week 2 (2) - 자료형\n",
    "### 인공지능과 컴퓨팅 사고 - AI Computational Thinking\n",
    "##### Author : Jihyeon Ryu\n",
    "##### Date : 2024-9-11 (Wed)"
   ]
  },
  {
   "cell_type": "markdown",
   "id": "b29d6a96-700b-4113-82b2-1891da26a73f",
   "metadata": {},
   "source": [
    "# 0. 복습\n",
    "# 0.1. 기본구조\n",
    "## 0.1.1. 공백과 개행, 들여쓰기\n",
    "c언어에서는 중괄호 {}로 범위를 표현했습니다. 그러나 파이썬은 개행과 들여쓰기로 범위를 표현합니다.\n",
    "그렇다고 모든 띄어쓰기가 의미 있는 것은 아닙니다. 공백은 관련 없이 동작합니다. 예를 들어보겠습니다."
   ]
  },
  {
   "cell_type": "code",
   "execution_count": null,
   "id": "c6e5dade-db76-4fae-ade8-db7306cc0a21",
   "metadata": {},
   "outputs": [],
   "source": [
    "print(1 + 2)\n",
    "print(1+2)\n",
    "print(1  +  2)"
   ]
  },
  {
   "cell_type": "markdown",
   "id": "3486c8d6-eb31-4e0e-8295-35db5109e021",
   "metadata": {},
   "source": [
    "위와 같이, 파이썬 코드는 공백에는 무관하게 동작하는 것을 확인할 수 있습니다.\n",
    "파이썬은 sensitive합니다. 이는 대문자와 소문자를 구분하여 인식한다는 뜻입니다."
   ]
  },
  {
   "cell_type": "markdown",
   "id": "97471a8b-65e8-4c7f-bc90-9a4140b01ed2",
   "metadata": {},
   "source": [
    "또한, python 코드는 c언어에서 {} (중괄호) 로 표기했던 부분을 들여쓰기와 개행으로 표기합니다.\n",
    "\n",
    "아작 python에서 if문을 배우지는 않았지만, 이미 어느정도는 알고 있으므로, if문으로 예를 들어봅시다. 아래 코드의 age를 바꾸어가며 동작시켜보세요."
   ]
  },
  {
   "cell_type": "code",
   "execution_count": null,
   "id": "e33f5e4f-ec39-42b5-a479-f47e47551fb7",
   "metadata": {},
   "outputs": [],
   "source": [
    "age = 20\n",
    "if age > 19:\n",
    "    print(\"성인\")\n",
    "    print(\"입니다.\")\n",
    "else:\n",
    "    print(\"미성년\")\n",
    "    print(\"입니다.\")"
   ]
  },
  {
   "cell_type": "markdown",
   "id": "c9ae274c-0335-4f67-8468-5294ed18beb3",
   "metadata": {},
   "source": [
    "위의 코드는 잘 동작하는 코드입니다. tab 표현, 혹은 띄어쓰기로 if 혹은 else문의 몸체에 들어갈 부분이 표현되어 있습니다.\n",
    "\n",
    "이때 tab 표현을 하지 않으면 어떻게 될까요?"
   ]
  },
  {
   "cell_type": "code",
   "execution_count": null,
   "id": "aa0a0a2b-74fa-40cb-8796-4b5ef706e7cb",
   "metadata": {},
   "outputs": [],
   "source": [
    "age = 20\n",
    "if age > 19:\n",
    "print(\"성인\")\n",
    "print(\"입니다.\")\n",
    "else:\n",
    "print(\"미성년\")\n",
    "print(\"입니다.\")"
   ]
  },
  {
   "cell_type": "markdown",
   "id": "68f0681a-ab04-4bbc-b6b1-c40a6b074719",
   "metadata": {},
   "source": [
    "위와 같이, 개행은 하나의 문장이 끝났음을 의미하기 때문에 print함수 중간에 개행을 사용하면 python은 인식하지 못하고 오류 처리를 하게 됩니다."
   ]
  },
  {
   "cell_type": "markdown",
   "id": "be6463ed-41a7-41f3-822e-fa765f4c2805",
   "metadata": {},
   "source": [
    "#\n",
    "## 0.1.2. 주석"
   ]
  },
  {
   "cell_type": "markdown",
   "id": "68d80576-cbf4-4d6d-9a7f-b27716b2393c",
   "metadata": {},
   "source": [
    "python에서 주석은 한 줄만 주석처리하는 방법과 여러줄을 한꺼번에 주석처리하는 방법이 있습니다.\n",
    "\n",
    "* 한 줄을 주석처리할 때는 # 문자를 사용합니다.\n",
    "* 여러 줄을 주석처리할 때는 큰 따옴표 (\") 나 작은 따옴표 (') 를 세 번 붙여서 (\"\"\", ''') 사용하게 됩니다.\n",
    "\n",
    "다음의 예를 확인해볼까요?"
   ]
  },
  {
   "cell_type": "code",
   "execution_count": null,
   "id": "5bfbdf6f-edd7-47d0-96c5-f5a62e3ea3fe",
   "metadata": {},
   "outputs": [],
   "source": [
    "print(\"여러줄주석예시1\")\n",
    "\"\"\"\n",
    " 여러줄 주석처리하고 싶을때는 큰따옴표나 작은따옴표를 활용하세요.\n",
    " 여러줄 주석처리하고 싶을때는 큰따옴표나 작은따옴표를 활용하세요.\n",
    " 여러줄 주석처리하고 싶을때는 큰따옴표나 작은따옴표를 활용하세요.\n",
    "\"\"\"\n",
    "print(\"여러줄주석예시2\")"
   ]
  },
  {
   "cell_type": "markdown",
   "id": "023db5ff-a50f-484e-a5cb-9ff9910b1948",
   "metadata": {},
   "source": [
    "print(\"여러줄주석예시3\")\n",
    "'''\n",
    " 여러줄 주석처리하고 싶을때는 큰따옴표나 작은따옴표를 활용하세요.\n",
    " 여러줄 주석처리하고 싶을때는 큰따옴표나 작은따옴표를 활용하세요.\n",
    " 여러줄 주석처리하고 싶을때는 큰따옴표나 작은따옴표를 활용하세요.\n",
    "'''\n",
    "print(\"여러줄주석예시4\")"
   ]
  },
  {
   "cell_type": "code",
   "execution_count": null,
   "id": "bc775019-5ff7-47b1-959c-ad6a5533d0e2",
   "metadata": {},
   "outputs": [],
   "source": [
    "print(\"한줄주석예시1\") # 한줄주석예시 1\n",
    "print(\"한줄주석예시2\") ### 한줄주석예시 2"
   ]
  },
  {
   "cell_type": "markdown",
   "id": "9585c4b8-dd53-4c05-80ee-cd5fc855bfa1",
   "metadata": {},
   "source": [
    "아래 코드는 학생들의 번호와 성적을 알려주는 간단한 코드입니다.\n",
    "\n",
    "해당 코드는 처음 코드를 보는 사람들을 위해 설명이 필요합니다. 또한 설명을 단 사람이 누군지에 대한 내용도 있으면 좋겠죠.\n",
    "\n",
    "그럼, 주석을 이용해서 아래의 코드를 꾸며볼까요?"
   ]
  },
  {
   "cell_type": "code",
   "execution_count": null,
   "id": "8a333378-1b24-4cd1-8b64-50e5c2355b69",
   "metadata": {},
   "outputs": [],
   "source": [
    "score = [ 88, 95, 70, 100, 99 ]\n",
    "no = 1\n",
    "for s in score:\n",
    "    print(str(no) + \"번 학생의 성적 :\", s)\n",
    "    no += 1"
   ]
  },
  {
   "cell_type": "markdown",
   "id": "a6d223a4-777e-483f-afeb-743c331c8f91",
   "metadata": {},
   "source": [
    "잘 했습니다."
   ]
  },
  {
   "cell_type": "markdown",
   "id": "8a5792ac-622b-427a-a17d-c6468f72f8fb",
   "metadata": {},
   "source": [
    "이제 markdown을 이용해서 설명을 들으며 아래 내용에 대해 필기하며 들어보도록 합시다."
   ]
  },
  {
   "attachments": {},
   "cell_type": "markdown",
   "id": "084cff1c-ad52-4d08-97bc-37fe63ab3b4c",
   "metadata": {},
   "source": [
    "# 0.2. print 함수\n",
    "print 함수에는 다음과 같은 사용 방법이 있습니다.\n",
    "\n",
    "* 출력시 사용되는 print 함수는 \"print(출력 내용 [, sep=구분자] [, end=끝 문자])\" 형태로 사용\n",
    "* 괄호 안에 상수, 변수, 수식 등 출력 내용을 입력하여 사용\r",
    "* 스크립트 모드에서 값 출력 시에는 반드시 print 명령 사용\r",
    "* 출력할 내용 여러 개일 경우 콤마로 나열\r",
    "* 여러 개 출력 결과를 공백이나 구분자(Separator) 사용하여 구별\r\n",
    "\n"
   ]
  },
  {
   "cell_type": "markdown",
   "id": "a55c2c74-6b47-488f-8272-455c95bca9a6",
   "metadata": {},
   "source": [
    "예제를 봅시다."
   ]
  },
  {
   "cell_type": "code",
   "execution_count": null,
   "id": "b15ef84a-641b-4bc8-8f7f-fc176ed0c6dc",
   "metadata": {},
   "outputs": [],
   "source": [
    "print(3 + 4)\n",
    "4 * 5\t\t\t\t# 무시된다.\n",
    "a = 1\n",
    "b = 2\n",
    "print(a + b)"
   ]
  },
  {
   "cell_type": "code",
   "execution_count": null,
   "id": "98f1904f-e49e-40c7-8e2d-6d750b4a970e",
   "metadata": {},
   "outputs": [],
   "source": [
    "s = '서울'\n",
    "d = '대전'\n",
    "g = '대구'\n",
    "b = '부산'\n",
    "print(s, d, g, b, sep = ' 찍고 ')"
   ]
  },
  {
   "cell_type": "code",
   "execution_count": null,
   "id": "c4487d93-4749-4d67-b08c-005742b28220",
   "metadata": {},
   "outputs": [],
   "source": [
    "a = '강아지'\n",
    "b = '고양이'\n",
    "print(a)\n",
    "print(b)"
   ]
  },
  {
   "cell_type": "code",
   "execution_count": null,
   "id": "32714654-c330-49e7-b84a-d5d7eb5fcbac",
   "metadata": {},
   "outputs": [],
   "source": [
    "a = '강아지'\n",
    "b = '고양이'\n",
    "print(a, end = '')\n",
    "print(b)"
   ]
  },
  {
   "cell_type": "markdown",
   "id": "102e231b-654e-498c-b36b-78491dd7a441",
   "metadata": {},
   "source": [
    "# 0.3. input 함수\n",
    "출력에는 print 함수를 쓴다면, 입력에는 input 함수를 씁니다.\n",
    "\n",
    "* 변수 = input('질문 내용')\n",
    "* 괄호 안에 질문 내용 입력\n",
    "* 사용자가 질문에 대해 입력한 값 돌려줌\n",
    "* 입력받은 문자열을 수로 바꿈"
   ]
  },
  {
   "cell_type": "code",
   "execution_count": null,
   "id": "4df3d152-8a81-4811-830b-98d791aa8e1f",
   "metadata": {},
   "outputs": [],
   "source": [
    "price = input('가격을 입력하세요 : ')\n",
    "num = input('개수를 입력하세요 : ')\n",
    "sum = int(price) * int(num)\n",
    "print('총액은', sum, '원입니다')"
   ]
  },
  {
   "cell_type": "code",
   "execution_count": null,
   "id": "6585a3e2-ac38-497b-9b8c-cf5922f2c520",
   "metadata": {},
   "outputs": [],
   "source": [
    "price = int(input('가격을 입력하세요 : '))\n",
    "num = int(input('개수를 입력하세요 : '))\n",
    "sum = price * num\n",
    "print('총액은', sum, '원입니다')"
   ]
  },
  {
   "cell_type": "code",
   "execution_count": null,
   "id": "d4c14843-d204-4401-9294-2f174a36f17a",
   "metadata": {},
   "outputs": [],
   "source": [
    "name = input('이름을 입력하세요 : ')\n",
    "print('안녕하세요', name, '님')"
   ]
  },
  {
   "cell_type": "markdown",
   "id": "22fd7947-625e-4c68-b359-9208294a9f13",
   "metadata": {},
   "source": [
    "# 0.4. 변수\n",
    "변수 : 메모리에 이름을 붙이고 값을 저장하는 것\n",
    "\n",
    "명칭 : 변수가 다른 것과 구분되도록 이름 붙인 것\n",
    "\n",
    "규칙\n",
    "* 키워드나 내장 함수, 표준 모듈명은 사용할 수 없음\n",
    "* 모든 명칭은 대소문자를 구분함\n",
    "* 알파벳, 밑줄 문자, 숫자 등으로 구성\n",
    "* 공백, +, - 등은 사용 불가\n",
    "* 첫 글자로 숫자 사용 불가"
   ]
  },
  {
   "cell_type": "code",
   "execution_count": null,
   "id": "0ab32e56-841e-4ed9-85a5-596f4cd4c276",
   "metadata": {},
   "outputs": [],
   "source": [
    "안녕 = 1\n",
    "print(안녕)"
   ]
  },
  {
   "cell_type": "code",
   "execution_count": null,
   "id": "7115aca8-b947-4525-b964-5cfbf3868c4f",
   "metadata": {},
   "outputs": [],
   "source": [
    "prinT = 123\n",
    "print(prinT)"
   ]
  },
  {
   "cell_type": "code",
   "execution_count": null,
   "id": "814bfc92-8b0a-4e25-88cb-6562ec7b72c0",
   "metadata": {},
   "outputs": [],
   "source": [
    "if = 123\n",
    "print(if)"
   ]
  },
  {
   "cell_type": "code",
   "execution_count": null,
   "id": "ca046ace-33ab-45ec-b8ed-c8fc0369bb62",
   "metadata": {},
   "outputs": [],
   "source": [
    "iF = 123\n",
    "print(iF)"
   ]
  },
  {
   "cell_type": "code",
   "execution_count": null,
   "id": "87dbbff5-3eca-458c-916a-fe23cd3b0984",
   "metadata": {},
   "outputs": [],
   "source": [
    "a+12 = 123\n",
    "print(a+12)"
   ]
  },
  {
   "cell_type": "markdown",
   "id": "39294ad0-1d76-464d-b8e1-9b7e5a6ff94a",
   "metadata": {},
   "source": [
    "동적 타입 (Dynamic Type)\n",
    "* 실행 중에 변수 타입 바꿀 수 있음\n",
    "\n",
    "변수는 일단 만들어지면 계속 존재하여 값 유지함\n",
    "* del 명령으로 삭제"
   ]
  },
  {
   "cell_type": "code",
   "execution_count": null,
   "id": "27d5d1d6-99a6-44f0-a26a-c69a9b9ff560",
   "metadata": {},
   "outputs": [],
   "source": [
    "print(iF)"
   ]
  },
  {
   "cell_type": "code",
   "execution_count": null,
   "id": "da4531c0-e0d4-4567-a1db-ba14f7874444",
   "metadata": {},
   "outputs": [],
   "source": [
    "del(iF)"
   ]
  },
  {
   "cell_type": "code",
   "execution_count": null,
   "id": "a15d9d24-2f8d-4f10-aefc-cc649d7e996b",
   "metadata": {},
   "outputs": [],
   "source": [
    "print(iF)"
   ]
  },
  {
   "cell_type": "markdown",
   "id": "f9a0c42c-0b8f-4964-8f95-4f3d5722dd81",
   "metadata": {},
   "source": [
    "# 0.5. 연습 답안\n",
    "\n",
    "오늘은 print함수와 input 함수, 그리고 변수의 사용 방법에 대해 배웠습니다.  \n",
    "오늘 배운 것들을 이용해서 다음의 연습문제를 구성해봅시다.  \n",
    "연습문제 : 사용자에게 이름, 학년, 수학성적, 국어성적, 영어성적을 입력받고 이름과 학년, 그리고 모든 성적의 평균을 구하는 프로그램을 만들어보세요.  "
   ]
  },
  {
   "cell_type": "code",
   "execution_count": null,
   "id": "124e52a9-9ed4-44af-8292-2093e0763006",
   "metadata": {},
   "outputs": [],
   "source": [
    "name = input('이름 :')\n",
    "grade = input('학년 :')\n",
    "math = int(input('수학성적 :'))\n",
    "korean = int(input('국어성적 :'))\n",
    "english = int(input('영어성적 :'))\n",
    "sum = (math + korean + english)/3\n",
    "print(f'이름 : {name}, 학년 : {grade}, 평균 : {sum:.2f}')"
   ]
  },
  {
   "cell_type": "markdown",
   "id": "4e37399d-8c70-41e0-abd3-e9d7d7dc1646",
   "metadata": {},
   "source": [
    "#\n",
    "# 1. 자료형\n",
    "# 1.1. 정수형"
   ]
  },
  {
   "cell_type": "markdown",
   "id": "c353826f-f3bc-469c-8a30-582a89b70814",
   "metadata": {},
   "source": [
    "\n",
    "* 가장 간단한 수치형\n",
    "* 소수점 이하 값은 표현할 수 없음\n",
    "* 10진수 아닌 정수는 앞에 접두 붙여 진법 지정, 표시"
   ]
  },
  {
   "cell_type": "code",
   "execution_count": null,
   "id": "3d20145e-bf86-48ad-8174-4ef821855257",
   "metadata": {},
   "outputs": [],
   "source": [
    "a = 12345\n",
    "print(a)"
   ]
  },
  {
   "cell_type": "markdown",
   "id": "cfbaba19-1c81-42e1-b108-3f3e6528c102",
   "metadata": {},
   "source": [
    "진법, 접두, 사용가능 숫자, 예\n",
    "\n",
    "* 16진법(hex), 0x, 0123...9,abc...f, 0x2f\n",
    "* 8진법(oct), 0o, 012...7, 0o17\n",
    "* 2진법(bin), 0b, 0,1, 0b1101"
   ]
  },
  {
   "cell_type": "code",
   "execution_count": null,
   "id": "89c63641-8821-45d3-a30a-4164ba800ac2",
   "metadata": {},
   "outputs": [],
   "source": [
    "a = 0x100\n",
    "print(a)"
   ]
  },
  {
   "cell_type": "code",
   "execution_count": null,
   "id": "3b025a9b-314f-4638-add2-1698c6a9eb0c",
   "metadata": {},
   "outputs": [],
   "source": [
    "a = 0o100\n",
    "print(a)"
   ]
  },
  {
   "cell_type": "code",
   "execution_count": null,
   "id": "5c304a39-9242-4f10-aca0-f8f3a44f3ba0",
   "metadata": {},
   "outputs": [],
   "source": [
    "a = 0b100\n",
    "print(a)"
   ]
  },
  {
   "cell_type": "code",
   "execution_count": null,
   "id": "834b9cd3-4c8d-45ee-ad8f-a3c4adf4297d",
   "metadata": {},
   "outputs": [],
   "source": [
    "print(hex(26))\n",
    "print(oct(26))\n",
    "print(bin(13))"
   ]
  },
  {
   "cell_type": "markdown",
   "id": "82f4fe84-6abc-4d9f-b752-54b0c1e6f83a",
   "metadata": {},
   "source": [
    "## 1.2. 실수형"
   ]
  },
  {
   "cell_type": "markdown",
   "id": "b0237d55-8c15-4a25-a8d0-fe2099d4b1e0",
   "metadata": {},
   "source": [
    "\n",
    "* 소수점 이하 정밀한 값 표현\n",
    "* 아주 크거나 작은 값은 부동 소수점 방식으로 표기\n",
    "* 가수E지수\n",
    "* 9조 4600억 = 9.46e12\n",
    "* 숫자 짧아지고 비교에도 용이함\n",
    "* round 함수 : 반올림을 수행"
   ]
  },
  {
   "cell_type": "code",
   "execution_count": null,
   "id": "ba8f40c3-ee27-4ea0-abcf-1d289869b0e9",
   "metadata": {},
   "outputs": [],
   "source": [
    "print(0.1234)"
   ]
  },
  {
   "cell_type": "code",
   "execution_count": null,
   "id": "a0e9ecb8-bb9d-4f66-9f07-598fc9c9f537",
   "metadata": {},
   "outputs": [],
   "source": [
    "a = 0.1234\n",
    "print(a)"
   ]
  },
  {
   "cell_type": "code",
   "execution_count": null,
   "id": "34574f40-574b-4c11-beca-9a7dc241df52",
   "metadata": {},
   "outputs": [],
   "source": [
    "print(9.46e12)   # 9.46 * 10^12"
   ]
  },
  {
   "cell_type": "code",
   "execution_count": null,
   "id": "05ffed54-9ffd-49cb-bffb-86ed3d5fde5e",
   "metadata": {},
   "outputs": [],
   "source": [
    "print(1e10)    # 1.00 * 10^10"
   ]
  },
  {
   "cell_type": "code",
   "execution_count": null,
   "id": "22062a75-8d45-4647-b632-6c42b6181d25",
   "metadata": {},
   "outputs": [],
   "source": [
    "a = 1e-3    # 1.00 * 10^-3\n",
    "print(a)"
   ]
  },
  {
   "cell_type": "code",
   "execution_count": null,
   "id": "20818e84-5654-4ece-9572-8f423b88c3ca",
   "metadata": {},
   "outputs": [],
   "source": [
    "pi = 3.141592653589793\n",
    "print(round(pi, 2))  # 소수점 둘째 자리까지 반올림\n",
    "print(f\"{pi:.3f}\")   # 소수점 셋째 자리까지 표현"
   ]
  },
  {
   "cell_type": "markdown",
   "id": "8bdc7c14-3519-4fdf-a200-0b92afa337a7",
   "metadata": {},
   "source": [
    "## 1.3. 복소수형"
   ]
  },
  {
   "cell_type": "markdown",
   "id": "d52aa711-af13-4bba-8e79-9206f4b259f3",
   "metadata": {},
   "source": [
    "\n",
    "* 실수부+허수부j\n",
    "* 알파벳 j 접미가 복소수임을 나타냄\n",
    "* 복소수의 실수부와 허수부만 떼어내기 위해 real (실수부), imag (허수부) 매서드를 사용"
   ]
  },
  {
   "cell_type": "code",
   "execution_count": null,
   "id": "7338fc7a-d899-406f-be6f-a2cd643a3131",
   "metadata": {},
   "outputs": [],
   "source": [
    "print(1+2j)"
   ]
  },
  {
   "cell_type": "code",
   "execution_count": null,
   "id": "aef6a33b-f85b-40ee-be26-56cc24552a30",
   "metadata": {},
   "outputs": [],
   "source": [
    "print(3, 1+2j)"
   ]
  },
  {
   "cell_type": "code",
   "execution_count": null,
   "id": "b22842ca-7e99-4c05-b387-d67e9f426e98",
   "metadata": {},
   "outputs": [],
   "source": [
    "a = 1 + 2j\n",
    "b = 2 + 3j\n",
    "print(a+b)\n",
    "print(a-b)\n",
    "print(a*b)\n",
    "print(a/b)\n",
    "print(a.real)\n",
    "print(a.imag)"
   ]
  },
  {
   "cell_type": "markdown",
   "id": "37caa35c-2470-4381-b580-c762b17a0bc2",
   "metadata": {},
   "source": [
    "## 1.4. 문자열"
   ]
  },
  {
   "cell_type": "markdown",
   "id": "8320f989-0274-48bf-898b-e4604fc31d74",
   "metadata": {},
   "source": [
    "\n",
    "* 일련의 문자를 따옴표로 감싸 나열한 것\n",
    "* 각종 문자, 기호, 숫자 등 포함 가능\n",
    "* 따옴표는 따옴표 안에 적을 수 없음\n",
    "* 큰따옴표 포함하려면 문자열을 작은따옴표로 감싸야함.\n",
    "* 한 문자열에 두 따옴표 섞어 사용할 수 없음\n"
   ]
  },
  {
   "cell_type": "code",
   "execution_count": null,
   "id": "a41b52a0-d04e-46c5-a64a-df8dfc4febbc",
   "metadata": {},
   "outputs": [],
   "source": [
    "a = \"Korea 서울 1234\"\n",
    "print(a)"
   ]
  },
  {
   "cell_type": "code",
   "execution_count": null,
   "id": "9a8384b1-fa6b-4f79-bad6-035a631a9f1c",
   "metadata": {},
   "outputs": [],
   "source": [
    "b = 'I say \"help\" to you'\n",
    "print(b)"
   ]
  },
  {
   "cell_type": "markdown",
   "id": "f6cbb33a-4bb8-42b5-800a-7b9554d50c51",
   "metadata": {},
   "source": [
    "* 문자열의 대문자와 소문자로 변환하여 확인하는 매서드 upper, lower\n",
    "* 특정 문자열을 다른 문자열로 변환하는 매서드 replace\n",
    "* 문자열의 문자를 list처럼 분해해서 볼 수 있음"
   ]
  },
  {
   "cell_type": "code",
   "execution_count": null,
   "id": "237a9d97-0ead-4f26-b533-cbd665465a83",
   "metadata": {},
   "outputs": [],
   "source": [
    "text = \"Python Programming\"\n",
    "print(text[0])     # 첫 번째 문자\n",
    "print(text[-1])    # 마지막 문자\n",
    "print(text[7:11])  # 슬라이싱 (7번째부터 11번째 전까지)"
   ]
  },
  {
   "cell_type": "code",
   "execution_count": null,
   "id": "ebb4f40f-230f-4748-9ef7-36d4eac81aad",
   "metadata": {},
   "outputs": [],
   "source": [
    "print(len(text))        # 문자열의 길이\n",
    "print(text.upper())     # 대문자로 변환\n",
    "print(text.lower())     # 소문자로 변환\n",
    "print(text.replace(\"Python\", \"Java\"))  # 문자열 교체"
   ]
  },
  {
   "cell_type": "markdown",
   "id": "577d366e-45c0-4b0f-b0c1-8aa26cb60479",
   "metadata": {},
   "source": [
    "## 1.5. 확장열 (Escape Sequence)\n",
    "\n",
    "* 문자열에서 특수한 역할을 하는 특수 문자열\n",
    "* 따옴표 안에 오기 힘든 다양한 문자들을 \\ 문자 뒤에 표기\n",
    "* \\n : 개행\n",
    "* \\t : 탭\n",
    "* \\\" : 큰따옴표\n",
    "* \\' : 작은따옴표\n",
    "* \\\\ : \\ 문자"
   ]
  },
  {
   "cell_type": "code",
   "execution_count": null,
   "id": "0c63f243-644d-4619-a455-03a5fef64c69",
   "metadata": {},
   "outputs": [],
   "source": [
    "a = \"all\\nmy\\nfriend\"\n",
    "print(a)"
   ]
  },
  {
   "cell_type": "markdown",
   "id": "62079861-b6ff-47aa-ba3c-d8331981a78d",
   "metadata": {},
   "source": [
    "따옴표 3개 연속으로 사용하여 긴 문자열 정의"
   ]
  },
  {
   "cell_type": "code",
   "execution_count": null,
   "id": "3d001fa7-300b-4331-b603-49d717106d73",
   "metadata": {},
   "outputs": [],
   "source": [
    "s = \"\"\"강나루 건너서 밀밭 길을 구름에 달 가듯이 가는 나그네\n",
    "길은 외줄기 남도 삼백리 술 익는 마을마다 타는 저녁놀\n",
    "구름에 달 가듯이 가는 나그네\"\"\"\n",
    "print(s)"
   ]
  },
  {
   "cell_type": "markdown",
   "id": "b2b85e30-2191-4e60-b155-d05b45347f74",
   "metadata": {},
   "source": [
    "계속문자  \\  사용하는 것도 가능"
   ]
  },
  {
   "cell_type": "code",
   "execution_count": null,
   "id": "f00759e7-dc36-4e59-9f83-85c9f2ff3d42",
   "metadata": {},
   "outputs": [],
   "source": [
    "s = \"강나루 건너서 밀밭 길을 구름에 달 가듯이 가는 나그네 \\\n",
    "길은 외줄기 남도 삼백리 술 익는 마을마다 타는 저녁놀 \\\n",
    "구름에 달 가듯이 가는 나그네\"\n",
    "print(s)"
   ]
  },
  {
   "cell_type": "markdown",
   "id": "60cf23ca-bebe-4847-91f7-56fb419009c8",
   "metadata": {},
   "source": [
    "* 코드에서도 활용 가능\n",
    "* 들여쓰기는 무관함\n",
    "* 개행하려면  \\n  확장열  사용"
   ]
  },
  {
   "cell_type": "code",
   "execution_count": null,
   "id": "29f75be6-2ee0-436a-abd6-190adaf33a28",
   "metadata": {},
   "outputs": [],
   "source": [
    "totalsec = 365 * 24 * \\\n",
    "           60 * 60\n",
    "print(totalsec)"
   ]
  },
  {
   "cell_type": "code",
   "execution_count": null,
   "id": "ba044005-00cb-4e5c-9700-5c6205e11a8b",
   "metadata": {},
   "outputs": [],
   "source": [
    "s = \"korea\" \"japan\" \"2002\"\n",
    "print(s)"
   ]
  },
  {
   "cell_type": "markdown",
   "id": "3c22f736-7f7f-4f4b-ab4e-15742086403b",
   "metadata": {},
   "source": [
    "전체를 괄호로 묶어서, 여러 개 문자열 개행한 것을 긴 문자열로 만듦"
   ]
  },
  {
   "cell_type": "code",
   "execution_count": null,
   "id": "9b1fbcf8-a1db-451b-b845-585e1ecd162b",
   "metadata": {},
   "outputs": [],
   "source": [
    "s = (\"korea\"\n",
    "     \"japan\"\n",
    "     \"2002\")\n",
    "print(s)"
   ]
  },
  {
   "cell_type": "markdown",
   "id": "0f2a8d82-f7a1-49b4-a0a2-99e96ba58836",
   "metadata": {},
   "source": [
    "유니코드 : 다양한 문자 및 숫자들을 컴퓨터가 인식하도록 각 번호에 문자를 할당"
   ]
  },
  {
   "cell_type": "markdown",
   "id": "26ab42ec-ac36-459b-8780-f2b236c7254c",
   "metadata": {},
   "source": [
    "유니코드 문자 및 숫자를 표현하는 방법 : ord, chr"
   ]
  },
  {
   "cell_type": "markdown",
   "id": "90df0907-1c00-4e52-bc86-9ce5d0135b41",
   "metadata": {},
   "source": [
    "*  ord(문자) :하나의 문자를 인자로 받고 해당 문자에 해당하는 유니코드 정수를 반환\n",
    "* ord('a')를 넣으면 정수 97을 반환합니다.\n",
    "* chr(정수) : 하나의 정수를 인자로 받고 해당 정수에 해당하는 유니코드 문자를 반환\n",
    "* 인자(정수)의 유효 범위는 0 ~ 1,114,111 (16진수 0x10 FFFF)까지 입니다.\n",
    "* chr(97)을 하면 문자 'a'를 반환합니다."
   ]
  },
  {
   "cell_type": "code",
   "execution_count": null,
   "id": "50cd04e1-868d-4e5e-a837-92eca4730c67",
   "metadata": {},
   "outputs": [],
   "source": [
    "print(ord('a'))\n",
    "print(chr(98))\n",
    "for c in range(ord('A'), ord('Z') + 1):\n",
    "    print(chr(c), end = '')"
   ]
  },
  {
   "cell_type": "markdown",
   "id": "86c5b17d-9c58-4e35-9bf8-72ee1e5d7907",
   "metadata": {},
   "source": [
    "# 2. 연습"
   ]
  },
  {
   "cell_type": "markdown",
   "id": "31399fde-3990-448b-8d8e-1a05f5ce823f",
   "metadata": {},
   "source": [
    "오늘은 여러가지 자료형들에 대해 배웠습니다.\n",
    "\n",
    "오늘 배운 것들을 이용해서 다음의 연습문제를 구성해봅시다.\n",
    "\n",
    "연습문제 : 다음 나와있는 변수를 활용하여, print 함수를 하나만 사용해서 다음 문자열이 나오는 코드를 만드세요.\n",
    "\n",
    "문자열 : \n",
    "\n",
    "\" + 강아지 + \\ + ' + 고양이 + \\ + ' + 닭 + 염소 + 호랑이 + \"\r\n"
   ]
  },
  {
   "cell_type": "code",
   "execution_count": null,
   "id": "73fdaeb4-0d40-4f0d-bed9-ed8ac2a94d0c",
   "metadata": {},
   "outputs": [],
   "source": [
    "a = \"강아지\"\n",
    "b = \"고양이\"\n",
    "c = \"닭\"\n",
    "d = \"염소\"\n",
    "e = \"호랑이\""
   ]
  },
  {
   "cell_type": "code",
   "execution_count": null,
   "id": "c464e622-afd8-434d-8b44-9481036cba2a",
   "metadata": {},
   "outputs": [],
   "source": []
  },
  {
   "cell_type": "markdown",
   "id": "13975bfb-23e1-4067-958a-2e2babcaad93",
   "metadata": {},
   "source": [
    "# 2.1. 연습 2\n",
    "연습문제 2 : 숫자 257을 16진수, 8진수로 얼만지 확인하는 코드를 작성하세요. 해당 값을 확인하면 이를 역으로 257를 반환하는 코드를 작성하세요."
   ]
  },
  {
   "cell_type": "code",
   "execution_count": null,
   "id": "c1c0a8ed-985e-46da-86a5-7ee38610291c",
   "metadata": {},
   "outputs": [],
   "source": []
  },
  {
   "cell_type": "code",
   "execution_count": null,
   "id": "f66338b1-8eb6-44a7-97b2-852bb09efc45",
   "metadata": {},
   "outputs": [],
   "source": []
  }
 ],
 "metadata": {
  "kernelspec": {
   "display_name": "Python 3 (ipykernel)",
   "language": "python",
   "name": "python3"
  },
  "language_info": {
   "codemirror_mode": {
    "name": "ipython",
    "version": 3
   },
   "file_extension": ".py",
   "mimetype": "text/x-python",
   "name": "python",
   "nbconvert_exporter": "python",
   "pygments_lexer": "ipython3",
   "version": "3.11.5"
  }
 },
 "nbformat": 4,
 "nbformat_minor": 5
}
