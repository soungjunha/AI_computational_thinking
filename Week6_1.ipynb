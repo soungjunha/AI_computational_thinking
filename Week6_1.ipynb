{
 "cells": [
  {
   "cell_type": "markdown",
   "id": "b39b24a2-1309-4d76-8579-8c92caefd2f6",
   "metadata": {},
   "source": [
    "# Week 6 (1) - 반복문 + list\n",
    "### 인공지능과 컴퓨팅 사고 - AI Computational Thinking\n",
    "##### Author : Jihyeon Ryu\n",
    "##### Date : 2024-10-7 (Mon)"
   ]
  },
  {
   "cell_type": "markdown",
   "id": "4aa4a0ec-a173-4d0e-924d-302afbfff3aa",
   "metadata": {},
   "source": [
    "# 1. 배운 것들로 연습해보기"
   ]
  },
  {
   "cell_type": "markdown",
   "id": "556f92db-7ee0-4e8b-9d65-526a636c56e4",
   "metadata": {},
   "source": [
    "### (문제 1) 1부터 100까지의 숫자 중에서 짝수만 출력하는 프로그램을 작성하세요."
   ]
  },
  {
   "cell_type": "code",
   "execution_count": 29,
   "id": "a16c50b3-cb99-4b69-95da-c2ca3c678652",
   "metadata": {},
   "outputs": [
    {
     "name": "stdout",
     "output_type": "stream",
     "text": [
      "2 4 6 8 10 12 14 16 18 20 22 24 26 28 30 32 34 36 38 40 42 44 46 48 50 52 54 56 58 60 62 64 66 68 70 72 74 76 78 80 82 84 86 88 90 92 94 96 98 100 "
     ]
    }
   ],
   "source": [
    "# 반복문을 사용하여 짝수만 출력하는 파이썬 프로그램\n",
    "for i in range(1, 101):\n",
    "    if i % 2 == 0:\n",
    "        print(i, end = ' ')\n"
   ]
  },
  {
   "cell_type": "code",
   "execution_count": 30,
   "id": "989a5843-ea6f-4e8b-9e65-45d7236029e3",
   "metadata": {},
   "outputs": [
    {
     "name": "stdout",
     "output_type": "stream",
     "text": [
      "2 4 6 8 10 12 14 16 18 20 22 24 26 28 30 32 34 36 38 40 42 44 46 48 50 52 54 56 58 60 62 64 66 68 70 72 74 76 78 80 82 84 86 88 90 92 94 96 98 100 "
     ]
    }
   ],
   "source": [
    "# 반복문을 사용하여 짝수만 출력하는 파이썬 프로그램\n",
    "for i in range(2, 101, 2):\n",
    "    print(i, end = ' ')\n"
   ]
  },
  {
   "cell_type": "markdown",
   "id": "23281218-6437-437a-90be-b5d5b358ffc3",
   "metadata": {},
   "source": [
    "### (문제 2) 사용자로부터 양의 정수 n을 입력받고, 1부터 n까지의 모든 숫자를 더한 값을 계산하는 프로그램을 작성하세요."
   ]
  },
  {
   "cell_type": "code",
   "execution_count": 32,
   "id": "125f9b27-be97-4b70-bda2-ba76f3b7f0c3",
   "metadata": {},
   "outputs": [
    {
     "name": "stdin",
     "output_type": "stream",
     "text": [
      "양의 정수를 입력하세요:  10000\n"
     ]
    },
    {
     "name": "stdout",
     "output_type": "stream",
     "text": [
      "1부터 10000 까지의 합은 50005000 입니다.\n"
     ]
    }
   ],
   "source": [
    "# 사용자로부터 양의 정수 n을 입력받음\n",
    "n = int(input(\"양의 정수를 입력하세요: \"))\n",
    "\n",
    "# 합계를 초기화\n",
    "total = 0\n",
    "\n",
    "# 1부터 n까지의 숫자를 더함\n",
    "for i in range(1, n + 1):\n",
    "    total += i ## total = total + i\n",
    "\n",
    "# 결과 출력\n",
    "print(\"1부터\", n, \"까지의 합은\", total, \"입니다.\")\n"
   ]
  },
  {
   "cell_type": "markdown",
   "id": "de6cb654-af62-4995-a204-ae72949a03aa",
   "metadata": {},
   "source": [
    "### (문제 3) 소수는 1과 자기 자신으로만 나누어 떨어지는 자연수입니다. 주어진 자연수가 소수인지 아닌지를 판별하는 프로그램을 작성하세요. 다음의 조건을 만족해야 합니다.\n",
    "* 사용자로부터 하나의 자연수를 입력받습니다.\n",
    "* 입력된 수가 소수인 경우, \"입력한 숫자는 소수입니다.\"라는 메시지를 출력합니다.\n",
    "* 입력된 수가 소수가 아닌 경우, \"입력한 숫자는 소수가 아닙니다.\"라는 메시지를 출력합니다.\n",
    "* 입력된 수가 1 이하인 경우, \"잘못된 입력입니다.\"라는 메시지를 출력합니다."
   ]
  },
  {
   "cell_type": "code",
   "execution_count": 34,
   "id": "f42fae0a-5056-4ffd-b183-5af10f7057fb",
   "metadata": {},
   "outputs": [
    {
     "name": "stdin",
     "output_type": "stream",
     "text": [
      "양의 정수 n을 입력하세요:  15\n"
     ]
    },
    {
     "name": "stdout",
     "output_type": "stream",
     "text": [
      "입력한 숫자는 소수가 아닙니다.\n"
     ]
    }
   ],
   "source": [
    "# 사용자로부터 양의 정수 n을 입력받음\n",
    "num = int(input(\"양의 정수 n을 입력하세요: \"))\n",
    "\n",
    "if num > 1:\n",
    "    is_prime = True\n",
    "    for i in range(2, int(num**0.5) + 1): ### root(num) num^0.5\n",
    "        if num % i == 0:\n",
    "            is_prime = False\n",
    "            break\n",
    "    if is_prime:\n",
    "        print(\"입력한 숫자는 소수입니다.\")\n",
    "    else:\n",
    "        print(\"입력한 숫자는 소수가 아닙니다.\")\n",
    "else:\n",
    "    print(\"잘못된 입력입니다.\")"
   ]
  },
  {
   "cell_type": "code",
   "execution_count": 36,
   "id": "1dcc3f5b-ce95-4aca-8fbb-0d0d7a8b9335",
   "metadata": {},
   "outputs": [
    {
     "name": "stdin",
     "output_type": "stream",
     "text": [
      "양의 정수 n을 입력하세요:  9\n"
     ]
    },
    {
     "name": "stdout",
     "output_type": "stream",
     "text": [
      "입력한 숫자는 소수가 아닙니다.\n"
     ]
    }
   ],
   "source": [
    "# 사용자로부터 양의 정수 n을 입력받음\n",
    "num = int(input(\"양의 정수 n을 입력하세요: \"))\n",
    "\n",
    "if num > 1:\n",
    "    is_prime = 0\n",
    "    for i in range(2, num): ### num - 1\n",
    "        if num % i == 0:\n",
    "            is_prime = 1\n",
    "            break\n",
    "    if is_prime == 0:\n",
    "        print(\"입력한 숫자는 소수입니다.\")\n",
    "    else:\n",
    "        print(\"입력한 숫자는 소수가 아닙니다.\")\n",
    "else:\n",
    "    print(\"잘못된 입력입니다.\")"
   ]
  },
  {
   "cell_type": "markdown",
   "id": "8515f152-3ada-465f-ad01-f86b5eae2faf",
   "metadata": {},
   "source": [
    "### (문제 4) 사용자로부터 양의 정수 n을 입력받고, 2부터 n까지의 모든 소수를 출력하는 프로그램을 작성하세요."
   ]
  },
  {
   "cell_type": "code",
   "execution_count": 37,
   "id": "35993b5a-923d-4c86-a87c-d5ccc2311ac8",
   "metadata": {},
   "outputs": [
    {
     "name": "stdin",
     "output_type": "stream",
     "text": [
      "양의 정수 n을 입력하세요:  20\n"
     ]
    },
    {
     "name": "stdout",
     "output_type": "stream",
     "text": [
      "2부터 20 까지의 소수:\n",
      "2\n",
      "3\n",
      "5\n",
      "7\n",
      "11\n",
      "13\n",
      "17\n",
      "19\n"
     ]
    }
   ],
   "source": [
    "# 사용자로부터 양의 정수 n을 입력받음\n",
    "n = int(input(\"양의 정수 n을 입력하세요: \"))\n",
    "\n",
    "# 2부터 n까지의 모든 숫자를 검사하여 소수를 찾음\n",
    "print(\"2부터\", n, \"까지의 소수:\")\n",
    "for num in range(2, n + 1):\n",
    "    is_prime = True\n",
    "    for i in range(2, int(num**0.5) + 1):\n",
    "        if num % i == 0:\n",
    "            is_prime = False\n",
    "            break\n",
    "    if is_prime:\n",
    "        print(num)\n"
   ]
  },
  {
   "cell_type": "code",
   "execution_count": 38,
   "id": "58363b0e-aa77-4340-800f-95343b48f723",
   "metadata": {},
   "outputs": [
    {
     "name": "stdin",
     "output_type": "stream",
     "text": [
      "양의 정수 n을 입력하세요:  20\n"
     ]
    },
    {
     "name": "stdout",
     "output_type": "stream",
     "text": [
      "2부터 20 까지의 소수:\n",
      "2\n",
      "3\n",
      "5\n",
      "7\n",
      "11\n",
      "13\n",
      "17\n",
      "19\n"
     ]
    }
   ],
   "source": [
    "# 사용자로부터 양의 정수 n을 입력받음\n",
    "n = int(input(\"양의 정수 n을 입력하세요: \"))\n",
    "\n",
    "# 2부터 n까지의 모든 숫자를 검사하여 소수를 찾음\n",
    "print(\"2부터\", n, \"까지의 소수:\")\n",
    "for num in range(2, n + 1):\n",
    "    is_prime = 0\n",
    "    for i in range(2, num):\n",
    "        if num % i == 0:\n",
    "            is_prime = 1\n",
    "            break\n",
    "    if is_prime == 0:\n",
    "        print(num)\n"
   ]
  },
  {
   "cell_type": "code",
   "execution_count": 2,
   "id": "953800f4-5a8a-424c-8d45-36f4234c12ba",
   "metadata": {},
   "outputs": [
    {
     "name": "stdin",
     "output_type": "stream",
     "text": [
      "양의 정수 n을 입력하세요:  19\n"
     ]
    },
    {
     "name": "stdout",
     "output_type": "stream",
     "text": [
      "2부터 19 까지의 소수:\n",
      "2\n",
      "3\n",
      "5\n",
      "7\n",
      "11\n",
      "13\n",
      "17\n",
      "19\n"
     ]
    }
   ],
   "source": [
    "# 사용자로부터 양의 정수 n을 입력받음\n",
    "n = int(input(\"양의 정수 n을 입력하세요: \"))\n",
    "\n",
    "# 2부터 n까지의 모든 숫자를 검사하여 소수를 찾음\n",
    "print(\"2부터\", n, \"까지의 소수:\")\n",
    "for num in range(2, n + 1):\n",
    "    is_prime = 0\n",
    "    for i in range(2, num):\n",
    "        if num % i == 0:\n",
    "            is_prime = 1\n",
    "    if is_prime == 0:\n",
    "        print(num)\n"
   ]
  },
  {
   "cell_type": "markdown",
   "id": "48f58ad5-5597-4657-bf72-b7ee3cb7409a",
   "metadata": {},
   "source": [
    "### (문제 5) 사용자로부터 양의 정수 n을 입력받고, n번째 피보나치 수를 계산하여 출력하는 프로그램을 작성하세요. 단, 첫번째 피보나치 수는 0, 두번째 피보나치 수는 1이며, n번째 피보나치 수 $f_n$은 $f_n = f_{n-1} + f_{n-2}$ 를 만족합니다."
   ]
  },
  {
   "cell_type": "code",
   "execution_count": 39,
   "id": "a9d0bbf4-e7ef-4cf8-858e-b376a2587f4b",
   "metadata": {},
   "outputs": [
    {
     "name": "stdin",
     "output_type": "stream",
     "text": [
      "양의 정수 n을 입력하세요:  11\n"
     ]
    },
    {
     "name": "stdout",
     "output_type": "stream",
     "text": [
      "11번째 피보나치 수는 55입니다.\n"
     ]
    }
   ],
   "source": [
    "# 사용자로부터 양의 정수 n을 입력받음\n",
    "n = int(input(\"양의 정수 n을 입력하세요: \"))\n",
    "\n",
    "# 초기 피보나치 수 초기화\n",
    "fibonacci_0 = 0\n",
    "fibonacci_1 = 1\n",
    "\n",
    "# n번째 피보나치 수 계산\n",
    "if n <= 0:\n",
    "    result = \"유효하지 않은 입력입니다.\"\n",
    "elif n == 1:\n",
    "    result = fibonacci_0\n",
    "elif n == 2:\n",
    "    result = fibonacci_1\n",
    "else:\n",
    "    for i in range(2, n):    ###0 1 0+1=1 1+1=2 1+2=3 5 8...\n",
    "        fibonacci_next = fibonacci_0 + fibonacci_1  ### fn = fn-2 + fn-1  #### fn+1 = fn-1 + fn \n",
    "        fibonacci_0 = fibonacci_1   ## fn-2 => fn-1\n",
    "        fibonacci_1 = fibonacci_next  ### fn-1 => fn\n",
    "result = fibonacci_1\n",
    "print(n,\"번째 피보나치 수는 \", result, \"입니다.\", sep = \"\")\n"
   ]
  },
  {
   "cell_type": "markdown",
   "id": "36be5fcd-b7ef-474a-9eaa-9a3db7db51c3",
   "metadata": {},
   "source": [
    "### (문제 6) 사용자로부터 양의 정수 n을 입력받고, 다음과 같은 다이아몬드 형태를 출력하는 프로그램을 작성하세요 (n = 4 예시)"
   ]
  },
  {
   "cell_type": "code",
   "execution_count": null,
   "id": "9dd746ee-438c-47f0-98bb-b55d195505c5",
   "metadata": {},
   "outputs": [],
   "source": [
    "   *  \n",
    "  ***  \n",
    " *****  \n",
    "*******  \n",
    " *****  \n",
    "  ***  \n",
    "   *"
   ]
  },
  {
   "cell_type": "code",
   "execution_count": 41,
   "id": "46afd0c4-03ee-4c81-9df0-e4594e3ef165",
   "metadata": {},
   "outputs": [
    {
     "name": "stdin",
     "output_type": "stream",
     "text": [
      "양의 정수 n을 입력하세요:  10\n"
     ]
    },
    {
     "name": "stdout",
     "output_type": "stream",
     "text": [
      "         *\n",
      "        ***\n",
      "       *****\n",
      "      *******\n",
      "     *********\n",
      "    ***********\n",
      "   *************\n",
      "  ***************\n",
      " *****************\n",
      "*******************\n",
      " *****************\n",
      "  ***************\n",
      "   *************\n",
      "    ***********\n",
      "     *********\n",
      "      *******\n",
      "       *****\n",
      "        ***\n",
      "         *\n"
     ]
    }
   ],
   "source": [
    "# 사용자로부터 양의 정수 n을 입력받음\n",
    "n = int(input(\"양의 정수 n을 입력하세요: \"))\n",
    "\n",
    "# 위쪽 다이아몬드 출력\n",
    "for i in range(1, n + 1):\n",
    "    spaces = ' ' * (n - i)\n",
    "    stars = '*' * (2 * i - 1)\n",
    "    print(spaces + stars)\n",
    "\n",
    "# 아래쪽 다이아몬드 출력\n",
    "for i in range(n - 1, 0, -1):\n",
    "    spaces = ' ' * (n - i)\n",
    "    stars = '*' * (2 * i - 1)\n",
    "    print(spaces + stars)\n"
   ]
  },
  {
   "cell_type": "markdown",
   "id": "4392aace-8c7b-4795-8fb6-dd8b59c0bf19",
   "metadata": {},
   "source": [
    "### (문제 7) 사용자로부터 양의 정수 n을 입력받고, 다음과 같은 모래시계 모양을 출력하는 프로그램을 작성하세요 (n = 5 예시)"
   ]
  },
  {
   "cell_type": "code",
   "execution_count": null,
   "id": "26fa6b40-6bdc-4fe6-a91f-cc2996c06593",
   "metadata": {},
   "outputs": [],
   "source": [
    "*********\n",
    " *******\n",
    "  *****\n",
    "   ***\n",
    "    *\n",
    "   ***\n",
    "  *****\n",
    " *******\n",
    "*********"
   ]
  },
  {
   "cell_type": "code",
   "execution_count": 3,
   "id": "16b5cebe-a045-45a7-a135-6d6479ca92d5",
   "metadata": {},
   "outputs": [
    {
     "name": "stdin",
     "output_type": "stream",
     "text": [
      "양의 정수 n을 입력하세요:  5\n"
     ]
    },
    {
     "name": "stdout",
     "output_type": "stream",
     "text": [
      "*********\n",
      " *******\n",
      "  *****\n",
      "   ***\n",
      "    *\n",
      "   ***\n",
      "  *****\n",
      " *******\n",
      "*********\n"
     ]
    }
   ],
   "source": [
    "# 사용자로부터 양의 정수 n을 입력받음\n",
    "n = int(input(\"양의 정수 n을 입력하세요: \"))\n",
    "\n",
    "# 모래시계 모양 출력 (상단부분)\n",
    "for i in range(n, 0, -1):\n",
    "    spaces_before = ' ' * (n - i)\n",
    "    stars = '*' * (2 * i - 1)\n",
    "    print(spaces_before + stars)\n",
    "\n",
    "# 모래시계 모양 출력 (하단부분)\n",
    "for i in range(2, n + 1):\n",
    "    spaces_before = ' ' * (n - i)\n",
    "    stars = '*' * (2 * i - 1)\n",
    "    print(spaces_before + stars)\n"
   ]
  },
  {
   "cell_type": "markdown",
   "id": "029f6473-a03d-4cfa-8408-9f675fa38519",
   "metadata": {},
   "source": [
    "### (문제 8) 다음과 같은 패턴으로 숫자를 출력하는 프로그램을 작성하세요 (n = 5 예시)."
   ]
  },
  {
   "cell_type": "code",
   "execution_count": null,
   "id": "b1159f4b-7ef3-46a1-8397-11834df2a6ec",
   "metadata": {},
   "outputs": [],
   "source": [
    "1 2 3 4 5 \n",
    "10 9 8 7 6 \n",
    "11 12 13 14 15 \n",
    "20 19 18 17 16 \n",
    "21 22 23 24 25 "
   ]
  },
  {
   "cell_type": "code",
   "execution_count": 44,
   "id": "17d34715-c28e-4f23-86f9-2300e15e7190",
   "metadata": {},
   "outputs": [
    {
     "name": "stdin",
     "output_type": "stream",
     "text": [
      "양의 정수 n을 입력하세요:  9\n"
     ]
    },
    {
     "name": "stdout",
     "output_type": "stream",
     "text": [
      "1 2 3 4 5 6 7 8 9 \n",
      "18 17 16 15 14 13 12 11 10 \n",
      "19 20 21 22 23 24 25 26 27 \n",
      "36 35 34 33 32 31 30 29 28 \n",
      "37 38 39 40 41 42 43 44 45 \n",
      "54 53 52 51 50 49 48 47 46 \n",
      "55 56 57 58 59 60 61 62 63 \n",
      "72 71 70 69 68 67 66 65 64 \n",
      "73 74 75 76 77 78 79 80 81 \n"
     ]
    }
   ],
   "source": [
    "# 사용자로부터 양의 정수 n을 입력받음\n",
    "n = int(input(\"양의 정수 n을 입력하세요: \"))\n",
    "\n",
    "# 패턴대로 숫자 출력\n",
    "num = 1\n",
    "for i in range(1, n + 1):\n",
    "    for j in range(1, n + 1):\n",
    "        if i % 2 == 1:\n",
    "            if i!=1 and j == 1:\n",
    "                num = num + n+1\n",
    "            print(num, end=\" \")\n",
    "            num = num + 1\n",
    "        else:\n",
    "            if j == 1:\n",
    "                num = num + n-1\n",
    "            print(num, end=\" \")\n",
    "            num = num - 1\n",
    "    print()"
   ]
  },
  {
   "cell_type": "code",
   "execution_count": 50,
   "id": "ef9bab8d-3cd2-4335-b103-5319653df0a7",
   "metadata": {},
   "outputs": [
    {
     "name": "stdin",
     "output_type": "stream",
     "text": [
      "양의 정수 n을 입력하세요:  10\n"
     ]
    },
    {
     "name": "stdout",
     "output_type": "stream",
     "text": [
      " 1  2  3  4  5  6  7  8  9 10 \n",
      "20 19 18 17 16 15 14 13 12 11 \n",
      "21 22 23 24 25 26 27 28 29 30 \n",
      "40 39 38 37 36 35 34 33 32 31 \n",
      "41 42 43 44 45 46 47 48 49 50 \n",
      "60 59 58 57 56 55 54 53 52 51 \n",
      "61 62 63 64 65 66 67 68 69 70 \n",
      "80 79 78 77 76 75 74 73 72 71 \n",
      "81 82 83 84 85 86 87 88 89 90 \n",
      "100 99 98 97 96 95 94 93 92 91 \n",
      "\n",
      "1 2 3 4 5 6 7 8 9 10 \n",
      "20 19 18 17 16 15 14 13 12 11 \n",
      "21 22 23 24 25 26 27 28 29 30 \n",
      "40 39 38 37 36 35 34 33 32 31 \n",
      "41 42 43 44 45 46 47 48 49 50 \n",
      "60 59 58 57 56 55 54 53 52 51 \n",
      "61 62 63 64 65 66 67 68 69 70 \n",
      "80 79 78 77 76 75 74 73 72 71 \n",
      "81 82 83 84 85 86 87 88 89 90 \n",
      "100 99 98 97 96 95 94 93 92 91 \n"
     ]
    }
   ],
   "source": [
    "# 사용자로부터 양의 정수 n을 입력받음\n",
    "n = int(input(\"양의 정수 n을 입력하세요: \"))\n",
    "\n",
    "# 패턴대로 숫자 출력\n",
    "matrix = [[0] * n for _ in range(n)] ###[[0 0 0 0 0],[0 0 0 0 0], ... , [0 0 0 0 0]]\n",
    "num = 1\n",
    "for i in range(n):\n",
    "    if i % 2 == 0:\n",
    "        for j in range(n):\n",
    "            matrix[i][j] = num\n",
    "            num += 1\n",
    "    else:\n",
    "        for j in range(n - 1, -1, -1):\n",
    "            matrix[i][j] = num\n",
    "            num += 1\n",
    "\n",
    "# 결과 출력\n",
    "for row in matrix: ###[12345]\n",
    "    for num in row:\n",
    "        print(f\"{num:2d}\", end=\" \")\n",
    "    print()\n",
    "\n",
    "print()\n",
    "for i in range(n):\n",
    "    for j in range(n):\n",
    "        print(matrix[i][j], end=\" \")\n",
    "    print()"
   ]
  },
  {
   "cell_type": "markdown",
   "id": "12f4084f-21c4-4b21-acbd-7959727e0116",
   "metadata": {},
   "source": [
    "### (문제 9) 다음과 같은 패턴으로 숫자를 출력하는 프로그램을 작성하세요 (n = 5 예시)."
   ]
  },
  {
   "cell_type": "code",
   "execution_count": null,
   "id": "536f5db2-1cb0-4625-9be9-2a0d6c4d3c9a",
   "metadata": {},
   "outputs": [],
   "source": [
    "1 10 11 20 21\n",
    "2 9 12 19 22\n",
    "3 8 13 18 23\n",
    "4 7 14 17 24\n",
    "5 6 15 16 25"
   ]
  },
  {
   "cell_type": "code",
   "execution_count": 52,
   "id": "db6a78da-a7a5-4be8-acf0-733b070f097d",
   "metadata": {},
   "outputs": [
    {
     "name": "stdin",
     "output_type": "stream",
     "text": [
      "양의 정수 n을 입력하세요:  10\n"
     ]
    },
    {
     "name": "stdout",
     "output_type": "stream",
     "text": [
      "1 20 21 40 41 60 61 80 81 100 \n",
      "2 19 22 39 42 59 62 79 82 99 \n",
      "3 18 23 38 43 58 63 78 83 98 \n",
      "4 17 24 37 44 57 64 77 84 97 \n",
      "5 16 25 36 45 56 65 76 85 96 \n",
      "6 15 26 35 46 55 66 75 86 95 \n",
      "7 14 27 34 47 54 67 74 87 94 \n",
      "8 13 28 33 48 53 68 73 88 93 \n",
      "9 12 29 32 49 52 69 72 89 92 \n",
      "10 11 30 31 50 51 70 71 90 91 \n"
     ]
    }
   ],
   "source": [
    "# 사용자로부터 양의 정수 n을 입력받음\n",
    "n = int(input(\"양의 정수 n을 입력하세요: \"))\n",
    "\n",
    "# 패턴대로 숫자 출력\n",
    "num = 1\n",
    "for i in range(1, n + 1):\n",
    "    for j in range(1, n + 1):\n",
    "        if j % 2 != 0:\n",
    "            num = i + (j - 1) * n\n",
    "        else:\n",
    "            num = j * n - (i-1)\n",
    "        print(num, end=\" \")\n",
    "    print()"
   ]
  },
  {
   "cell_type": "code",
   "execution_count": 53,
   "id": "350f6911-e4f7-4f4e-b863-7f0af22fa74e",
   "metadata": {},
   "outputs": [
    {
     "name": "stdin",
     "output_type": "stream",
     "text": [
      "양의 정수 n을 입력하세요:  10\n"
     ]
    },
    {
     "name": "stdout",
     "output_type": "stream",
     "text": [
      " 1 20 21 40 41 60 61 80 81 100 \n",
      " 2 19 22 39 42 59 62 79 82 99 \n",
      " 3 18 23 38 43 58 63 78 83 98 \n",
      " 4 17 24 37 44 57 64 77 84 97 \n",
      " 5 16 25 36 45 56 65 76 85 96 \n",
      " 6 15 26 35 46 55 66 75 86 95 \n",
      " 7 14 27 34 47 54 67 74 87 94 \n",
      " 8 13 28 33 48 53 68 73 88 93 \n",
      " 9 12 29 32 49 52 69 72 89 92 \n",
      "10 11 30 31 50 51 70 71 90 91 \n"
     ]
    }
   ],
   "source": [
    "# 사용자로부터 양의 정수 n을 입력받음\n",
    "n = int(input(\"양의 정수 n을 입력하세요: \"))\n",
    "\n",
    "# 패턴대로 숫자 출력\n",
    "matrix = [[0] * n for _ in range(n)]\n",
    "num = 1\n",
    "\n",
    "for j in range(n):\n",
    "    if j % 2 == 0:\n",
    "        for i in range(n):\n",
    "            matrix[i][j] = num\n",
    "            num += 1\n",
    "    else:\n",
    "        for i in range(n - 1, -1, -1):\n",
    "            matrix[i][j] = num\n",
    "            num += 1\n",
    "\n",
    "# 결과 출력\n",
    "for i in range(n):\n",
    "    for j in range(n):\n",
    "        print(f\"{matrix[i][j]:2d}\", end=\" \")\n",
    "    print()\n"
   ]
  },
  {
   "cell_type": "markdown",
   "id": "cf51515e-f483-4e87-a426-dba06ff1bd12",
   "metadata": {},
   "source": [
    "# 2. 리스트"
   ]
  },
  {
   "cell_type": "markdown",
   "id": "5ddcc0d3-54d4-4d74-a602-24faaa8191c5",
   "metadata": {},
   "source": [
    "리스트 (List)\n",
    "* 자료의 집합\n",
    "* 리스트는 여러 개 값을 집합적으로 저장\n",
    "  \n",
    "요소 (Element)\n",
    "* 리스트에 소속되는 각각의 값 \n",
    "* 리스트에는 주로 같은 타입 요소를 모음  "
   ]
  },
  {
   "cell_type": "code",
   "execution_count": 54,
   "id": "eae37257-4561-4c88-b8a4-a786f4de4aa6",
   "metadata": {},
   "outputs": [
    {
     "name": "stdout",
     "output_type": "stream",
     "text": [
      "총점 :  452\n",
      "평균 :  90.4\n"
     ]
    }
   ],
   "source": [
    "\n",
    "# =============== listscore  ===============\n",
    "score = [ 88, 95, 70, 100, 99 ]\n",
    "sum = 0\n",
    "for s in score:\n",
    "    sum += s\n",
    "print(\"총점 : \", sum)\n",
    "print(\"평균 : \", sum / len(score))\n"
   ]
  },
  {
   "cell_type": "markdown",
   "id": "e380e994-4254-43ae-b1ab-63470b65ec3d",
   "metadata": {},
   "source": [
    "개별 요소 읽기와 요소의 범위 지정"
   ]
  },
  {
   "cell_type": "code",
   "execution_count": 55,
   "id": "3c4323c2-d24f-438c-ae99-27f4a092c94c",
   "metadata": {},
   "outputs": [
    {
     "name": "stdout",
     "output_type": "stream",
     "text": [
      "[2, 3, 4]\n",
      "[0, 1, 2, 3]\n",
      "[6, 7, 8, 9]\n",
      "[1, 3, 5]\n"
     ]
    }
   ],
   "source": [
    "\n",
    "# =============== listslice  ===============\n",
    "nums = [0,1,2,3,4,5,6,7,8,9]\n",
    "print(nums[2:5])        # 2~5까지\n",
    "print(nums[:4])         # 처음부터 4까지\n",
    "print(nums[6:])         # 6에서 끝까지\n",
    "print(nums[1:7:2])      # 1~7까지 하나씩 건너뛰며\n"
   ]
  },
  {
   "cell_type": "code",
   "execution_count": 56,
   "id": "a18b89a7-d7ad-4c86-8cf8-0ce5c13d3053",
   "metadata": {},
   "outputs": [
    {
     "name": "stdout",
     "output_type": "stream",
     "text": [
      "70\n",
      "[88, 95, 70, 100, 99]\n",
      "55\n",
      "[88, 95, 55, 100, 99]\n"
     ]
    }
   ],
   "source": [
    "\n",
    "# =============== listassign  ===============\n",
    "score = [ 88, 95, 70, 100, 99 ]\n",
    "print(score[2])     # 70\n",
    "print(score)    \n",
    "score[2] = 55       # 값 변경\n",
    "print(score[2])     # 55\n",
    "print(score)    \n"
   ]
  },
  {
   "cell_type": "code",
   "execution_count": 57,
   "id": "dd37b1a1-890c-4f73-88b9-c8c838c23fb3",
   "metadata": {},
   "outputs": [
    {
     "name": "stdout",
     "output_type": "stream",
     "text": [
      "[0, 1, 20, 30, 40, 5, 6, 7, 8, 9]\n",
      "[0, 1, 20, 30, 40, 5, 90, 91, 92, 93, 94, 8, 9]\n"
     ]
    }
   ],
   "source": [
    "\n",
    "# =============== listreplace  ===============\n",
    "nums = [0, 1, 2, 3, 4, 5, 6, 7, 8, 9]\n",
    "nums[2:5] = [20, 30, 40]\n",
    "print(nums)\n",
    "nums[6:8] = [90, 91, 92, 93, 94]\n",
    "print(nums)"
   ]
  },
  {
   "cell_type": "code",
   "execution_count": 58,
   "id": "d557f365-24b0-4aff-b1f7-57436ab2f811",
   "metadata": {},
   "outputs": [
    {
     "name": "stdout",
     "output_type": "stream",
     "text": [
      "[0, 1, 5, 6, 7, 8, 9]\n",
      "[0, 1, 5, 6, 8, 9]\n"
     ]
    }
   ],
   "source": [
    "\n",
    "# =============== rangeremove  ===============\n",
    "nums = [0, 1, 2, 3, 4, 5, 6, 7, 8, 9]\n",
    "nums[2:5] = []\n",
    "print(nums)\n",
    "del nums[4]\n",
    "print(nums)\n"
   ]
  },
  {
   "cell_type": "code",
   "execution_count": 59,
   "id": "47726e50-8904-4cb7-85cb-8e2112bcfb60",
   "metadata": {},
   "outputs": [
    {
     "name": "stdout",
     "output_type": "stream",
     "text": [
      "[1, 2, 3, 4, 5, 10, 11]\n",
      "[10, 11, 10, 11, 10, 11]\n"
     ]
    }
   ],
   "source": [
    "\n",
    "# =============== listcat  ===============\n",
    "list1 = [1, 2, 3, 4, 5]\n",
    "list2 = [10, 11]\n",
    "listadd = list1 + list2\n",
    "print(listadd)\n",
    "listmulti = list2 * 3\n",
    "print(listmulti)\n"
   ]
  },
  {
   "cell_type": "markdown",
   "id": "80c281bd-03a1-4111-80bc-1f6cf2acabb9",
   "metadata": {},
   "source": [
    "이중 리스트\n",
    "* 리스트의 요소로 리스트 넣어 중첩할 수 있음\n",
    "* 이중 리스트 순회하여 최종값 읽으려면 루프도 이중으로 하여야 함"
   ]
  },
  {
   "cell_type": "code",
   "execution_count": 60,
   "id": "80580377-b7f2-4f04-974b-10c29406fe05",
   "metadata": {},
   "outputs": [
    {
     "name": "stdout",
     "output_type": "stream",
     "text": [
      "[1, 2, 3]\n",
      "7\n",
      "1 2 3 \n",
      "4 5 \n",
      "6 7 8 9 \n"
     ]
    }
   ],
   "source": [
    "\n",
    "# =============== nestlist  ===============\n",
    "lol = [ [1, 2, 3], [4, 5], [6, 7, 8, 9]]\n",
    "print(lol[0])\n",
    "print(lol[2][1])\n",
    "\n",
    "for sub in lol:\n",
    "    for item in sub:\n",
    "        print(item, end=' ')\n",
    "    print()"
   ]
  },
  {
   "cell_type": "code",
   "execution_count": 61,
   "id": "8cc3df96-8f8a-41af-8744-d549619d9ea7",
   "metadata": {},
   "outputs": [
    {
     "name": "stdout",
     "output_type": "stream",
     "text": [
      "총점 354, 평균 88.50\n",
      "총점 275, 평균 68.75\n",
      "총점 328, 평균 82.00\n",
      "전체평균 79.75\n"
     ]
    }
   ],
   "source": [
    "\n",
    "\n",
    "# =============== nestscore  ===============\n",
    "score = [\n",
    "    [88, 76, 92, 98],\n",
    "    [65, 70, 58, 82],\n",
    "    [82, 80, 78, 88]\n",
    "    ]\n",
    "\n",
    "total = 0\n",
    "totalsub = 0\n",
    "for student in score:\n",
    "    sum = 0\n",
    "    for subject in student:\n",
    "        sum += subject\n",
    "    subjects = len(student)\n",
    "    print(\"총점 %d, 평균 %.2f\" % (sum, sum / subjects))\n",
    "    total += sum\n",
    "    totalsub += subjects\n",
    "print(\"전체평균 %.2f\" % (total / totalsub))\n"
   ]
  },
  {
   "cell_type": "markdown",
   "id": "66c15166-bbb3-4ccb-bb67-5e72b6b5b0b0",
   "metadata": {},
   "source": [
    "리스트 컴프리헨션 (List Comprehension)\n",
    "* [수식 for 변수 in 리스트 if 조건]"
   ]
  },
  {
   "cell_type": "code",
   "execution_count": 62,
   "id": "bdaea349-8c98-40ae-8de6-89a59238a6c3",
   "metadata": {},
   "outputs": [
    {
     "name": "stdout",
     "output_type": "stream",
     "text": [
      "2, 4, 6, 8, 10, 12, 14, 16, 18, 20, "
     ]
    }
   ],
   "source": [
    "# =============== listcomp  ===============\n",
    "nums = [n * 2 for n in range(1, 11)]\n",
    "for i in nums:\n",
    "    print(i, end = ', ')"
   ]
  },
  {
   "cell_type": "markdown",
   "id": "bfd0cf08-655f-466b-a793-95307d8eb55f",
   "metadata": {},
   "source": [
    "범위에 리스트 대입하여 여러 요소 한꺼번에 삽입 가능"
   ]
  },
  {
   "cell_type": "code",
   "execution_count": 63,
   "id": "99f71d93-8276-4f86-9f6d-102facd345f3",
   "metadata": {},
   "outputs": [
    {
     "name": "stdout",
     "output_type": "stream",
     "text": [
      "[1, 2, 90, 91, 92, 3, 4]\n",
      "[1, 2, [90, 91, 92], 4]\n"
     ]
    }
   ],
   "source": [
    "# =============== insertrange  ===============\n",
    "nums = [1, 2, 3, 4]\n",
    "nums[2:2] = [90, 91, 92]\n",
    "print(nums)\n",
    "\n",
    "nums = [1, 2, 3, 4]\n",
    "nums[2] = [90, 91, 92]\n",
    "print(nums)"
   ]
  },
  {
   "cell_type": "code",
   "execution_count": null,
   "id": "51d5ef1a-9210-40c3-ba4f-c501d8ec9ef8",
   "metadata": {},
   "outputs": [],
   "source": []
  }
 ],
 "metadata": {
  "kernelspec": {
   "display_name": "Python 3 (ipykernel)",
   "language": "python",
   "name": "python3"
  },
  "language_info": {
   "codemirror_mode": {
    "name": "ipython",
    "version": 3
   },
   "file_extension": ".py",
   "mimetype": "text/x-python",
   "name": "python",
   "nbconvert_exporter": "python",
   "pygments_lexer": "ipython3",
   "version": "3.11.5"
  }
 },
 "nbformat": 4,
 "nbformat_minor": 5
}
