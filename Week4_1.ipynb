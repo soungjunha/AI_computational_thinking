{
 "cells": [
  {
   "cell_type": "markdown",
   "id": "b39b24a2-1309-4d76-8579-8c92caefd2f6",
   "metadata": {},
   "source": [
    "# Week 4 (1) - 조건문 (2)\n",
    "### 인공지능과 컴퓨팅 사고 - AI Computational Thinking\n",
    "##### Author : Jihyeon Ryu\n",
    "##### Date : 2024-9-23 (Mon)"
   ]
  },
  {
   "cell_type": "markdown",
   "id": "0240a0b5-81cd-4ff4-83b8-7ce23c02418b",
   "metadata": {},
   "source": [
    "# 0. 복습\n",
    "## 0.1. 조건문 (1)"
   ]
  },
  {
   "cell_type": "markdown",
   "id": "ce8c8c88-0afe-4512-8d17-61b8745cb2b0",
   "metadata": {},
   "source": [
    "if문\n",
    "* 조건문 : 조건의 진위 여부에 따라 명령 실행 여부 결정\n",
    "* if 키워드로 조건문 작성\n",
    "* 해당 조건이 참일 때만 명령이 실행\n",
    "* 해당 조건이 거짓인 경우 무시하고 지나침\n",
    "* 형식 규칙 지켜야 함"
   ]
  },
  {
   "cell_type": "code",
   "execution_count": null,
   "id": "070684aa-1b38-4530-8fc6-b5e25395951e",
   "metadata": {},
   "outputs": [],
   "source": [
    "age = int(input(\"너 몇살이니? \"))\n",
    "if age < 19:\n",
    "    print(\"애들은 가라\")"
   ]
  },
  {
   "cell_type": "markdown",
   "id": "6e160a72-95eb-4c94-a4ae-d26c9f4cb62a",
   "metadata": {},
   "source": [
    "비교 연산자\n",
    "* 두 값의 상등 여부나 대소관계 비교하여 참, 거짓 반환\n",
    "* if문이 이 평가 결과에 따라 명령 실행 여부 결정"
   ]
  },
  {
   "cell_type": "code",
   "execution_count": null,
   "id": "a555cb8a-bde4-4d74-9a57-b1b43e8a31a5",
   "metadata": {},
   "outputs": [],
   "source": [
    "a = 5\n",
    "if a == 3:\n",
    "    print(\"3이다\")\n",
    "if a > 5:\n",
    "    print(\"5보다 크다\")\n",
    "if a < 5:\n",
    "    print(\"5보다 작다\")"
   ]
  },
  {
   "cell_type": "code",
   "execution_count": null,
   "id": "75c019c2-b774-42e6-aed9-bd82ed7dda72",
   "metadata": {},
   "outputs": [],
   "source": [
    "country = \"Korea\"\n",
    "if country == \"Korea\":\n",
    "    print(\"한국입니다.\")\n",
    "if country == \"korea\":\n",
    "    print(\"대한민국입니다.\")"
   ]
  },
  {
   "cell_type": "markdown",
   "id": "5bbe12ca-b082-4b7f-b097-6aefb48ac6a0",
   "metadata": {},
   "source": [
    "* == : 같다\n",
    "  \n",
    "      *** = : 오른쪽에 있는 걸 왼쪽에 대입한다!\n",
    "  \n",
    "* != : 다르다\n",
    "* < : 오른쪽이 더 크다\n",
    "* \\> : 왼쪽이 더 크다\n",
    "* <= : 오른쪽이 더 크거나 같다\n",
    "* \\>= : 왼쪽이 더 크거나 같다"
   ]
  },
  {
   "cell_type": "code",
   "execution_count": null,
   "id": "e5c281f7-8601-4152-9806-01f5b4c5bbdf",
   "metadata": {},
   "outputs": [],
   "source": [
    "if (\"korea\" > \"japan\"):\n",
    "    print(\"한국이 더 크다\")\n",
    "if (\"korea\" < \"japan\"):\n",
    "    print(\"일본이 더 크다\")"
   ]
  },
  {
   "cell_type": "markdown",
   "id": "ca0ce918-dfc7-4269-b69b-ad10cec85036",
   "metadata": {},
   "source": [
    "조건문에 비교연산식 대신 변수 바로 쓸 수도 있음"
   ]
  },
  {
   "cell_type": "code",
   "execution_count": null,
   "id": "a35d173b-814b-472f-84be-660813e608a0",
   "metadata": {},
   "outputs": [],
   "source": [
    "energy = 0\n",
    "if energy:\n",
    "    print(\"열심히 싸운다\")"
   ]
  },
  {
   "cell_type": "markdown",
   "id": "9575a30e-2016-4ee7-ac61-7faba2bc695d",
   "metadata": {},
   "source": [
    "논리 연산자\n",
    "* 두 개 이상의 조건을 한꺼번에 점검하는 경우"
   ]
  },
  {
   "cell_type": "code",
   "execution_count": null,
   "id": "d77eca02-e2d3-48b6-bc7b-63dbaf11a069",
   "metadata": {},
   "outputs": [],
   "source": [
    "and / or / not"
   ]
  },
  {
   "cell_type": "code",
   "execution_count": null,
   "id": "4590a31b-f20a-42c9-ad04-396474aa9863",
   "metadata": {},
   "outputs": [],
   "source": [
    "a = 3\n",
    "if a > 1 and a < 10:\n",
    "    print(\"OK\")"
   ]
  },
  {
   "cell_type": "code",
   "execution_count": null,
   "id": "eb148148-ed11-42ad-9e34-e562e149b4a7",
   "metadata": {},
   "outputs": [],
   "source": [
    "age = 20\n",
    "if age < 19:\n",
    "    print(\"애들은 가라\")\n",
    "    print(\"공부 열심히 해야지\")"
   ]
  },
  {
   "cell_type": "code",
   "execution_count": null,
   "id": "3c3bfcf3-3e7d-48bc-a858-674aa60219c5",
   "metadata": {},
   "outputs": [],
   "source": [
    "age = 18\n",
    "if age < 19:\n",
    "    print(\"애들은 가라\")\n",
    "print(\"공부 열심히 해야지\")"
   ]
  },
  {
   "cell_type": "markdown",
   "id": "83d55e88-3f13-4aaa-be91-ae175d355248",
   "metadata": {},
   "source": [
    "else문\n",
    "* 조건 진위에 따라 실행할 명령을 선택\n",
    "* 각 자리에 2개 이상의 명령 넣을 수 있음\n",
    "* 같이 실행할 명령은 들여쓰기 맞추어 블록 구성하여야 함"
   ]
  },
  {
   "cell_type": "code",
   "execution_count": null,
   "id": "38d49d72-f8d2-4832-b9c7-366955947541",
   "metadata": {},
   "outputs": [],
   "source": [
    "age = 18\n",
    "if age < 19:\n",
    "    print(\"애들은 가라\")\n",
    "else:\n",
    "    print(\"어서 옵쇼\")"
   ]
  },
  {
   "cell_type": "markdown",
   "id": "e6d11d76-8690-4c87-8f5c-166806ca222b",
   "metadata": {},
   "source": [
    "블록 구조\n",
    "* 블록 : 한꺼번에 실행되는 명령 묶음 {}\n",
    "* 여러 명령이 하나의 조건에 함께 영향을 받음\n",
    "* 들여쓰기 틀려서 블록 구조 맞지 않으면 일부만 조건에 걸림"
   ]
  },
  {
   "cell_type": "code",
   "execution_count": null,
   "id": "e819244a-7648-48bc-b9a8-9992b73cb882",
   "metadata": {},
   "outputs": [],
   "source": [
    "age = 18\n",
    "if age < 19:\n",
    "    print(\"애들은 가라\")\n",
    "    print(\"공부 열심히 해야지\")\n",
    "else:\n",
    "    print(\"어서 옵쇼\")\n",
    "    print(\"즐거운 시간 되세요\")"
   ]
  },
  {
   "cell_type": "code",
   "execution_count": null,
   "id": "57752922-d779-4c6e-8ad1-a6ce9cac9886",
   "metadata": {},
   "outputs": [],
   "source": [
    "age = 20\n",
    "if age < 19:\n",
    "    print(\"애들은 가라\")\n",
    "    print(\"공부 열심히 해야지\")\n",
    "else:\n",
    "    print(\"어서 옵쇼\")\n",
    "print(\"즐거운 시간 되세요\")"
   ]
  },
  {
   "cell_type": "markdown",
   "id": "c47515e6-d96d-412a-bb5f-b95ed6ac2a5a",
   "metadata": {},
   "source": [
    "elif문\n",
    "* else if\n",
    "* if else 문에서 조건 만족하지 않을 때 세부 조건을 추가 점검\n",
    "* 살펴봐야 할 조건에 따라 얼마든지 elif문 넣을 수 있음\n",
    "* elif문 수 늘려 많은 조건 점검할 수 있음"
   ]
  },
  {
   "cell_type": "code",
   "execution_count": null,
   "id": "6fb7a025-52e2-4950-adc9-2e99e72b4366",
   "metadata": {},
   "outputs": [],
   "source": [
    "money = 6500\n",
    "if money >= 20000:\n",
    "    print(\"탕수육을 먹는다\")\n",
    "else:\n",
    "    if money >= 10000:\n",
    "        ~~~"
   ]
  },
  {
   "cell_type": "code",
   "execution_count": null,
   "id": "65d573e8-1ab6-483f-98e7-1d787a768ed0",
   "metadata": {},
   "outputs": [],
   "source": [
    "money = 20000\n",
    "if money >= 20000:\n",
    "    print(\"탕수육을 먹는다\")\n",
    "elif money >= 10000:\n",
    "    print(\"쟁반 짜장을 먹는다\")\n",
    "elif money >= 6000:\n",
    "    print(\"짬뽕을 먹는다\")\n",
    "elif money >= 4000:\n",
    "    print(\"짜장면을 먹는다\")\n",
    "else:\n",
    "    print(\"단무지를 먹는다\")"
   ]
  },
  {
   "cell_type": "code",
   "execution_count": null,
   "id": "4653edd8-129e-4d14-aa18-f21d5e04b31b",
   "metadata": {},
   "outputs": [],
   "source": [
    "man = True\n",
    "age = 22\n",
    "if man == True:\n",
    "    if age >= 19:\n",
    "        print(\"성인 남자입니다.\")"
   ]
  },
  {
   "cell_type": "code",
   "execution_count": null,
   "id": "fd407086-ba3a-45bc-9250-a90f38ec1954",
   "metadata": {},
   "outputs": [],
   "source": [
    "man = False\n",
    "age = 20\n",
    "if man == True:\n",
    "    if age >= 19:\n",
    "        print(\"성인 남자입니다.\")\n",
    "    else:\n",
    "        print(\"소년입니다.\")"
   ]
  },
  {
   "cell_type": "markdown",
   "id": "a6ad4251-b9f9-4fed-8035-a5606f4d8869",
   "metadata": {},
   "source": [
    "# 1. 조건문 (2) : 배운 것들로 연습해보기."
   ]
  },
  {
   "cell_type": "markdown",
   "id": "29e2f49a-1038-4600-b619-9cb75c85f78f",
   "metadata": {},
   "source": [
    "### (문제 1) 사용자로부터 숫자를 입력 받아, 그 숫자가 양수인지, 음수인지, 또는 0인지를 판별하여 출력하는 프로그램을 작성하세요."
   ]
  },
  {
   "cell_type": "code",
   "execution_count": null,
   "id": "004d9861-8f34-4ab8-9bf0-a7070ca35e98",
   "metadata": {},
   "outputs": [],
   "source": []
  },
  {
   "cell_type": "markdown",
   "id": "0288194e-478e-44df-bdbf-1e3dabf199d1",
   "metadata": {},
   "source": [
    "### (문제 2) 사용자로부터 세 과목(국어, 영어, 수학)의 점수를 입력받아, 세 과목의 평균 점수를 소수점 첫째자리까지 계산하고, 평균 점수에 따라 학점을 부여하는 프로그램을 작성하세요. 학점은 다음과 같이 부여됩니다.\n",
    "\n",
    "* 평균 점수 90 이상: A\n",
    "* 평균 점수 80 이상 90 미만: B\n",
    "* 평균 점수 70 이상 80 미만: C\n",
    "* 평균 점수 60 이상 70 미만: D\n",
    "* 평균 점수 60 미만: F"
   ]
  },
  {
   "cell_type": "code",
   "execution_count": null,
   "id": "8b9d02b6-5782-43d1-a15e-41da97c9c84a",
   "metadata": {},
   "outputs": [],
   "source": []
  },
  {
   "cell_type": "markdown",
   "id": "a903a675-ea18-4031-8879-4cf048e4fd79",
   "metadata": {},
   "source": [
    "### (문제 3) 사용자로부터 나이를 입력받아, 다음과 같이 연령대를 판별하여 출력하는 프로그램을 작성하세요.\n",
    "\n",
    "* 0세 미만: 유아\n",
    "* 0세 이상 18세 미만: 아동/청소년\n",
    "* 18세 이상 65세 미만: 성인\n",
    "* 65세 이상: 노인"
   ]
  },
  {
   "cell_type": "code",
   "execution_count": null,
   "id": "73de0e20-c073-42bf-b871-1f7ce899f03c",
   "metadata": {},
   "outputs": [],
   "source": []
  },
  {
   "cell_type": "markdown",
   "id": "b5c94a9c-fdf8-408c-934c-b3ed507d0f0b",
   "metadata": {},
   "source": [
    "### (문제 4) 사용자로부터 세 개의 숫자를 입력받아, 이 숫자들 중 가장 큰 숫자를 찾아서 출력하는 프로그램을 작성하세요."
   ]
  },
  {
   "cell_type": "code",
   "execution_count": null,
   "id": "bf92cbbc-cdbf-4db8-8add-3dc3baee98f6",
   "metadata": {},
   "outputs": [],
   "source": []
  },
  {
   "cell_type": "markdown",
   "id": "013e55f1-340a-4097-89d4-d9505882e8d0",
   "metadata": {},
   "source": [
    "### (문제 5) 사용자로부터 연도를 입력받아, 해당 연도가 윤년인지 아닌지를 판별하는 프로그램을 작성하세요. 윤년은 다음 조건 중 하나 이상을 만족하는 연도입니다.\n",
    "\n",
    "* 4로 나누어 떨어지면서 100으로 나누어 떨어지지 않는 연도\n",
    "* 400으로 나누어 떨어지는 연도\n",
    "* 예 : 100 - 평년, 400 - 윤년, 96 - 윤년, 200 - 평년"
   ]
  },
  {
   "cell_type": "code",
   "execution_count": null,
   "id": "fe04c5a8-2237-406b-b550-a9efba258fd1",
   "metadata": {},
   "outputs": [],
   "source": []
  },
  {
   "cell_type": "markdown",
   "id": "598c9966-835e-4946-89bf-780ec3e6b324",
   "metadata": {},
   "source": [
    "### (문제 6) 사용자로부터 세 개의 정수를 입력 받아, 이 정수 중에서 가장 큰 수와 가장 작은 수를 찾아서 출력하는 프로그램을 작성하세요.\r\n",
    "\r\n"
   ]
  },
  {
   "cell_type": "code",
   "execution_count": null,
   "id": "5a229d62-3e68-48f5-91ec-6902ebdd67dc",
   "metadata": {},
   "outputs": [],
   "source": []
  },
  {
   "cell_type": "markdown",
   "id": "85308a70-337c-4f49-9989-b348235841ea",
   "metadata": {},
   "source": [
    "### (문제 7) 사용자로부터 두 개의 숫자와 연산자 (+, -, *, /)를 입력받아 계산하는 계산기 프로그램을 작성하세요. 입력된 연산자에 따라 두 숫자를 계산하고 결과를 출력하세요. 또한, 사용자가 유효하지 않은 연산자를 입력한 경우 오류 메시지를 출력하세요.\r\n",
    "\r\n",
    "힌트: input 함수를 사용하여 사용자로부터 숫자와 연산자를 입력 받고, 조건문을 사용하여 입력된 연산자에 따라 적절한 계산을 수행하세요."
   ]
  },
  {
   "cell_type": "code",
   "execution_count": null,
   "id": "c543598e-ae2c-4bde-8ccb-82abf49b60ba",
   "metadata": {},
   "outputs": [],
   "source": []
  },
  {
   "cell_type": "markdown",
   "id": "030ca5e9-0cdb-4914-bfde-b17c2491a9e4",
   "metadata": {},
   "source": [
    "### (문제 8) 사용자로부터 영어 알파벳 소문자를 입력 받아, 해당 문자가 자음 또는 모음인지 판별하는 프로그램을 작성하세요. 자음은 \"b\", \"c\", \"d\", ... 등의 문자이며, 모음은 \"a\", \"e\", \"i\", \"o\", \"u\" 등의 문자입니다. 입력한 문자가 자음인 경우 \"자음\"을, 모음인 경우 \"모음\"을 출력하세요. 그 외의 문자(숫자, 특수 문자, 대문자 등)는 \"올바른 입력이 아닙니다\"라고 출력하세요.\n",
    "\n",
    "힌트: 영어 소문자를 모두 나열한 string을 정의하고, in 연산을 통해 해당 문자가 문자열에 있는지 확인할 수 있습니다."
   ]
  },
  {
   "cell_type": "code",
   "execution_count": null,
   "id": "cbbc585d-fb6c-40b8-840d-3c920e167d71",
   "metadata": {},
   "outputs": [],
   "source": [
    "# hint ex) \n",
    "string = 'abcde'\n",
    "character = 'e'\n",
    "if character in string:\n",
    "    print(\"yes!\")"
   ]
  },
  {
   "cell_type": "code",
   "execution_count": null,
   "id": "a553c947-cbfa-4ba4-aaf5-1512bdcf9e21",
   "metadata": {},
   "outputs": [],
   "source": []
  }
 ],
 "metadata": {
  "kernelspec": {
   "display_name": "Python 3 (ipykernel)",
   "language": "python",
   "name": "python3"
  },
  "language_info": {
   "codemirror_mode": {
    "name": "ipython",
    "version": 3
   },
   "file_extension": ".py",
   "mimetype": "text/x-python",
   "name": "python",
   "nbconvert_exporter": "python",
   "pygments_lexer": "ipython3",
   "version": "3.11.5"
  }
 },
 "nbformat": 4,
 "nbformat_minor": 5
}
