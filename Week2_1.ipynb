{
 "cells": [
  {
   "cell_type": "markdown",
   "id": "b39b24a2-1309-4d76-8579-8c92caefd2f6",
   "metadata": {},
   "source": [
    "# Week 2 (1) - 변수\n",
    "### 인공지능과 컴퓨팅 사고 - AI Computational Thinking\n",
    "##### Author : Jihyeon Ryu\n",
    "##### Date : 2024-9-9 (Mon)"
   ]
  },
  {
   "cell_type": "markdown",
   "id": "48d26248-ab5d-449e-ae54-b0aeb0307ca3",
   "metadata": {},
   "source": [
    "# 0. 복습\n",
    "## 0.0. 코드 실행\n",
    "Jupyter notebook에서는 shift + Enter로 간단하게 입력 및 출력을 실행할 수 있습니다. 다음의 코드를 실행해볼까요?"
   ]
  },
  {
   "cell_type": "code",
   "execution_count": null,
   "id": "da592d98-f119-43d8-ab9d-349914ceb577",
   "metadata": {},
   "outputs": [],
   "source": [
    "s = \"안녕하세요. 만나서 반갑습니다.\"\n",
    "print(s)"
   ]
  },
  {
   "cell_type": "code",
   "execution_count": null,
   "id": "dc7c1f19-6cce-4f56-ad1d-a1f6a1cb0874",
   "metadata": {},
   "outputs": [],
   "source": [
    "s2 = \"앞으로 한 학기동안 잘 부탁드립니다.\"\n",
    "print(s2)"
   ]
  },
  {
   "cell_type": "markdown",
   "id": "60c1ebe6-ac40-4e9a-9327-7b1bedcb1705",
   "metadata": {},
   "source": [
    "Jupyter notebook은 c언어와 다르게, 미리 변수를 선언하지 않아도 사용할 수 있습니다. 선언하지 않고 사용해도 되니, 별도의 변수 타입을 지정하지 않아도 되겠지요. 다음의 예를 실행해 볼까요?"
   ]
  },
  {
   "cell_type": "code",
   "execution_count": null,
   "id": "b71f8a7c-6a03-4393-b1cc-629b8950ba97",
   "metadata": {},
   "outputs": [],
   "source": [
    "print(3 + 4)"
   ]
  },
  {
   "cell_type": "code",
   "execution_count": null,
   "id": "2a241125-c03f-4cd0-8aef-985191f5ac10",
   "metadata": {},
   "outputs": [],
   "source": [
    "a = 1\n",
    "b = 2"
   ]
  },
  {
   "cell_type": "code",
   "execution_count": null,
   "id": "a807c6c2-2d94-47d2-be30-9518063cac50",
   "metadata": {},
   "outputs": [],
   "source": [
    "print(a + b)"
   ]
  },
  {
   "cell_type": "code",
   "execution_count": null,
   "id": "ecdbb4f4-ae85-4371-b574-b14d01b53134",
   "metadata": {},
   "outputs": [],
   "source": [
    "x = '서울'\n",
    "y = '부산'\n",
    "print(x, '과', y)"
   ]
  },
  {
   "cell_type": "markdown",
   "id": "df8e4745-18cc-4e61-8574-75ead2d31d61",
   "metadata": {},
   "source": [
    "잘 했습니다.  \n",
    "  \n",
    "우리는, a, b 변수에는 정수 형태의 값을 저장하였지만 별도 선언을 하지 않았습니다.  \n",
    "또한, 우리는 x, y 변수에는 문자열 형태의 값을 저장하였지만 마찬가지로 별도 선언을 하지 않았습니다.  \n",
    "이미 감을 잡았겠지만, print 함수는 c 함수에서의 printf 함수와 유사한 동작을 하여, 사용자에게 값을 보여주는 역할을 수행합니다."
   ]
  },
  {
   "cell_type": "markdown",
   "id": "8aba3d5c-14ce-402c-aca1-c1bb567fff03",
   "metadata": {},
   "source": [
    "## 0.1. Markdown과 친숙해지기\n",
    "Jupyter notebook에서는 Markdown 기능이 있습니다. 위의 Code로 되어있는 세팅을 Markdown으로 바꾸어, 원하는 내용을 입력해볼까요?"
   ]
  },
  {
   "cell_type": "code",
   "execution_count": null,
   "id": "5c18c07d-0caa-49d0-96bb-0ad2f1aea602",
   "metadata": {},
   "outputs": [],
   "source": [
    "이 부분을 Markdown으로 바꾸어보세요"
   ]
  },
  {
   "cell_type": "code",
   "execution_count": null,
   "id": "213d0d40-c1ad-463b-8608-dfe75d804032",
   "metadata": {},
   "outputs": [],
   "source": [
    "# 강조에 따라\n",
    "## 여러가지 markdown 형태로\n",
    "### 활용할 수 있습니다.\n",
    "#### markdown으로 바꾸어서 사용해보세요."
   ]
  },
  {
   "cell_type": "markdown",
   "id": "8dcdc7ed-9293-4769-a276-3fb7657f432c",
   "metadata": {},
   "source": [
    "다음 markdown 된 코드는 Code로 변경하여 활용해보세요."
   ]
  },
  {
   "cell_type": "markdown",
   "id": "28f5301b-c623-4efc-bf66-50bd4fe7a062",
   "metadata": {},
   "source": [
    "print('이 부분은 Code로 바꾸어 활용해보세요.')"
   ]
  },
  {
   "cell_type": "markdown",
   "id": "eef8535e-6f09-4ed7-a53a-3a82d4d38a49",
   "metadata": {},
   "source": [
    "이 문장 다음 부분에 원하는 Markdown을 직접 셀을 추가하여 만들어보세요. 우측 셀 추가 기호 (Insert a cell bellow)를 사용하면 쉽게 셀을 추가할 수 있습니다.  \n",
    "또한, Markdown으로 변경하여 실행하는 것을 잊지 마세요!"
   ]
  },
  {
   "cell_type": "markdown",
   "id": "7ab7f6c8-692f-40b9-b38b-9bca0a259cf0",
   "metadata": {},
   "source": [
    "이 위에 원하는 Markdown을 추가하세요."
   ]
  },
  {
   "cell_type": "markdown",
   "id": "1668b98e-67a1-4b0f-b100-f60d3c20a7a7",
   "metadata": {},
   "source": [
    "## 0.3. 파일 확인 및 .py 파일로 확인하기\n",
    "지금 이 파일은 ipynb 파일로, jupyter notebook 파일입니다. 우린 이 파일을 IDLE 환경에서 사용할 수 있는 .py 파일로 변경할 수 있습니다."
   ]
  },
  {
   "cell_type": "markdown",
   "id": "fc7c1edf-5b74-45f8-a2ca-79a969686fca",
   "metadata": {},
   "source": [
    "colab에서는 해당 파일을 py 파일로 다운로드 혹은 열기로 더 편리하게 변환할 수 있지만, local 환경에서 변환하기 위해서는, cmd (명령 프롬프트) 창에 다음의 명령어를 실행해야 합니다."
   ]
  },
  {
   "cell_type": "markdown",
   "id": "30f2dd3f-670b-4891-8a13-e1b7b0769a63",
   "metadata": {},
   "source": [
    "[명령어] pip install nbconvert  \n",
    "[명령어] jupyter nbconvert --to script filename.ipynb"
   ]
  },
  {
   "cell_type": "markdown",
   "id": "28093522-8752-4d25-bf76-56b4c43c2e44",
   "metadata": {},
   "source": [
    "cmd 창까지 가는 것이 번거로우니까, ipynb 파일에서 직접 python 파일을 cmd에 입력하는 것처럼 만들어볼까요? (간단합니다 앞에 !만 붙여주면 됩니다!)"
   ]
  },
  {
   "cell_type": "code",
   "execution_count": null,
   "id": "2e9feb22-79fe-4d9a-a3a9-4d201562310d",
   "metadata": {},
   "outputs": [],
   "source": [
    "!jupyter nbconvert --to script Week2_1.ipynb"
   ]
  },
  {
   "cell_type": "markdown",
   "id": "44970e55-7da0-4da2-a233-6a2a4f2dab92",
   "metadata": {},
   "source": [
    "그럼, 해당 폴더에 가서 한번 python 파일이 잘 생성되었는지 확인해봅시다."
   ]
  },
  {
   "cell_type": "markdown",
   "id": "b29d6a96-700b-4113-82b2-1891da26a73f",
   "metadata": {},
   "source": [
    "#\n",
    "# 1. 기본구조\n",
    "## 1.1. 공백과 개행, 들여쓰기\n",
    "c언어에서는 중괄호 {}로 범위를 표현했습니다. 그러나 파이썬은 개행과 들여쓰기로 범위를 표현합니다.\n",
    "그렇다고 모든 띄어쓰기가 의미 있는 것은 아닙니다. 공백은 관련 없이 동작합니다. 예를 들어보겠습니다."
   ]
  },
  {
   "cell_type": "code",
   "execution_count": null,
   "id": "c6e5dade-db76-4fae-ade8-db7306cc0a21",
   "metadata": {},
   "outputs": [],
   "source": [
    "print(1 + 2)\n",
    "print(1+2)\n",
    "print(1  +  2)"
   ]
  },
  {
   "cell_type": "markdown",
   "id": "3486c8d6-eb31-4e0e-8295-35db5109e021",
   "metadata": {},
   "source": [
    "위와 같이, 파이썬 코드는 공백에는 무관하게 동작하는 것을 확인할 수 있습니다.\n",
    "파이썬은 sensitive합니다. 이는 대문자와 소문자를 구분하여 인식한다는 뜻입니다. 다음의 예를 통해 이를 확인해봅시다."
   ]
  },
  {
   "cell_type": "code",
   "execution_count": null,
   "id": "3673f2ff-c647-4588-abc9-7fd9a3662ec5",
   "metadata": {},
   "outputs": [],
   "source": [
    "print(1+2)"
   ]
  },
  {
   "cell_type": "code",
   "execution_count": null,
   "id": "a1ba7241-c477-4cf8-ac0f-cf7a68904dfe",
   "metadata": {},
   "outputs": [],
   "source": [
    "Print(1+2)"
   ]
  },
  {
   "cell_type": "code",
   "execution_count": null,
   "id": "401ab78f-62d1-4222-bad7-2db12bcd4b8a",
   "metadata": {},
   "outputs": [],
   "source": [
    "prinT(1+2)"
   ]
  },
  {
   "cell_type": "code",
   "execution_count": null,
   "id": "a8075ce2-7320-46d4-b6e4-101aea6538c5",
   "metadata": {},
   "outputs": [],
   "source": [
    "PRINT(1+2)"
   ]
  },
  {
   "cell_type": "markdown",
   "id": "9422ce8c-315d-4345-acbc-f1fe9528e973",
   "metadata": {},
   "source": [
    "print 함수는 소문자만으로 이루어져 있습니다. 이를 대문자로 임의로 변경하여 사용하면 python은 인식하지 못하는 것을 확인할 수 있습니다."
   ]
  },
  {
   "cell_type": "markdown",
   "id": "97471a8b-65e8-4c7f-bc90-9a4140b01ed2",
   "metadata": {},
   "source": [
    "또한, python 코드는 c언어에서 {} (중괄호) 로 표기했던 부분을 들여쓰기와 개행으로 표기합니다.\n",
    "\n",
    "아작 python에서 if문을 배우지는 않았지만, 이미 어느정도는 알고 있으므로, if문으로 예를 들어봅시다. 아래 코드의 age를 바꾸어가며 동작시켜보세요."
   ]
  },
  {
   "cell_type": "code",
   "execution_count": null,
   "id": "e33f5e4f-ec39-42b5-a479-f47e47551fb7",
   "metadata": {},
   "outputs": [],
   "source": [
    "age = 20\n",
    "if age > 19:\n",
    "    print(\"성인\")\n",
    "    print(\"입니다.\")\n",
    "else:\n",
    "    print(\"미성년\")\n",
    "    print(\"입니다.\")"
   ]
  },
  {
   "cell_type": "markdown",
   "id": "c9ae274c-0335-4f67-8468-5294ed18beb3",
   "metadata": {},
   "source": [
    "위의 코드는 잘 동작하는 코드입니다. tab 표현, 혹은 띄어쓰기로 if 혹은 else문의 몸체에 들어갈 부분이 표현되어 있습니다.\n",
    "\n",
    "이때 tab 표현을 하지 않으면 어떻게 될까요?"
   ]
  },
  {
   "cell_type": "code",
   "execution_count": null,
   "id": "aa0a0a2b-74fa-40cb-8796-4b5ef706e7cb",
   "metadata": {},
   "outputs": [],
   "source": [
    "age = 20\n",
    "if age > 19:\n",
    "print(\"성인\")\n",
    "print(\"입니다.\")\n",
    "else:\n",
    "print(\"미성년\")\n",
    "print(\"입니다.\")"
   ]
  },
  {
   "cell_type": "markdown",
   "id": "5d0446f7-b34d-4f13-8379-6cad78610158",
   "metadata": {},
   "source": [
    "if문의 몸체에 해당하는 부분이 없다고 error가 뜨네요. 그럼, if문 밑과 else문 밑만 indented block을 줘봅시다."
   ]
  },
  {
   "cell_type": "code",
   "execution_count": null,
   "id": "bc9e8b64-2b2b-4d5b-b176-d3647e8300c9",
   "metadata": {},
   "outputs": [],
   "source": [
    "age = 20\n",
    "if age > 19:\n",
    "    print(\"성인\")\n",
    "print(\"입니다.\")\n",
    "else:\n",
    "    print(\"미성년\")\n",
    "print(\"입니다.\")"
   ]
  },
  {
   "cell_type": "markdown",
   "id": "2d319dac-47f0-44dd-8833-4e4c422d9ea4",
   "metadata": {},
   "source": [
    "if문이 끝나고 indented block 이후에 바로 else 문이 나와야 하는데,\n",
    "\n",
    "if문의 indented block이 끝나고 if문에 속하지 않은 print(\"입니다.\")가 나오며 else가 나올 자리를 방해했습니다. 이 부분을 없애봅시다."
   ]
  },
  {
   "cell_type": "code",
   "execution_count": null,
   "id": "8986ade6-a156-494e-b207-6621a30c5078",
   "metadata": {},
   "outputs": [],
   "source": [
    "age = 20\n",
    "if age > 19:\n",
    "    print(\"성인\")\n",
    "    print(\"입니다.\")\n",
    "else:\n",
    "    print(\"미성년\")\n",
    "print(\"입니다.\")"
   ]
  },
  {
   "cell_type": "markdown",
   "id": "46d054c4-bf5f-40fe-aa0d-12ff60305181",
   "metadata": {},
   "source": [
    "우리는 else에 해당할 때만 마지막 줄 print(\"입니다\")를 출력하길 희망했지만, 해당 부분이 두 번이나 나왔네요.\n",
    "\n",
    "왜 그럴까요? 이 python 코드를 c언어에서 표현하면 다음과 같습니다.\n",
    "\n",
    "\\#include <stdio.h>  \n",
    "int age = 20  \n",
    "if(age > 19){  \n",
    "    \n",
    "    printf(\"성인\");      \n",
    "\n",
    "    printf(\"입니다.\");  \n",
    "}  \n",
    "else {  \n",
    "\n",
    "    printf(\"미성년\");  \n",
    "}  \n",
    "printf(\"입니다.\");  \n",
    "\n",
    "왜 그런지 아시겠지요?"
   ]
  },
  {
   "cell_type": "markdown",
   "id": "7a10e523-ad78-4b29-81a7-36c5369263f1",
   "metadata": {},
   "source": [
    "따라서 python에서는 c언어와는 다르게, 들여쓰기가 범위를 표현하는 중요한 역할을 하기 때문에, 잘 작성해야합니다.\n",
    "\n",
    "개행도 마찬가지입니다. c언어에서는 하나의 문장이 끝났음을 ; (세미콜론) 을 사용하여 표현했다면, python은 개행을 사용하여 표현합니다.\n",
    "\n",
    "아래 두 예제를 봅시다."
   ]
  },
  {
   "cell_type": "code",
   "execution_count": null,
   "id": "cf8605e1-a1d3-4dc3-93f3-17bcbfeff7ed",
   "metadata": {},
   "outputs": [],
   "source": [
    "print(\"hello\")"
   ]
  },
  {
   "cell_type": "code",
   "execution_count": null,
   "id": "9489a447-d83e-49b7-90f1-b3b405c61f48",
   "metadata": {},
   "outputs": [],
   "source": [
    "print(\"hello\n",
    "      \")\n",
    "    "
   ]
  },
  {
   "cell_type": "markdown",
   "id": "68f0681a-ab04-4bbc-b6b1-c40a6b074719",
   "metadata": {},
   "source": [
    "위와 같이, 개행은 하나의 문장이 끝났음을 의미하기 때문에 print함수 중간에 개행을 사용하면 python은 인식하지 못하고 오류 처리를 하게 됩니다."
   ]
  },
  {
   "cell_type": "markdown",
   "id": "be6463ed-41a7-41f3-822e-fa765f4c2805",
   "metadata": {},
   "source": [
    "#\n",
    "## 1.2. 주석"
   ]
  },
  {
   "cell_type": "markdown",
   "id": "68d80576-cbf4-4d6d-9a7f-b27716b2393c",
   "metadata": {},
   "source": [
    "python에서 주석은 한 줄만 주석처리하는 방법과 여러줄을 한꺼번에 주석처리하는 방법이 있습니다.\n",
    "\n",
    "* 한 줄을 주석처리할 때는 # 문자를 사용합니다.\n",
    "* 여러 줄을 주석처리할 때는 큰 따옴표 (\") 나 작은 따옴표 (') 를 세 번 붙여서 (\"\"\", ''') 사용하게 됩니다.\n",
    "\n",
    "다음의 예를 확인해볼까요?"
   ]
  },
  {
   "cell_type": "code",
   "execution_count": null,
   "id": "5bfbdf6f-edd7-47d0-96c5-f5a62e3ea3fe",
   "metadata": {},
   "outputs": [],
   "source": [
    "print(\"여러줄주석예시1\")\n",
    "\"\"\"\n",
    " 여러줄 주석처리하고 싶을때는 큰따옴표나 작은따옴표를 활용하세요.\n",
    " 여러줄 주석처리하고 싶을때는 큰따옴표나 작은따옴표를 활용하세요.\n",
    " 여러줄 주석처리하고 싶을때는 큰따옴표나 작은따옴표를 활용하세요.\n",
    "\"\"\"\n",
    "print(\"여러줄주석예시2\")"
   ]
  },
  {
   "cell_type": "code",
   "execution_count": null,
   "id": "b4592483-d40c-41e4-9c0e-e480538bf26e",
   "metadata": {},
   "outputs": [],
   "source": [
    "print(\"여러줄주석예시3\")\n",
    "'''\n",
    " 여러줄 주석처리하고 싶을때는 큰따옴표나 작은따옴표를 활용하세요.\n",
    " 여러줄 주석처리하고 싶을때는 큰따옴표나 작은따옴표를 활용하세요.\n",
    " 여러줄 주석처리하고 싶을때는 큰따옴표나 작은따옴표를 활용하세요.\n",
    "'''\n",
    "print(\"여러줄주석예시4\")"
   ]
  },
  {
   "cell_type": "code",
   "execution_count": null,
   "id": "bc775019-5ff7-47b1-959c-ad6a5533d0e2",
   "metadata": {},
   "outputs": [],
   "source": [
    "print(\"한줄주석예시1\") # 한줄주석예시 1\n",
    "print(\"한줄주석예시2\") ### 한줄주석예시 2"
   ]
  },
  {
   "cell_type": "markdown",
   "id": "9585c4b8-dd53-4c05-80ee-cd5fc855bfa1",
   "metadata": {},
   "source": [
    "아래 코드는 학생들의 번호와 성적을 알려주는 간단한 코드입니다.\n",
    "\n",
    "해당 코드는 처음 코드를 보는 사람들을 위해 설명이 필요합니다. 또한 설명을 단 사람이 누군지에 대한 내용도 있으면 좋겠죠.\n",
    "\n",
    "그럼, 주석을 이용해서 아래의 코드를 꾸며볼까요?"
   ]
  },
  {
   "cell_type": "code",
   "execution_count": null,
   "id": "8a333378-1b24-4cd1-8b64-50e5c2355b69",
   "metadata": {},
   "outputs": [],
   "source": [
    "score = [ 88, 95, 70, 100, 99 ]\n",
    "no = 1\n",
    "for s in score:\n",
    "    print(str(no) + \"번 학생의 성적 :\", s)\n",
    "    no += 1"
   ]
  },
  {
   "cell_type": "markdown",
   "id": "a6d223a4-777e-483f-afeb-743c331c8f91",
   "metadata": {},
   "source": [
    "잘 했습니다."
   ]
  },
  {
   "cell_type": "markdown",
   "id": "8a5792ac-622b-427a-a17d-c6468f72f8fb",
   "metadata": {},
   "source": [
    "이제 markdown을 이용해서 설명을 들으며 아래 내용에 대해 필기하며 들어보도록 합시다."
   ]
  },
  {
   "attachments": {},
   "cell_type": "markdown",
   "id": "084cff1c-ad52-4d08-97bc-37fe63ab3b4c",
   "metadata": {},
   "source": [
    "# 2. print 함수\n",
    "print 함수에는 다음과 같은 사용 방법이 있습니다.\n",
    "\n",
    "* 출력시 사용되는 print 함수는 \"print(출력 내용 [, sep=구분자] [, end=끝 문자])\" 형태로 사용\n",
    "* 괄호 안에 상수, 변수, 수식 등 출력 내용을 입력하여 사용\r",
    "* 스크립트 모드에서 값 출력 시에는 반드시 print 명령 사용\r",
    "* 출력할 내용 여러 개일 경우 콤마로 나열\r",
    "* 여러 개 출력 결과를 공백이나 구분자(Separator) 사용하여 구별\r",
    "* f-string, 형식 지정자 출력\n"
   ]
  },
  {
   "cell_type": "markdown",
   "id": "a55c2c74-6b47-488f-8272-455c95bca9a6",
   "metadata": {},
   "source": [
    "예제를 봅시다."
   ]
  },
  {
   "cell_type": "markdown",
   "id": "feca918e-dd5a-4d14-bea7-c9f4f44486e9",
   "metadata": {},
   "source": [
    "### 2.1. 기본 출력"
   ]
  },
  {
   "cell_type": "code",
   "execution_count": null,
   "id": "c98a68cf-e868-465d-9a35-1671c8a347ff",
   "metadata": {},
   "outputs": [],
   "source": [
    "print(\"Hello World!\")"
   ]
  },
  {
   "cell_type": "markdown",
   "id": "9d7dfb05-90b6-4e69-95ec-4187ad45f717",
   "metadata": {},
   "source": [
    "### 2.2. 여러 인자 출력"
   ]
  },
  {
   "cell_type": "code",
   "execution_count": null,
   "id": "ba311b00-8f6a-4c2b-a272-77df3c3bd52f",
   "metadata": {},
   "outputs": [],
   "source": [
    "print(\"Python\", \"is\", \"fun!\")"
   ]
  },
  {
   "cell_type": "markdown",
   "id": "0e00de1a-9a95-416e-b01d-088e2ea0cdb9",
   "metadata": {},
   "source": [
    "### 2.3. 변수 출력"
   ]
  },
  {
   "cell_type": "code",
   "execution_count": null,
   "id": "398ecaca-1b72-4402-97c6-175b7a5311c0",
   "metadata": {},
   "outputs": [],
   "source": [
    "name = \"Alice\"\n",
    "age = 25\n",
    "print(\"Name:\", name, \"Age:\", age)"
   ]
  },
  {
   "cell_type": "code",
   "execution_count": null,
   "id": "b15ef84a-641b-4bc8-8f7f-fc176ed0c6dc",
   "metadata": {},
   "outputs": [],
   "source": [
    "print(3 + 4)\n",
    "4 * 5\t\t\t\t# 무시된다.\n",
    "a = 1\n",
    "b = 2\n",
    "print(a + b)"
   ]
  },
  {
   "cell_type": "markdown",
   "id": "df89d09d-c8c2-4432-8ac8-db8fce0078af",
   "metadata": {},
   "source": [
    "### 2.4. f-string 포맷팅, format 중괄호 포맷팅"
   ]
  },
  {
   "cell_type": "markdown",
   "id": "8677bb7d-0d22-491f-aa2d-8d4e5e5f4166",
   "metadata": {},
   "source": [
    "f-string 포맷팅: 문자열 앞에 f를 붙여주고, 중괄호 안에 직접 변수 이름이나 출력하고 싶은 것을 바로 넣는 print 사용 방법"
   ]
  },
  {
   "cell_type": "code",
   "execution_count": null,
   "id": "e6dbc276-53f5-4f12-b2db-05d0bb9b4b24",
   "metadata": {},
   "outputs": [],
   "source": [
    "name = \"Alice\"\n",
    "age = 25\n",
    "print(f\"My name is {name} and I am {age} years old.\")"
   ]
  },
  {
   "cell_type": "markdown",
   "id": "44d6ea26-2894-4da9-b9b0-1a790f871b46",
   "metadata": {},
   "source": [
    "중괄호 포맷팅: 변수 타입에 관계 없이 {}를 사용하여 위치를 표현하는 방법"
   ]
  },
  {
   "cell_type": "code",
   "execution_count": null,
   "id": "f17651a8-a068-415a-b72f-1e8c35a04144",
   "metadata": {},
   "outputs": [],
   "source": [
    "print(\"My name is {} and I am {} years old.\".format(name, age))"
   ]
  },
  {
   "cell_type": "markdown",
   "id": "7d4576dd-ef6b-486a-85d1-573a93ef9185",
   "metadata": {},
   "source": [
    "실수 형태를 표기할 때 (소숫점 표기) 자릿수 및 정렬 형태를 지정해줄 수 있다."
   ]
  },
  {
   "cell_type": "code",
   "execution_count": null,
   "id": "960f8690-81b9-4eee-81a2-5a143004f16f",
   "metadata": {},
   "outputs": [],
   "source": [
    "print('{}'.format(1234567890))\n",
    "print('{:>10}'.format(5)) # >는 오른쪽정렬\n",
    "print('{:<10f}'.format(5)) # <는 왼쪽정렬, 실수는 기본적으로 소수점6자리까지 표현\n",
    "print('{:^10.2f}'.format(5)) # ^는 가운데정렬, 10을 썼으니 10자리 기준 가운데 정렬, 소수점 2자리 감안해서 가운데 정렬"
   ]
  },
  {
   "cell_type": "markdown",
   "id": "25e91087-a5d1-4b60-8638-a0c16361e655",
   "metadata": {},
   "source": [
    "### 2.5. 형식 지정자로 출력"
   ]
  },
  {
   "cell_type": "code",
   "execution_count": null,
   "id": "d28512c7-c10d-4d14-9448-c7b930d35ffb",
   "metadata": {},
   "outputs": [],
   "source": [
    "name = \"Alice\"\n",
    "age = 25\n",
    "print(\"My name is %s and I am %d years old.\" % (name, age))"
   ]
  },
  {
   "cell_type": "markdown",
   "id": "9a03d97b-c656-4b8c-81f9-e1c155a543d9",
   "metadata": {},
   "source": [
    "### 2.6. sep 인자를 사용하여 구분자 변경"
   ]
  },
  {
   "cell_type": "code",
   "execution_count": null,
   "id": "e28dcbb5-2ba9-4b41-a00e-47f1c705f1df",
   "metadata": {},
   "outputs": [],
   "source": [
    "print(\"Python\", \"is\", \"fun!\", sep=\"-\")"
   ]
  },
  {
   "cell_type": "code",
   "execution_count": null,
   "id": "3599a0e8-f104-4eac-8350-bea38d1a4cce",
   "metadata": {},
   "outputs": [],
   "source": [
    "s = '서울'\n",
    "d = '대전'\n",
    "g = '대구'\n",
    "b = '부산'\n",
    "print(s, d, g, b, sep = ' 찍고 ')"
   ]
  },
  {
   "cell_type": "markdown",
   "id": "4f17b8ee-f5d4-4fac-8872-4279923e07e5",
   "metadata": {},
   "source": [
    "### 2.7. end 인자를 사용하여 출력 줄바꿈 변경"
   ]
  },
  {
   "cell_type": "code",
   "execution_count": null,
   "id": "3c80edff-1e86-4f6e-8a63-fdff76b01da3",
   "metadata": {},
   "outputs": [],
   "source": [
    "a = '강아지'\n",
    "b = '고양이'\n",
    "print(a)\n",
    "print(b)"
   ]
  },
  {
   "cell_type": "code",
   "execution_count": null,
   "id": "ed62c606-d92e-4701-9da4-02be8e029af0",
   "metadata": {},
   "outputs": [],
   "source": [
    "a = '강아지'\n",
    "b = '고양이'\n",
    "print(a, end = '')\n",
    "print(b)"
   ]
  },
  {
   "cell_type": "code",
   "execution_count": null,
   "id": "fd343b8a-8951-4214-8802-13742930df72",
   "metadata": {},
   "outputs": [],
   "source": [
    "print(\"Hello\", end=\", \")\n",
    "print(\"World!\")\n"
   ]
  },
  {
   "cell_type": "markdown",
   "id": "6d3b741b-2409-4066-8cde-c6fbad7abb57",
   "metadata": {},
   "source": [
    "### 2.8. escape character 사용"
   ]
  },
  {
   "cell_type": "code",
   "execution_count": null,
   "id": "a765695a-abc3-4e5c-a5e6-884325eb7983",
   "metadata": {},
   "outputs": [],
   "source": [
    "print(\"She said, \\\"Python is awesome!\\\"\")\n",
    "print(\"Backslash: \\\\\")"
   ]
  },
  {
   "cell_type": "markdown",
   "id": "102e231b-654e-498c-b36b-78491dd7a441",
   "metadata": {},
   "source": [
    "# 3. input 함수\n",
    "출력에는 print 함수를 쓴다면, 입력에는 input 함수를 씁니다.\n",
    "\n",
    "* 변수 = input('질문 내용')\n",
    "* 괄호 안에 질문 내용 입력\n",
    "* 사용자가 질문에 대해 입력한 값 돌려줌\n",
    "* 입력받은 문자열을 수로 바꿈"
   ]
  },
  {
   "cell_type": "markdown",
   "id": "4470f604-fe30-46f1-b5ff-e8bfb132584f",
   "metadata": {},
   "source": [
    "### 3.1. 기본 입력"
   ]
  },
  {
   "cell_type": "code",
   "execution_count": null,
   "id": "e7a7b55f-ad2d-4f1d-8858-b7eb15060081",
   "metadata": {},
   "outputs": [],
   "source": [
    "name = input(\"Enter your name: \")\n",
    "print(name)"
   ]
  },
  {
   "cell_type": "code",
   "execution_count": null,
   "id": "04535275-4cd4-4691-8cd7-18c6a502289c",
   "metadata": {},
   "outputs": [],
   "source": [
    "name = input('이름을 입력하세요 : ')\n",
    "print('안녕하세요', name, '님')"
   ]
  },
  {
   "cell_type": "code",
   "execution_count": null,
   "id": "4df3d152-8a81-4811-830b-98d791aa8e1f",
   "metadata": {},
   "outputs": [],
   "source": [
    "price = input('가격을 입력하세요: ')\n",
    "num = input('개수를 입력하세요: ')\n",
    "sum = int(price) * int(num)\n",
    "print('총액은', sum, '원입니다')"
   ]
  },
  {
   "cell_type": "markdown",
   "id": "553f28b3-9b8d-4079-86b3-8ba5dc00f58e",
   "metadata": {},
   "source": [
    "### 3.2. 숫자 변환"
   ]
  },
  {
   "cell_type": "code",
   "execution_count": null,
   "id": "9ac84d2c-f1fb-4e32-bf23-618831385fb7",
   "metadata": {},
   "outputs": [],
   "source": [
    "age = int(input(\"나이를 입력하세요: \"))\n",
    "print(\"당신은\", age, \"살 입니다.\")"
   ]
  },
  {
   "cell_type": "code",
   "execution_count": null,
   "id": "6585a3e2-ac38-497b-9b8c-cf5922f2c520",
   "metadata": {},
   "outputs": [],
   "source": [
    "price = int(input('가격을 입력하세요: '))\n",
    "num = int(input('개수를 입력하세요: '))\n",
    "sum = price * num\n",
    "print('총액은', sum, '원입니다')"
   ]
  },
  {
   "cell_type": "code",
   "execution_count": null,
   "id": "d4c14843-d204-4401-9294-2f174a36f17a",
   "metadata": {},
   "outputs": [],
   "source": [
    "height = float(input(\"신장 (키 cm)을 입력하세요: \"))\n",
    "print(\"당신의 키는\", height, \"cm 입니다.\")"
   ]
  },
  {
   "cell_type": "markdown",
   "id": "6986ed04-7cb0-4f33-b226-b8efbfaa8c92",
   "metadata": {},
   "source": [
    "### 3.3. 여러 입력 값 한꺼번에 받기"
   ]
  },
  {
   "cell_type": "code",
   "execution_count": null,
   "id": "4a4a127f-4a83-4b94-a4d7-6589ee2a1f2d",
   "metadata": {},
   "outputs": [],
   "source": [
    "x, y = input(\"두 정수 값을 띄어쓰기로 분리하여 입력하세요.\").split()\n",
    "x = int(x)\n",
    "y = int(y)\n",
    "print(\"The sum of\", x, \"and\", y, \"is\", x + y)"
   ]
  },
  {
   "cell_type": "markdown",
   "id": "66d56fba-249c-4ee6-8957-f7178b0660b6",
   "metadata": {},
   "source": [
    "### 3.4. 수식을 처리한 결과 입력 받기"
   ]
  },
  {
   "cell_type": "code",
   "execution_count": null,
   "id": "9fd23a54-229e-4184-8423-ea4854847077",
   "metadata": {},
   "outputs": [],
   "source": [
    "expression = input(\"수식을 입력하세요 (예, 3 + 5): \")\n",
    "result = eval(expression)\n",
    "print(f\"The result is: {result}\")"
   ]
  },
  {
   "cell_type": "markdown",
   "id": "fe35a6fb-c514-4ef0-98c4-44f48c3d794e",
   "metadata": {},
   "source": [
    "### 3.5. 기본 값으로 입력 받기"
   ]
  },
  {
   "cell_type": "code",
   "execution_count": null,
   "id": "e6b8c643-6977-468a-a683-18114cc9ddbf",
   "metadata": {},
   "outputs": [],
   "source": [
    "name = input(\"이름을 입력하세요 (기본값 'Guest'): \") or \"Guest\"\n",
    "print(name)"
   ]
  },
  {
   "cell_type": "markdown",
   "id": "22fd7947-625e-4c68-b359-9208294a9f13",
   "metadata": {},
   "source": [
    "# 4. 변수\n",
    "변수 : 메모리에 이름을 붙이고 값을 저장하는 것\n",
    "\n",
    "명칭 : 변수가 다른 것과 구분되도록 이름 붙인 것\n",
    "\n",
    "규칙\n",
    "* 키워드나 내장 함수, 표준 모듈명은 사용할 수 없음\n",
    "* 모든 명칭은 대소문자를 구분함\n",
    "* 알파벳, 밑줄 문자, 숫자 등으로 구성\n",
    "* 공백, +, - 등은 사용 불가\n",
    "* 첫 글자로 숫자 사용 불가"
   ]
  },
  {
   "cell_type": "markdown",
   "id": "0bbe0354-464e-454d-b38f-5bd8b4acf81d",
   "metadata": {},
   "source": [
    "### 4.1. 변수 선언과 할당"
   ]
  },
  {
   "cell_type": "code",
   "execution_count": null,
   "id": "0ab32e56-841e-4ed9-85a5-596f4cd4c276",
   "metadata": {},
   "outputs": [],
   "source": [
    "안녕 = 1\n",
    "print(안녕)"
   ]
  },
  {
   "cell_type": "markdown",
   "id": "2ff4ce3b-3376-4b63-bd26-e5013b5e8973",
   "metadata": {},
   "source": [
    "### 4.2. 여러 변수에 값 할당"
   ]
  },
  {
   "cell_type": "code",
   "execution_count": null,
   "id": "18bffc4c-5e71-4ff8-9faf-6491b112d395",
   "metadata": {},
   "outputs": [],
   "source": [
    "pi, x = 3.14, 3\n",
    "print(pi, x, pi*x*2)"
   ]
  },
  {
   "cell_type": "markdown",
   "id": "c3a1f8ce-7244-4f8f-aa93-c8544150cdaf",
   "metadata": {},
   "source": [
    "### 4.3. 여러 변수를 동시에 변경"
   ]
  },
  {
   "cell_type": "code",
   "execution_count": null,
   "id": "cc213eb4-cdff-4e84-8381-74a1573a5632",
   "metadata": {},
   "outputs": [],
   "source": [
    "a, b = 3, 2\n",
    "print(a, b)\n",
    "a, b = b, a\n",
    "print(a, b)"
   ]
  },
  {
   "cell_type": "code",
   "execution_count": null,
   "id": "7115aca8-b947-4525-b964-5cfbf3868c4f",
   "metadata": {},
   "outputs": [],
   "source": [
    "prinT = 123\n",
    "print(prinT)"
   ]
  },
  {
   "cell_type": "markdown",
   "id": "1d368d09-5e0c-4e7c-8b09-11fd4bbd7cbd",
   "metadata": {},
   "source": [
    "### 4.4. 키워드는 변수명으로 불가"
   ]
  },
  {
   "cell_type": "code",
   "execution_count": null,
   "id": "814bfc92-8b0a-4e25-88cb-6562ec7b72c0",
   "metadata": {},
   "outputs": [],
   "source": [
    "if = 123\n",
    "print(if)"
   ]
  },
  {
   "cell_type": "code",
   "execution_count": null,
   "id": "ca046ace-33ab-45ec-b8ed-c8fc0369bb62",
   "metadata": {},
   "outputs": [],
   "source": [
    "iF = 123\n",
    "print(iF)"
   ]
  },
  {
   "cell_type": "code",
   "execution_count": null,
   "id": "87dbbff5-3eca-458c-916a-fe23cd3b0984",
   "metadata": {},
   "outputs": [],
   "source": [
    "a+12 = 123\n",
    "print(a+12)"
   ]
  },
  {
   "cell_type": "markdown",
   "id": "61fc7dfe-b265-4b9e-8497-bca0b0107fec",
   "metadata": {},
   "source": [
    "### 4.5. 변수 삭제"
   ]
  },
  {
   "cell_type": "markdown",
   "id": "39294ad0-1d76-464d-b8e1-9b7e5a6ff94a",
   "metadata": {},
   "source": [
    "동적 타입 (Dynamic Type)\n",
    "* 실행 중에 변수 타입 바꿀 수 있음\n",
    "\n",
    "변수는 일단 만들어지면 계속 존재하여 값 유지함\n",
    "* del 명령으로 삭제"
   ]
  },
  {
   "cell_type": "code",
   "execution_count": null,
   "id": "27d5d1d6-99a6-44f0-a26a-c69a9b9ff560",
   "metadata": {},
   "outputs": [],
   "source": [
    "print(iF)"
   ]
  },
  {
   "cell_type": "code",
   "execution_count": null,
   "id": "da4531c0-e0d4-4567-a1db-ba14f7874444",
   "metadata": {},
   "outputs": [],
   "source": [
    "del(iF)"
   ]
  },
  {
   "cell_type": "code",
   "execution_count": null,
   "id": "a15d9d24-2f8d-4f10-aefc-cc649d7e996b",
   "metadata": {},
   "outputs": [],
   "source": [
    "print(iF)"
   ]
  },
  {
   "cell_type": "markdown",
   "id": "254841e3-537d-4a1c-ba6a-40f04e2b70af",
   "metadata": {},
   "source": [
    "### 4.6. 변수의 타입 확인"
   ]
  },
  {
   "cell_type": "code",
   "execution_count": null,
   "id": "1c234cf1-cb41-4195-8e55-cda6ee37136b",
   "metadata": {},
   "outputs": [],
   "source": [
    "a1, a2, a3 = 1, 3.14, \"안녕하세요\"\n",
    "print(type(a1))\n",
    "print(type(a2))\n",
    "print(type(a3))"
   ]
  },
  {
   "cell_type": "markdown",
   "id": "f9a0c42c-0b8f-4964-8f95-4f3d5722dd81",
   "metadata": {},
   "source": [
    "# 5. 연습\n",
    "\n",
    "오늘은 print함수와 input 함수, 그리고 변수의 사용 방법에 대해 배웠습니다.  \n",
    "오늘 배운 것들을 이용해서 다음의 연습문제를 구성해봅시다.  \n",
    "연습문제 : 사용자에게 이름, 학년, 수학성적, 국어성적, 영어성적을 입력받고 이름과 학년, 그리고 모든 성적의 평균을 구하는 프로그램을 만들어보세요."
   ]
  },
  {
   "cell_type": "code",
   "execution_count": null,
   "id": "124e52a9-9ed4-44af-8292-2093e0763006",
   "metadata": {},
   "outputs": [],
   "source": []
  },
  {
   "cell_type": "markdown",
   "id": "6f1c896e-4f0f-4503-af50-f7c861bb8b71",
   "metadata": {},
   "source": [
    "예상 결과 :   \n",
    "이름 :  김영희  \n",
    "학년 :  1  \n",
    "수학성적 :  100  \n",
    "국어성적 :  100  \n",
    "영어성적 :  90   \n",
    "이름 : 김영희, 학년 : 1, 평균 : 96.67"
   ]
  },
  {
   "cell_type": "code",
   "execution_count": null,
   "id": "1f8bffd5-e847-4d5e-9039-8004ca782104",
   "metadata": {},
   "outputs": [],
   "source": []
  }
 ],
 "metadata": {
  "kernelspec": {
   "display_name": "Python 3 (ipykernel)",
   "language": "python",
   "name": "python3"
  },
  "language_info": {
   "codemirror_mode": {
    "name": "ipython",
    "version": 3
   },
   "file_extension": ".py",
   "mimetype": "text/x-python",
   "name": "python",
   "nbconvert_exporter": "python",
   "pygments_lexer": "ipython3",
   "version": "3.11.5"
  }
 },
 "nbformat": 4,
 "nbformat_minor": 5
}
