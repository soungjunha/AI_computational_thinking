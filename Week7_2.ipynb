{
 "cells": [
  {
   "cell_type": "markdown",
   "id": "b39b24a2-1309-4d76-8579-8c92caefd2f6",
   "metadata": {},
   "source": [
    "# Week 7 (2) - 문자열 +\n",
    "### 인공지능과 컴퓨팅 사고 - AI Computational Thinking\n",
    "##### Author : Jihyeon Ryu\n",
    "##### Date : 2024-10-16 (Wed)"
   ]
  },
  {
   "cell_type": "markdown",
   "id": "7463e226-979b-48a6-9bae-686a3bf084f7",
   "metadata": {},
   "source": [
    "# 0. 함수 복습"
   ]
  },
  {
   "cell_type": "code",
   "execution_count": null,
   "id": "832f0f3d-f3a1-45b6-88ea-987ca53ec7b2",
   "metadata": {},
   "outputs": [],
   "source": [
    "def printsum(n):\n",
    "    sum = 0\n",
    "    for num in range(n + 1):\n",
    "        sum += num\n",
    "    print(\"~\", n, \"=\", sum)\n",
    "\n",
    "printsum(4)\n",
    "printsum(10)"
   ]
  },
  {
   "cell_type": "code",
   "execution_count": null,
   "id": "b319eb79-97d8-4c6b-bed2-fd5db8a60a3e",
   "metadata": {},
   "outputs": [],
   "source": [
    "def calcscore(x, *y, **z):\n",
    "    print(x)\n",
    "    sum = 0\n",
    "    for s in y:\n",
    "        sum += s\n",
    "    print(\"총점 :\", sum)\n",
    "    if (z['abc'] == True ):\n",
    "        print(\"평균 :\", sum / len(y))\n",
    "\n",
    "calcscore(\"김상형\", 88, 99, 77, abc = True)\n",
    "calcscore(\"김한슬\", 99, 98, 95, 89, abc = False)"
   ]
  },
  {
   "cell_type": "code",
   "execution_count": null,
   "id": "65dc9a28-2100-47e9-885d-0714f55de5b8",
   "metadata": {},
   "outputs": [],
   "source": [
    "def introduce_yourself(**kwargs):\n",
    "    for key, value in kwargs.items():\n",
    "        print(f\"{key}: {value}\")\n",
    "\n",
    "introduce_yourself(name=\"Alice\", age=30, job=\"Engineer\")"
   ]
  },
  {
   "cell_type": "markdown",
   "id": "48211ff4-6f54-4b20-93ef-2d7d68fef838",
   "metadata": {},
   "source": [
    "# 0. 문자열 복습"
   ]
  },
  {
   "cell_type": "markdown",
   "id": "122e8965-4900-4d37-ba35-065f7d57d443",
   "metadata": {},
   "source": [
    "문자열은 list 형태로 되어있어 각 값에 index가 부여되어 있습니다. 가장 앞에 나오는 것을 0번째 index로 취급하며 다음 순서에 따라 하나씩 증가합니다.\n",
    "\n",
    "또한, 문자열 음수 index는 문자열의 맨 뒤에서부터 확인하는 것을 의미합니다."
   ]
  },
  {
   "cell_type": "code",
   "execution_count": null,
   "id": "9888bdd9-0e8e-4eb6-8819-4004582df3b5",
   "metadata": {},
   "outputs": [],
   "source": [
    "s = \"python\"\n",
    "print(s[2])\n",
    "print(s[-2])"
   ]
  },
  {
   "cell_type": "markdown",
   "id": "46a0f67f-2e6e-4506-a721-233430c2c5ad",
   "metadata": {},
   "source": [
    "슬라이스\n",
    "* 범위 지정하여 부분 문자열을 추출\n",
    "* [begin:end:step]\n",
    "* 시작, 끝, 증가량을 지정"
   ]
  },
  {
   "cell_type": "code",
   "execution_count": null,
   "id": "38ae1ca1-b761-4f17-8622-7211a1ca7bd7",
   "metadata": {},
   "outputs": [],
   "source": [
    "s = \"python\"\n",
    "print(s[2:5])\n",
    "print(s[3:])\n",
    "print(s[:4])\n",
    "print(s[2:-2])"
   ]
  },
  {
   "cell_type": "code",
   "execution_count": null,
   "id": "1c6040e0-4a3a-4df2-bdde-0f2e33e56f8a",
   "metadata": {},
   "outputs": [],
   "source": [
    "file = \"20171224-104830.jpg\"\n",
    "print(\"촬영 날짜 : \" + file[4:6] + \"월 \" + file[6:8] + \"일\")\n",
    "print(\"촬영 시간 : \" + file[9:11] + \"시 \" + file[11:13] + \"분\")\n",
    "print(\"확장자 : \" + file[-3:])"
   ]
  },
  {
   "cell_type": "code",
   "execution_count": null,
   "id": "e93fbef0-a485-438a-872c-fa4947105fb6",
   "metadata": {},
   "outputs": [],
   "source": [
    "yoil = \"월화수목금토일\"\n",
    "print(yoil[::2])\n",
    "print(yoil[::-1])"
   ]
  },
  {
   "cell_type": "markdown",
   "id": "cb5f422c-329f-4321-8162-4a95db320711",
   "metadata": {},
   "source": [
    "* len 함수 : 문자열의 길이 조사\n",
    "* find 메서드 : 인수로 지정한 문자 또는 부분 문자열의 위치 조사\n",
    "* rfind 메서드 : 뒤에서 검색 시작\n",
    "* count 메서드 : 특정 문자 개수"
   ]
  },
  {
   "cell_type": "code",
   "execution_count": null,
   "id": "9c93342d-14cf-4d6c-932d-b37108b1ade8",
   "metadata": {},
   "outputs": [],
   "source": [
    "s = \"python programming\"\n",
    "print(len(s))\n",
    "print(s.find('o'))\n",
    "print(s.rfind('o'))\n",
    "print(s.index('r'))\n",
    "print(s.count('n'))"
   ]
  },
  {
   "cell_type": "code",
   "execution_count": null,
   "id": "3a4fc568-a082-4061-a647-3c7ab6fb4607",
   "metadata": {},
   "outputs": [],
   "source": [
    "s = \"\"\"생각이란 생각할수록 생각나므로 생각하지 말아야 할 생각은 생각하지 \n",
    "않으려고 하는 생각이 옳은 생각이라고 생각합니다.\"\"\"\n",
    "print(\"생각의 출현 횟수 :\", s.count('생각'))"
   ]
  },
  {
   "cell_type": "code",
   "execution_count": null,
   "id": "ebcc63ce-bd3b-43d6-a871-6cfd2fa4c87b",
   "metadata": {},
   "outputs": [],
   "source": [
    "s = \"python programming\"\n",
    "print('a' in s)\n",
    "print('z' in s)\n",
    "print('pro' in s)\n",
    "print('x' not in s)"
   ]
  },
  {
   "cell_type": "markdown",
   "id": "896b2fe2-7df3-4c3e-9ab3-a455f4ec0268",
   "metadata": {},
   "source": [
    "# 1. 문자열 +"
   ]
  },
  {
   "cell_type": "markdown",
   "id": "1f48e1be-3a9e-4ef8-80f6-d822bc1fc8ea",
   "metadata": {},
   "source": [
    "## 1.1. 문자열의 매서드"
   ]
  },
  {
   "cell_type": "markdown",
   "id": "9f5f8bd1-4626-4286-8b3a-bd877c4e231e",
   "metadata": {},
   "source": [
    "문자열의 시작값 판단\n",
    "* string.startswith(\"시작값\")\n",
    "  \n",
    "문자열의 끝값 판단\n",
    "* string.endswith(\"끝값\")"
   ]
  },
  {
   "cell_type": "code",
   "execution_count": null,
   "id": "7f805c8f-038a-40f0-ac73-50f2d1d80633",
   "metadata": {},
   "outputs": [],
   "source": [
    "name = \"김한결\"\n",
    "if name.startswith(\"김\"):\n",
    "    print(\"김가입니다.\")\n",
    "if name.startswith(\"한\"):\n",
    "    print(\"한가입니다.\")\n",
    "\n",
    "file = \"girl.jpg\"\n",
    "if file.endswith(\".jpg\"):\n",
    "    print(\"그림 파일입니다.\")"
   ]
  },
  {
   "cell_type": "markdown",
   "id": "7fead8a6-b1b0-486c-a7df-f664b7d6f1e2",
   "metadata": {},
   "source": [
    "문자열 method\n",
    "* isalpha : 알파벳\n",
    "* islower : 소문자\n",
    "* isupper : 대문자\n",
    "* isspace : 공백\n",
    "* isalnum : 알파벳 혹은 숫자\n",
    "* isdecimal : 숫자\n",
    "* isdigit : 숫자\n",
    "* isnumeric : 숫자\n",
    "* isidentifier : 변수명 가능 문자\n",
    "* isprintable : 인쇄 가능한 문자"
   ]
  },
  {
   "cell_type": "code",
   "execution_count": null,
   "id": "5efba121-b0e4-4f03-9116-90020e566bc8",
   "metadata": {},
   "outputs": [],
   "source": [
    "height = input(\"키를 입력하세요 :\")\n",
    "if height.isdecimal():\n",
    "    print(\"키 =\", height)\n",
    "else:\n",
    "    print(\"숫자만 입력하세요.\")"
   ]
  },
  {
   "cell_type": "markdown",
   "id": "71cb898f-bb98-4e23-b282-d826b6a10eeb",
   "metadata": {},
   "source": [
    "lower 메서드 / upper 메서드\n",
    "* 각기 영문자를 전부 소문자 / 대문자로 바꿈"
   ]
  },
  {
   "cell_type": "code",
   "execution_count": null,
   "id": "941f670d-d795-4ddd-8ffe-f455eb6e3756",
   "metadata": {},
   "outputs": [],
   "source": [
    "python = input(\"파이썬의 영문 철자를 입력하시오 : \")\n",
    "if python.lower() == \"python\":\n",
    "    print(\"맞췄습니다.\")"
   ]
  },
  {
   "cell_type": "markdown",
   "id": "a8b8b6ba-2041-47f9-b3e6-e91ba1d3bcd4",
   "metadata": {},
   "source": [
    "swapcase / capitalize / title\n",
    "* 대문자 <-> 소문자 / 첫자만 대문자, 나머지는 소문자 / 띄어쓰기 뒤는 대문자, 나머지는 소문자"
   ]
  },
  {
   "cell_type": "code",
   "execution_count": null,
   "id": "9323f90a-1a2a-42e1-9736-fba22eb22649",
   "metadata": {},
   "outputs": [],
   "source": [
    "s = \"Good morning. my love KIM.\"\n",
    "print(s.lower())\n",
    "print(s.upper())\n",
    "print(s)\n",
    "\n",
    "print(s.swapcase())\n",
    "print(s.capitalize())\n",
    "print(s.title())"
   ]
  },
  {
   "cell_type": "markdown",
   "id": "ec62c4ea-f8d8-4244-9267-7720e69a5d6e",
   "metadata": {},
   "source": [
    "lstrip / rstrip / strip 메서드\n",
    "* 왼쪽 / 오른쪽 / 양측 공백을 제거"
   ]
  },
  {
   "cell_type": "code",
   "execution_count": null,
   "id": "bd135edc-9c8b-4420-9572-c1833b75b95d",
   "metadata": {},
   "outputs": [],
   "source": [
    "s = \"  angel   \"\n",
    "print(s + \"님\")\n",
    "print(s.lstrip() + \"님\")\n",
    "print(s.rstrip() + \"님\")\n",
    "print(s.strip() + \"님\")"
   ]
  },
  {
   "cell_type": "markdown",
   "id": "bd6b45de-63c9-4746-a672-2ab7293d8fb3",
   "metadata": {},
   "source": [
    "split 메서드\n",
    "* 구분자를 기준으로 문자열을 분할\n",
    "\n",
    "splitlines 메서드\n",
    "* 개행 문자나 파일 구분자 등 기준으로 문자열 잘라 리스트로 만듦"
   ]
  },
  {
   "cell_type": "code",
   "execution_count": null,
   "id": "e3f74ab2-0ed8-4f14-aacc-91953f096d55",
   "metadata": {},
   "outputs": [],
   "source": [
    "s = \"짜장 짬뽕 탕슉\"\n",
    "print(s.split())\n",
    "\n",
    "s2 = \"서울->대전->대구->부산\"\n",
    "city = s2.split(\"->\")\n",
    "print(city)\n",
    "for c in city:\n",
    "    print(c, \"찍고\", end = ' ')"
   ]
  },
  {
   "cell_type": "code",
   "execution_count": null,
   "id": "11efb794-0c6e-469e-85c0-9d161fca6f47",
   "metadata": {},
   "outputs": [],
   "source": [
    "traveler = \"\"\"강나루 건너서\\n밀밭 길을\\n\\n구름에 달 가듯이\\n가는 나그네\\n\n",
    "길은 외줄기\\n남도 삼백리\\n\\n술 익는 마을마다\\n타는 저녁놀\\n\n",
    "구름에 달 가듯이\\n가는 나그네\"\"\"\n",
    "poet = traveler.splitlines()\n",
    "for line in poet:\n",
    "    print(line)"
   ]
  },
  {
   "cell_type": "markdown",
   "id": "920cfa0f-88a5-4032-8623-8e6cd419f734",
   "metadata": {},
   "source": [
    "join 메서드\n",
    "* 문자열의 각 문자 사이에 다른 문자열 끼워넣음"
   ]
  },
  {
   "cell_type": "code",
   "execution_count": null,
   "id": "cd59b386-6c18-4a8f-815d-41681c800229",
   "metadata": {},
   "outputs": [],
   "source": [
    "s = \"._.\"\n",
    "print(s.join(\"대한민국\"))"
   ]
  },
  {
   "cell_type": "code",
   "execution_count": null,
   "id": "20d66fd2-b8fc-40b5-bc03-a5269b6aceb7",
   "metadata": {},
   "outputs": [],
   "source": [
    "s2 = \"서울->대전->대구->부산\"\n",
    "city = s2.split(\"->\")\n",
    "print(\" 찍고 \".join(city))"
   ]
  },
  {
   "cell_type": "markdown",
   "id": "124e4ddc-1ec8-4bfc-98e6-91caf25c544b",
   "metadata": {},
   "source": [
    "대체\n",
    "replace 메서드\n",
    "* 특정 문자열을 찾아 다른 문자열로 대체\n",
    "* 첫 번째 인수 : 검색할 문자열 지정\n",
    "* 두 번째 인수 : 바꿀 문자열 지정"
   ]
  },
  {
   "cell_type": "code",
   "execution_count": null,
   "id": "9c4c107b-d4bd-4303-8f1c-0695e80f5824",
   "metadata": {},
   "outputs": [],
   "source": [
    "s = \"독도는 일본땅이다. 대마도도 일본땅이다.\"\n",
    "print(s)\n",
    "print(s.replace(\"일본\", \"한국\"))"
   ]
  },
  {
   "cell_type": "markdown",
   "id": "e40c90ca-4a89-4d8a-a2c9-62ebbe77fa3c",
   "metadata": {},
   "source": [
    "just 메서드\n",
    "* 문자열을 특정 폭에 맞추어 정렬"
   ]
  },
  {
   "cell_type": "markdown",
   "id": "b5f5c48f-fc46-4f53-af64-bc170f263213",
   "metadata": {},
   "source": [
    "center 메서드\n",
    "* 중앙 정렬"
   ]
  },
  {
   "cell_type": "code",
   "execution_count": null,
   "id": "60466ebd-6610-483f-a258-1b3948a29940",
   "metadata": {},
   "outputs": [],
   "source": [
    "message = \"안녕하세요.\"\n",
    "print(message.ljust(30))\n",
    "print(message.rjust(30))\n",
    "print(message.center(30))"
   ]
  },
  {
   "cell_type": "code",
   "execution_count": 5,
   "id": "dc2422ac-33c2-475a-afff-b7f7c64c5e6c",
   "metadata": {},
   "outputs": [
    {
     "name": "stdout",
     "output_type": "stream",
     "text": [
      "           강나루 건너서            \n",
      "            밀밭 길을             \n",
      "                              \n",
      "          구름에 달 가듯이           \n",
      "            가는 나그네            \n",
      "                              \n",
      "            길은 외줄기            \n",
      "            남도 삼백리            \n",
      "                              \n",
      "          술 익는 마을마다           \n",
      "            타는 저녁놀            \n",
      "                              \n",
      "          구름에 달 가듯이           \n",
      "            가는 나그네            \n"
     ]
    }
   ],
   "source": [
    "traveler = \"\"\"강나루 건너서\\n밀밭 길을\\n\\n구름에 달 가듯이\\n가는 나그네\\n\n",
    "길은 외줄기\\n남도 삼백리\\n\\n술 익는 마을마다\\n타는 저녁놀\\n\n",
    "구름에 달 가듯이\\n가는 나그네\"\"\"\n",
    "poet = traveler.splitlines()\n",
    "for line in poet:\n",
    "    print(line.center(30))"
   ]
  },
  {
   "cell_type": "markdown",
   "id": "558d2725-0910-42be-92d3-152af59701f6",
   "metadata": {},
   "source": [
    "## 1.2. 문자열의 포맷팅"
   ]
  },
  {
   "cell_type": "markdown",
   "id": "fb8e9e90-52e0-48ae-8c09-481432ce910b",
   "metadata": {},
   "source": [
    "포맷팅\n",
    "* 문자열 사이사이에 다른 정보 삽입하여 조립하는 기법"
   ]
  },
  {
   "cell_type": "code",
   "execution_count": null,
   "id": "0c11ec6f-d1ad-4eca-9f1d-857c650e014e",
   "metadata": {},
   "outputs": [],
   "source": [
    "price = 500\n",
    "print(\"궁금하면 \" + str(price) + \"원!\")"
   ]
  },
  {
   "cell_type": "code",
   "execution_count": null,
   "id": "1a45e5e0-4987-4d4f-be05-550fc463b0aa",
   "metadata": {},
   "outputs": [],
   "source": [
    "price = 500\n",
    "print(\"궁금하면 %d원!\" % price)"
   ]
  },
  {
   "cell_type": "code",
   "execution_count": null,
   "id": "70814984-9d22-4a69-b5b9-cc788efc192f",
   "metadata": {},
   "outputs": [],
   "source": [
    "month = 8\n",
    "day = 15\n",
    "anni = \"광복절\"\n",
    "print(\"%d월 %d일은 %s이다.\" % (month, day, anni))"
   ]
  },
  {
   "cell_type": "code",
   "execution_count": null,
   "id": "0ea0d7cf-4756-483a-872f-feebfbb54ae2",
   "metadata": {},
   "outputs": [],
   "source": [
    "value = 123\n",
    "print(\"###%d###\" % value)\n",
    "print(\"###%5d###\" % value)\n",
    "print(\"###%10d###\" % value)\n",
    "print(\"###%1d###\" % value)"
   ]
  },
  {
   "cell_type": "markdown",
   "id": "c7d1f40b-18f4-4709-8db2-539edec76c44",
   "metadata": {},
   "source": [
    "서식\n",
    "* %[-]폭[.유효자리수]서식\n",
    "* 폭에 – 지정하여 왼쪽 정렬\n",
    "* . 기호로 소수점 이하 표시 자리수 설정"
   ]
  },
  {
   "cell_type": "code",
   "execution_count": null,
   "id": "a7232777-e3b5-4e05-b6e0-2ebd489ea0ff",
   "metadata": {},
   "outputs": [],
   "source": [
    "price = [30, 13500, 2000]\n",
    "for p in price:\n",
    "    print(\"가격:%d원\" % p)\n",
    "for p in price:\n",
    "    print(\"가격:%7d원\" % p)"
   ]
  },
  {
   "cell_type": "code",
   "execution_count": null,
   "id": "d671405f-ecec-4987-891c-6fd8f51ad218",
   "metadata": {},
   "outputs": [],
   "source": [
    "price = [30, 13500, 2000]\n",
    "for p in price:\n",
    "    print(\"가격:%-7d원\" % p)"
   ]
  },
  {
   "cell_type": "code",
   "execution_count": null,
   "id": "c62219e1-0a0a-41d4-9980-70982d7f1766",
   "metadata": {},
   "outputs": [],
   "source": [
    "pie = 3.14159265\n",
    "print(\"%10f\" % pie)\n",
    "print(\"%10.8f\" % pie)\n",
    "print(\"%10.5f\" % pie)\n",
    "print(\"%10.2f\" % pie)"
   ]
  },
  {
   "cell_type": "code",
   "execution_count": null,
   "id": "2b748685-fa7c-4750-9885-88848e9cb686",
   "metadata": {},
   "outputs": [],
   "source": [
    "name = \"길동\"\n",
    "age = 16\n",
    "height = 162.5\n",
    "print(\"이름:{}, 나이:{}, 키:{}\".format(name, age, height))"
   ]
  },
  {
   "cell_type": "code",
   "execution_count": null,
   "id": "2e0e28b7-fcb6-4a50-9180-da61952f7fba",
   "metadata": {},
   "outputs": [],
   "source": [
    "name = \"길동\"\n",
    "age = 16\n",
    "height = 162.5\n",
    "print(\"이름:{0:s}, 나이:{1:d}, 키:{2:f}\".format(name, age, height))"
   ]
  },
  {
   "cell_type": "code",
   "execution_count": null,
   "id": "d2f01fc0-cdba-4fe7-a7b8-1779e3617991",
   "metadata": {},
   "outputs": [],
   "source": [
    "name = \"길동\"\n",
    "age = 16\n",
    "height = 162.5\n",
    "print(\"이름:{0:10s}, 나이:{1:5d}, 키:{2:8.2f}\".format(name, age, height))"
   ]
  },
  {
   "cell_type": "code",
   "execution_count": null,
   "id": "dc6d2aa1-a016-493a-afcb-dba2641b79ad",
   "metadata": {},
   "outputs": [],
   "source": [
    "name = \"길동\"\n",
    "age = 16\n",
    "height = 162.5\n",
    "print(\"이름:{0:^10s}, 나이:{1:>5d}, 키:{2:<8.2f}\".format(name, age, height))"
   ]
  },
  {
   "cell_type": "code",
   "execution_count": 4,
   "id": "2532a002-a637-447a-9816-a7a6f577bc6b",
   "metadata": {},
   "outputs": [
    {
     "name": "stdout",
     "output_type": "stream",
     "text": [
      "이름:$$$$길동$$$$, 나이:00016, 키:162.50!!\n"
     ]
    }
   ],
   "source": [
    "name = \"길동\"\n",
    "age = 16\n",
    "height = 162.5\n",
    "print(\"이름:{0:$^10s}, 나이:{1:>05d}, 키:{2:!<8.2f}\".format(name, age, height))"
   ]
  },
  {
   "cell_type": "code",
   "execution_count": 3,
   "id": "a46772e4-5eef-4026-8762-2dfaf1ae5008",
   "metadata": {},
   "outputs": [
    {
     "name": "stdout",
     "output_type": "stream",
     "text": [
      "이름:$$$$길동$$$$, 나이:00016, 키:162.50!!\n"
     ]
    }
   ],
   "source": [
    "name = \"길동\"\n",
    "age = 16\n",
    "height = 162.5\n",
    "print(f\"이름:{name:$^10s}, 나이:{age:>05d}, 키:{height:!<8.2f}\")"
   ]
  },
  {
   "cell_type": "markdown",
   "id": "080371cd-4f23-4fe3-ae3b-b8ba37a262d3",
   "metadata": {},
   "source": [
    "# 2. 문자열 연습문제"
   ]
  },
  {
   "cell_type": "markdown",
   "id": "9232e884-f58f-49dc-8d5a-8e445b91b299",
   "metadata": {},
   "source": [
    "사용자의 이름, 키, 체중을 입력받아 개별 bmi, 비만상태, 평균키와 체중을 계산하는 프로그램을 작성하세요. 단, bmi 및 비만 상태의 계산 방법은 다음과 같습니다.\n",
    "* bmi = weight / ((0.01 * height) ** 2)\n",
    "* bmi < 18.5 => 저체중\n",
    "* 18.5 <= bmi < 25 => 정상 체중\n",
    "* 25 <= bmi < 30 => 과체중\n",
    "* 30 <= bmi => 비만"
   ]
  },
  {
   "cell_type": "code",
   "execution_count": 11,
   "id": "8977536d-842d-41c4-9abc-31211332f3b9",
   "metadata": {},
   "outputs": [
    {
     "name": "stdin",
     "output_type": "stream",
     "text": [
      "이름을 입력하세요 (0을 입력하면 종료):  기억\n",
      "키를 cm 단위로 입력하세요:  150\n",
      "체중을 kg 단위로 입력하세요:  55\n",
      "이름을 입력하세요 (0을 입력하면 종료):  니은\n",
      "키를 cm 단위로 입력하세요:  160\n",
      "체중을 kg 단위로 입력하세요:  45\n",
      "이름을 입력하세요 (0을 입력하면 종료):  디귿\n",
      "키를 cm 단위로 입력하세요:  170\n",
      "체중을 kg 단위로 입력하세요:  55\n",
      "이름을 입력하세요 (0을 입력하면 종료):  리을\n",
      "키를 cm 단위로 입력하세요:  180\n",
      "체중을 kg 단위로 입력하세요:  85\n",
      "이름을 입력하세요 (0을 입력하면 종료):  미음\n",
      "키를 cm 단위로 입력하세요:  150\n",
      "체중을 kg 단위로 입력하세요:  80\n",
      "이름을 입력하세요 (0을 입력하면 종료):  0\n"
     ]
    },
    {
     "name": "stdout",
     "output_type": "stream",
     "text": [
      "이름\t키(cm)\t체중(kg)\tBMI\t상태\n",
      "================================================\n",
      "기억\t150.0\t55.0\t\t24.44\t정상 체중\n",
      "니은\t160.0\t45.0\t\t17.58\t저체중\n",
      "디귿\t170.0\t55.0\t\t19.03\t정상 체중\n",
      "리을\t180.0\t85.0\t\t26.23\t과체중\n",
      "미음\t150.0\t80.0\t\t35.56\t비만\n",
      "================================================\n",
      "평균 키: 162.0\n",
      "평균 체중: 64.0\n"
     ]
    }
   ],
   "source": [
    "user_data = []\n",
    "\n",
    "while True:\n",
    "    name = input(\"이름을 입력하세요 (0을 입력하면 종료): \")\n",
    "    if name == '0':\n",
    "        break\n",
    "    height = float(input(\"키를 cm 단위로 입력하세요: \"))\n",
    "    weight = float(input(\"체중을 kg 단위로 입력하세요: \"))\n",
    "    #### (1) 이 부분을 채워넣으세요. - user_data에 name, height, weight를 추가하는 부분 #####\n",
    "    \n",
    "print(\"이름\\t키(cm)\\t체중(kg)\\tBMI\\t상태\")\n",
    "print(\"================================================\")\n",
    "\n",
    "index = 0     # 인원 확인\n",
    "sumheight = 0 # 전체 인원의 키 합산\n",
    "sumweight = 0 # 전체 인원의 체중 합산\n",
    "for data in user_data:\n",
    "    #### (2) 이 부분을 채워넣으세요 - data에서 name, weight, height를 빼오는 부분 ####\n",
    "    \n",
    "    #### (3) 이 부분을 채워넣으세요 - BMI를 계산하는 부분 ####\n",
    "    #### (4) 이 부분을 채워넣으세요 - BMI에 따라 상태를 분류하는 부분 ####\n",
    "    #### (5) 이 부분을 채워넣으세요 - 개별 이름, 키, 체중, bmi, 상태 출력 ####\n",
    "    index += 1          # 인원 증가\n",
    "    sumheight += height # 키 합산\n",
    "    sumweight += weight # 체중 합산\n",
    "\n",
    "print(\"================================================\")\n",
    "print(\"평균 키:\", sumheight/index)\n",
    "print(\"평균 체중:\", sumweight/index)"
   ]
  },
  {
   "cell_type": "code",
   "execution_count": null,
   "id": "6eced692-2a65-4f3f-af79-87f7cf5425b0",
   "metadata": {},
   "outputs": [],
   "source": []
  }
 ],
 "metadata": {
  "kernelspec": {
   "display_name": "Python 3 (ipykernel)",
   "language": "python",
   "name": "python3"
  },
  "language_info": {
   "codemirror_mode": {
    "name": "ipython",
    "version": 3
   },
   "file_extension": ".py",
   "mimetype": "text/x-python",
   "name": "python",
   "nbconvert_exporter": "python",
   "pygments_lexer": "ipython3",
   "version": "3.11.5"
  }
 },
 "nbformat": 4,
 "nbformat_minor": 5
}
