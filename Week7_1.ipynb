{
 "cells": [
  {
   "cell_type": "markdown",
   "id": "b39b24a2-1309-4d76-8579-8c92caefd2f6",
   "metadata": {},
   "source": [
    "# Week 7 (1) - 함수\n",
    "### 인공지능과 컴퓨팅 사고 - AI Computational Thinking\n",
    "##### Author : Jihyeon Ryu\n",
    "##### Date : 2024-10-14 (Mon)"
   ]
  },
  {
   "cell_type": "markdown",
   "id": "4c112348-e31e-46d1-afb2-d00db7763ba9",
   "metadata": {},
   "source": [
    "# 0. 리스트와 튜플 복습\n",
    "\n",
    "리스트 (List)\n",
    "* 자료의 집합\n",
    "* 리스트는 여러 개 값을 집합적으로 저장\n",
    "\n",
    "요소 (Element)\n",
    "* 리스트에 소속되는 각각의 값\n",
    "* 리스트에는 주로 같은 타입 요소를 모음\n",
    "\n",
    "튜플\n",
    "* 불변 자료 집합\n",
    "* 튜플은 초기화한 후 편집할 수 없다는 점에서 리스트와 차이\n",
    "* 소괄호 사용하여 정의\n",
    "* print : 튜플 출력 시 소괄호 함께 출력하여 리스트 아님을 나타냄\n",
    "* 정의할 때에는 소괄호 없이 값만 나열해도 무관함\n",
    "* 요소 하나밖에 없는 경우에는 값 다음에 콤마 찍어 튜플임을 표시"
   ]
  },
  {
   "cell_type": "code",
   "execution_count": null,
   "id": "eae37257-4561-4c88-b8a4-a786f4de4aa6",
   "metadata": {},
   "outputs": [],
   "source": [
    "\n",
    "# =============== listscore  ===============\n",
    "score = [ 88, 95, 70, 100, 99 ]\n",
    "sum = 0\n",
    "for s in score:\n",
    "    sum += s\n",
    "print(\"총점 : \", sum)\n",
    "print(\"평균 : \", sum / len(score))\n"
   ]
  },
  {
   "cell_type": "markdown",
   "id": "e380e994-4254-43ae-b1ab-63470b65ec3d",
   "metadata": {},
   "source": [
    "개별 요소 읽기와 요소의 범위 지정"
   ]
  },
  {
   "cell_type": "code",
   "execution_count": null,
   "id": "3c4323c2-d24f-438c-ae99-27f4a092c94c",
   "metadata": {},
   "outputs": [],
   "source": [
    "\n",
    "# =============== listslice  ===============\n",
    "nums = [0,1,2,3,4,5,6,7,8,9]\n",
    "print(nums[2:5])        # 2~5까지\n",
    "print(nums[:4])         # 처음부터 4까지\n",
    "print(nums[6:])         # 6에서 끝까지\n",
    "print(nums[1:7:2])      # 1~7까지 하나씩 건너뛰며\n"
   ]
  },
  {
   "cell_type": "code",
   "execution_count": null,
   "id": "80580377-b7f2-4f04-974b-10c29406fe05",
   "metadata": {},
   "outputs": [],
   "source": [
    "\n",
    "# =============== nestlist  ===============\n",
    "lol = [ [1, 2, 3], [4, 5], [6, 7, 8, 9]]\n",
    "print(lol[0])\n",
    "print(lol[2][1])\n",
    "\n",
    "for sub in lol:\n",
    "    for item in sub:\n",
    "        print(item, end=' ')\n",
    "    print()"
   ]
  },
  {
   "cell_type": "markdown",
   "id": "66c15166-bbb3-4ccb-bb67-5e72b6b5b0b0",
   "metadata": {},
   "source": [
    "리스트 컴프리헨션 (List Comprehension)\n",
    "* [수식 for 변수 in 리스트 if 조건]"
   ]
  },
  {
   "cell_type": "code",
   "execution_count": null,
   "id": "bdaea349-8c98-40ae-8de6-89a59238a6c3",
   "metadata": {},
   "outputs": [],
   "source": [
    "# =============== listcomp  ===============\n",
    "nums = [n * 2 for n in range(1, 11)]\n",
    "for i in nums:\n",
    "    print(i, end = ', ')"
   ]
  },
  {
   "cell_type": "code",
   "execution_count": null,
   "id": "99f71d93-8276-4f86-9f6d-102facd345f3",
   "metadata": {},
   "outputs": [],
   "source": [
    "# =============== insertrange  ===============\n",
    "nums = [1, 2, 3, 4]\n",
    "nums[2:2] = [90, 91, 92]\n",
    "print(nums)\n",
    "\n",
    "nums = [1, 2, 3, 4]\n",
    "nums[2] = [90, 91, 92]\n",
    "print(nums)"
   ]
  },
  {
   "cell_type": "code",
   "execution_count": null,
   "id": "9f1f74c9-f983-4692-a215-7545b717776d",
   "metadata": {},
   "outputs": [],
   "source": [
    "# =============== listinsert  ===============\n",
    "nums = [1, 2, 3, 4]\n",
    "nums.append(5)\n",
    "print(nums)\n",
    "nums.insert(2, 99)\n",
    "print(nums)\n"
   ]
  },
  {
   "cell_type": "code",
   "execution_count": null,
   "id": "80c604b8-64da-41c3-b884-21c1c467b1bd",
   "metadata": {},
   "outputs": [],
   "source": [
    "# =============== insertrange  ===============\n",
    "nums = [1, 2, 3, 4]\n",
    "nums[2:2] = [90, 91, 92]\n",
    "print(nums)\n",
    "\n",
    "nums = [1, 2, 3, 4]\n",
    "nums[2] = [90, 91, 92]\n",
    "print(nums)\n"
   ]
  },
  {
   "cell_type": "code",
   "execution_count": null,
   "id": "1a63d57e-5b25-48f1-9057-6b0838fac947",
   "metadata": {},
   "outputs": [],
   "source": [
    "# =============== extend  ===============\n",
    "list1 = [1, 2, 3, 4, 5]\n",
    "list2 = [10, 11]\n",
    "list3 = list1 + list2\n",
    "list1.extend(list2)\n",
    "print(list1)\n",
    "print(list3)"
   ]
  },
  {
   "cell_type": "code",
   "execution_count": null,
   "id": "70b8e038-5983-4d0c-b087-66906e91eecc",
   "metadata": {},
   "outputs": [],
   "source": [
    "# =============== listremove  ===============\n",
    "score = [ 88, 95, 70, 100, 99, 80, 78, 50 ]\n",
    "score.remove(100)\n",
    "print(score)\n",
    "del(score[2])\n",
    "print(score)\n",
    "score[1:4] = []\n",
    "print(score)"
   ]
  },
  {
   "cell_type": "code",
   "execution_count": null,
   "id": "f9312fea-bbe0-4f84-9dec-2cb50a8a028e",
   "metadata": {},
   "outputs": [],
   "source": [
    "# =============== pop  ===============\n",
    "score = [ 88, 95, 70, 100, 99 ]\n",
    "print(score.pop())\n",
    "print(score.pop())\n",
    "print(score.pop(0))\n",
    "print(score)"
   ]
  },
  {
   "cell_type": "code",
   "execution_count": null,
   "id": "b214c848-b143-4a94-b09c-f8adfa8f823d",
   "metadata": {},
   "outputs": [],
   "source": [
    "# =============== listindex  ===============\n",
    "score = [ 88, 95, 70, 100, 99, 80, 78, 50 ]\n",
    "perfect = score.index(100)\n",
    "print(\"만점 받은 학생은 \" + str(perfect) + \"번입니다.\")\n",
    "pernum = score.count(100)\n",
    "print(\"만점자 수는 \" + str(pernum) + \"명입니다\")"
   ]
  },
  {
   "cell_type": "code",
   "execution_count": null,
   "id": "c9f5d450-ae3b-4654-ab61-4f318f7fa32c",
   "metadata": {},
   "outputs": [],
   "source": [
    "# =============== sort  ===============\n",
    "score = [ 88, 95, 70, 100, 99 ]\n",
    "score.sort()\n",
    "print(score)\n",
    "score.reverse()\n",
    "print(score)"
   ]
  },
  {
   "cell_type": "code",
   "execution_count": null,
   "id": "85318bb9-fb7a-4b31-b053-2f10a82be727",
   "metadata": {},
   "outputs": [],
   "source": [
    "# =============== sorted  ===============\n",
    "score = [ 88, 95, 70, 100, 99 ]\n",
    "score2 = sorted(score)\n",
    "print(score)\n",
    "print(score2)"
   ]
  },
  {
   "cell_type": "code",
   "execution_count": null,
   "id": "fbb06011-403d-4006-83b5-9f2d660d8068",
   "metadata": {},
   "outputs": [],
   "source": [
    "# =============== tupleop  ===============\n",
    "tu = 1, 2, 3, 4, 5\n",
    "print(tu[3])         # 가능\n",
    "print(tu[1:4])       # 가능\n",
    "print(tu + (6, 7))    # 가능\n",
    "print(tu * 2)        # 가능      \n",
    "tu[1] = 100          # 불가능\n",
    "del tu[1]            # 불가능"
   ]
  },
  {
   "cell_type": "code",
   "execution_count": null,
   "id": "9a851223-3496-41e4-aaca-079aa75d870b",
   "metadata": {},
   "outputs": [],
   "source": [
    "# =============== swap  ===============\n",
    "a, b = 12, 34\n",
    "print(a, b)\n",
    "a, b = b, a\n",
    "print(a, b)"
   ]
  },
  {
   "cell_type": "code",
   "execution_count": null,
   "id": "3351c4e0-c527-40d6-9e51-9bc0966c7432",
   "metadata": {},
   "outputs": [],
   "source": [
    "# =============== convertlist  ===============\n",
    "score = [ 88, 95, 70, 100, 99 ]  ## list 로 정의\n",
    "tu = tuple(score)                ## tuple로 변환\n",
    "#tu[0] = 100\n",
    "print(tu)\n",
    "li = list(tu)                    ## list로 변환\n",
    "li[0] = 100\n",
    "print(li)"
   ]
  },
  {
   "cell_type": "code",
   "execution_count": 3,
   "id": "9c56ee80-a66a-4397-94fb-b98ad135d17a",
   "metadata": {},
   "outputs": [
    {
     "name": "stdout",
     "output_type": "stream",
     "text": [
      "5\n",
      "[88, 95, 99, 80, 1, 2, 3, 4, 5, 6]\n",
      "6\n",
      "[88, 95, 99, 80, 1, 2, 3, 4, 5]\n",
      "[70, 80, 80, 88, 88, 95, 99, 99, 100, 100]\n"
     ]
    }
   ],
   "source": [
    "score1 = [88, 95, 70, 100, 99, 80]\n",
    "score2 = [1, 2, 3, 4, 5, 6]\n",
    "score3 = score1 + score2\n",
    "score4 = score1 * 2\n",
    "print(score4.index(80))\n",
    "score3.remove(100)\n",
    "del(score3[2])\n",
    "score4[1:3] = []\n",
    "print(score3)\n",
    "print(score3.pop())\n",
    "score4.sort()\n",
    "print(score3)\n",
    "print(score4)"
   ]
  },
  {
   "cell_type": "markdown",
   "id": "48211ff4-6f54-4b20-93ef-2d7d68fef838",
   "metadata": {},
   "source": [
    "# 1. 함수"
   ]
  },
  {
   "cell_type": "markdown",
   "id": "a3df0910-143b-4e49-adb2-9e314a861caa",
   "metadata": {},
   "source": [
    "다음과 같은 반복되는 코드를 처리하기 위해 함수를 사용한다."
   ]
  },
  {
   "cell_type": "code",
   "execution_count": null,
   "id": "ab347671-9091-416d-9d3a-c2ece7e80810",
   "metadata": {},
   "outputs": [],
   "source": [
    "sum = 0\n",
    "for num in range(5):\n",
    "    sum += num\n",
    "print(\"~ 4 =\", sum)\n",
    "\n",
    "sum = 0\n",
    "for num in range(11):\n",
    "    sum += num\n",
    "print(\"~ 10 =\", sum)"
   ]
  },
  {
   "cell_type": "markdown",
   "id": "37e8b5c1-9b6e-4fce-bf92-be6b6833a058",
   "metadata": {},
   "source": [
    "함수\n",
    "* 일련의 코드 블록에 이름을 붙여 정의한 것\n",
    "* 자주 반복되는 코드 사용이 용이해짐\n",
    "* 호출문으로 실행\n",
    "* 함수(인수 목록)"
   ]
  },
  {
   "cell_type": "code",
   "execution_count": null,
   "id": "e21128df-7ae4-4bd4-a476-1a77764fbadd",
   "metadata": {},
   "outputs": [],
   "source": [
    "def calcsum(n):\n",
    "    sum = 0\n",
    "    for num in range(n + 1):\n",
    "        sum += num\n",
    "    return sum\n",
    "\n",
    "print(\"~ 4 =\", calcsum(4))\n",
    "print(\"~ 10 =\", calcsum(10))"
   ]
  },
  {
   "cell_type": "markdown",
   "id": "4da284c8-79cf-4680-ba4b-bb38b8428f3e",
   "metadata": {},
   "source": [
    "인수\n",
    "* 호출원에서 함수로 전달되는 작업거리\n",
    "* 함수의 동작에 변화 주어 활용성 높임\n",
    "* 매개변수\n",
    "* 형식 인수 = 함수 정의문의 인수\n",
    "* 실인수 = 함수 호출문에서 전달하는 인수"
   ]
  },
  {
   "cell_type": "code",
   "execution_count": null,
   "id": "eee2719f-a4e3-4c61-9746-0daf08d8b076",
   "metadata": {},
   "outputs": [],
   "source": [
    "def calcrange(begin, end):\n",
    "    sum = 0\n",
    "    for num in range(begin, end + 1):\n",
    "        sum += num\n",
    "    return sum\n",
    "\n",
    "print(\"3 ~ 7 =\", calcrange(3, 7))"
   ]
  },
  {
   "cell_type": "markdown",
   "id": "23154e72-1b53-423f-815a-926cf9631bb9",
   "metadata": {},
   "source": [
    "리턴값\n",
    "* 함수의 실행 결과를 호출원으로 돌려주는 값\n",
    "* 리턴값 반환할 때 return 명령 뒤에 반환할 값을 지정\n",
    "* 위의 calcsum, calcrange 함수의 경우\n",
    "* return sum\n",
    "* 리턴값이 무조건 있어야 하는 것은 아님"
   ]
  },
  {
   "cell_type": "code",
   "execution_count": null,
   "id": "57c19a62-c11b-4724-8af6-bd53b6c67bab",
   "metadata": {},
   "outputs": [],
   "source": [
    "def printsum(n):\n",
    "    sum = 0\n",
    "    for num in range(n + 1):\n",
    "        sum += num\n",
    "    print(\"~\", n, \"=\", sum)\n",
    "\n",
    "printsum(4)\n",
    "printsum(10)"
   ]
  },
  {
   "attachments": {},
   "cell_type": "markdown",
   "id": "dd88e3d2-7fd8-4faa-aa93-685e4cc320b0",
   "metadata": {},
   "source": [
    "가변 인수\n",
    "* 고정되지 않은 임의 개수의 인수를 받음\n",
    "* \\* 기호를 인수 이름 앞에 붙임\n",
    "* 인수 목록의 마지막에 와야 함\n",
    "  * intsum(s, *int) ## 가능\n",
    "  * intsum(*int, s) ## 에러\n",
    "  * intsum(*int, *nums) ## 에러"
   ]
  },
  {
   "cell_type": "code",
   "execution_count": null,
   "id": "80d295c7-7f86-459a-83f8-e8682e7a1554",
   "metadata": {},
   "outputs": [],
   "source": [
    "def intsum(*ints):\n",
    "    sum = 0\n",
    "    for num in ints:\n",
    "        sum += num\n",
    "    return sum\n",
    "\n",
    "print(intsum(1, 2, 3))\n",
    "print(intsum(5, 7, 9, 11, 13))\n",
    "print(intsum(8, 9, 6, 2, 9, 7, 5, 8))"
   ]
  },
  {
   "cell_type": "markdown",
   "id": "e22bafba-41c7-48d9-8b13-742e82caaede",
   "metadata": {},
   "source": [
    "인수의 기본값\n",
    "* 위 calcrange 함수에 중간값을 인수로 전달할 경우\n",
    "* 범위 내 수를 건너뛰어 합계 구함"
   ]
  },
  {
   "cell_type": "code",
   "execution_count": null,
   "id": "9c0de327-e963-47ad-a35e-51f7cf76d230",
   "metadata": {},
   "outputs": [],
   "source": [
    "def calcstep(begin, end, step):\n",
    "    sum = 0\n",
    "    for num in range(begin, end + 1, step):\n",
    "        sum += num\n",
    "    return sum\n",
    "\n",
    "print(\"1 ~ 10 =\", calcstep(1, 10, 2))\n",
    "print(\"2 ~ 10 =\", calcstep(2, 10, 2))"
   ]
  },
  {
   "cell_type": "markdown",
   "id": "4da327c4-9dfd-4d06-ab8f-06e89be61264",
   "metadata": {},
   "source": [
    "잘 바뀌지 않는 인수는 인수 목록에 기본값 지정\n",
    "* 실인수 생략하면 기본값 전달한 것으로 가정"
   ]
  },
  {
   "cell_type": "code",
   "execution_count": null,
   "id": "21f62a3d-ef9e-4594-ac5b-adcc286c98f1",
   "metadata": {},
   "outputs": [],
   "source": [
    "def calcstep(begin, end, step=1):\n",
    "    sum = 0\n",
    "    for num in range(begin, end + 1, step):\n",
    "        sum += num\n",
    "    return sum\n",
    "\n",
    "print(\"1 ~ 10 =\", calcstep(1, 10, 2))\n",
    "print(\"1 ~ 100 =\", calcstep(1, 100))"
   ]
  },
  {
   "cell_type": "markdown",
   "id": "53c2bb04-7e41-44e8-a702-82b8ca931145",
   "metadata": {},
   "source": [
    "키워드 인수\n",
    "* 인수 이름 지정하여 대입 형태로 전달하는 방식"
   ]
  },
  {
   "cell_type": "code",
   "execution_count": null,
   "id": "ac144745-832f-42be-9e55-cc22bed7dad7",
   "metadata": {},
   "outputs": [],
   "source": [
    "def calcstep(begin, end, step):\n",
    "    sum = 0\n",
    "    for num in range(begin, end + 1, step):\n",
    "        sum += num\n",
    "    return sum\n",
    "\n",
    "\n",
    "print(\"3 ~ 5 =\", calcstep(begin = 3, end = 5, step = 1))\n",
    "print(\"3 ~ 5 =\", calcstep(step = 1, end = 5, begin = 3))\n"
   ]
  },
  {
   "cell_type": "markdown",
   "id": "49adcbca-0336-43c8-9cc5-32469d4a0feb",
   "metadata": {},
   "source": [
    "키워드 가변 인수\n",
    "* \\** 기호를 인수 목록에 붙여 키워드 인수를 가변 개수 전달함"
   ]
  },
  {
   "cell_type": "code",
   "execution_count": 5,
   "id": "842a6539-8f4e-41a3-9675-3942e35ed1a2",
   "metadata": {},
   "outputs": [
    {
     "name": "stdin",
     "output_type": "stream",
     "text": [
      "양의 정수 n을 입력하세요:  11\n",
      "첫번째 항을 입력하세요. 1\n",
      "두번째 항을 입력하세요. 2\n",
      "두번째 항을 입력하세요. 3\n"
     ]
    },
    {
     "name": "stdout",
     "output_type": "stream",
     "text": [
      "수열의 11번째 항은 423입니다.\n"
     ]
    }
   ],
   "source": [
    "def seqfun(n, *f):\n",
    "    f1, f2, f3 = f\n",
    "    if n < 1:\n",
    "        return \"알 수 없는 값\"\n",
    "    elif n == 1:\n",
    "        return f1\n",
    "    elif n == 2:\n",
    "        return f2\n",
    "    elif n == 3:\n",
    "        return f3\n",
    "    else:\n",
    "        return seqfun(n-1, f1, f2, f3) + seqfun(n-2, f1, f2, f3) + seqfun(n-3, f1, f2, f3)\n",
    "n = int(input(\"양의 정수 n을 입력하세요: \"))\n",
    "f1 = int(input(\"첫번째 항을 입력하세요.\"))\n",
    "f2 = int(input(\"두번째 항을 입력하세요.\"))\n",
    "f3 = int(input(\"두번째 항을 입력하세요.\"))\n",
    "result = seqfun(n, f1, f2, f3)\n",
    "print(\"수열의 \", n,\"번째 항은 \", result, \"입니다.\", sep = '')"
   ]
  },
  {
   "cell_type": "markdown",
   "id": "114ba97d-5841-4b9d-b158-5b38152b7aed",
   "metadata": {},
   "source": [
    "위치 인수와 키워드 인수를 동시에 가변으로 취할 수 있음"
   ]
  },
  {
   "cell_type": "code",
   "execution_count": null,
   "id": "83f495e6-8775-40a6-b9ff-c66e18612d69",
   "metadata": {},
   "outputs": [],
   "source": [
    "def calcscore(name, *score, **option):\n",
    "    print(name)\n",
    "    sum = 0\n",
    "    for s in score:\n",
    "        sum += s\n",
    "    print(\"총점 :\", sum)\n",
    "    if (option['avg'] == True ):\n",
    "        print(\"평균 :\", sum / len(score))\n",
    "\n",
    "calcscore(\"김상형\", 88, 99, 77, avg = True)\n",
    "calcscore(\"김한슬\", 99, 98, 95, 89, avg = False)"
   ]
  },
  {
   "cell_type": "code",
   "execution_count": null,
   "id": "ff0e334e-6aa9-4179-97c2-fed3c7b97f01",
   "metadata": {},
   "outputs": [],
   "source": [
    "def calcscore(x, *y, **z):\n",
    "    print(x)\n",
    "    sum = 0\n",
    "    for s in y:\n",
    "        sum += s\n",
    "    print(\"총점 :\", sum)\n",
    "    if (z['abc'] == True ):\n",
    "        print(\"평균 :\", sum / len(y))\n",
    "\n",
    "calcscore(\"김상형\", 88, 99, 77, abc = True)\n",
    "calcscore(\"김한슬\", 99, 98, 95, 89, abc = False)"
   ]
  },
  {
   "cell_type": "markdown",
   "id": "81499646-81f8-4c5f-8459-afc79d36550b",
   "metadata": {},
   "source": [
    "지역변수와 전역변수\n",
    "* 지역변수 : 함수 내부에서 선언하는 변수, 함수 내부에서만 사용되고 밖으로는 알려지지 않음\n",
    "* 전역변수 : 함수 바깥에서 선언하는 변수, 어디에서나 참조할 수 있음"
   ]
  },
  {
   "cell_type": "code",
   "execution_count": null,
   "id": "dc8c5004-4bd4-4183-8bf0-7dd674080691",
   "metadata": {},
   "outputs": [],
   "source": [
    "def kim():\n",
    "    temp = \"김과장의 함수\"\n",
    "    print(temp)\n",
    "\n",
    "kim()\n",
    "print(temp)"
   ]
  },
  {
   "cell_type": "code",
   "execution_count": null,
   "id": "7baee072-ea06-4e2f-a610-22ff4681bb88",
   "metadata": {},
   "outputs": [],
   "source": [
    "def kim():\n",
    "    temp = \"김과장의 함수\"\n",
    "    print(temp)\n",
    "\n",
    "def lee():\n",
    "    temp = 2 ** 10\n",
    "    return temp\n",
    "\n",
    "def park(a):\n",
    "    temp = a * 2\n",
    "    print(temp)\n",
    "\n",
    "kim()\n",
    "print(lee())\n",
    "park(6)"
   ]
  },
  {
   "cell_type": "code",
   "execution_count": null,
   "id": "f7f4f63d-d586-4f24-aec1-d49842ec8167",
   "metadata": {},
   "outputs": [],
   "source": [
    "salerate = 0.9\n",
    "\n",
    "def kim():\n",
    "    print(\"오늘의 할인율 :\", salerate)\n",
    "\n",
    "def lee():\n",
    "    price = 1000\n",
    "    print(\"가격 :\", price * salerate)\n",
    "\n",
    "kim()\n",
    "salerate = 1.1\n",
    "lee()"
   ]
  },
  {
   "cell_type": "code",
   "execution_count": null,
   "id": "c71977e5-a1d5-43fd-a9d0-98a8de0f02dc",
   "metadata": {},
   "outputs": [],
   "source": [
    "price = 1000\n",
    "\n",
    "def sale():\n",
    "    price = 500\n",
    "\n",
    "sale()\n",
    "print(price)"
   ]
  },
  {
   "cell_type": "markdown",
   "id": "72c9a3fb-7ab8-45f4-bc78-2f14a363c532",
   "metadata": {},
   "source": [
    "* global 함수 : 함수 내부에서 지역 변수 새로 만들지 않고 전역 변수 참조하게 함"
   ]
  },
  {
   "cell_type": "code",
   "execution_count": 1,
   "id": "f24c15ef-2c35-4939-998d-b8dfc6b06828",
   "metadata": {},
   "outputs": [
    {
     "name": "stdout",
     "output_type": "stream",
     "text": [
      "500\n"
     ]
    }
   ],
   "source": [
    "price = 1000\n",
    "\n",
    "def sale():\n",
    "    global price\n",
    "    price = 500\n",
    "\n",
    "sale()\n",
    "print(price)"
   ]
  },
  {
   "cell_type": "markdown",
   "id": "15376340-eb2f-4363-8a85-e0893387e1a3",
   "metadata": {},
   "source": [
    "docstring\n",
    "* 함수 선언문과 본체 사이에 작성하는 문자열\n",
    "* 함수의 사용법, 인수의 의미, 주의사항 등 설명 작성\n",
    "* 실행에는 영향 없음"
   ]
  },
  {
   "cell_type": "code",
   "execution_count": null,
   "id": "bc657bd5-c709-4dcb-acfb-e6bda50ff174",
   "metadata": {},
   "outputs": [],
   "source": [
    "def calcsum(n):\n",
    "    \"\"\"1 ~ n까지의 합계를 구해 리턴한다.\"\"\"\n",
    "    sum = 0\n",
    "    for i in range(n+1):\n",
    "        sum += i\n",
    "    return sum\n",
    "\n",
    "help(calcsum)"
   ]
  },
  {
   "cell_type": "markdown",
   "id": "6b22fa72-6107-4f1e-b01e-545602f74a11",
   "metadata": {},
   "source": [
    "# 2. 함수 연습문제"
   ]
  },
  {
   "cell_type": "markdown",
   "id": "67d83c15-bf34-4565-99ba-efa1d8493884",
   "metadata": {},
   "source": [
    "사용자로부터 양의 정수 n을 입력받고, n번째 피보나치 수를 계산하여 출력하는 피보나치 함수를 구현하세요. 단, 첫번째 피보나치 수는 0, 두번째 피보나치 수는 1이며, n번째 피보나치 수 $f_n$은 $f_n = f_{n-1} + f_{n-2}$ 를 만족합니다."
   ]
  },
  {
   "cell_type": "code",
   "execution_count": null,
   "id": "bc4c84da-395a-4011-9e5a-fd03493df75c",
   "metadata": {},
   "outputs": [],
   "source": [
    "def fib(n):\n",
    "    \"\"\"이 부분을 채워넣으세요.\"\"\"\n",
    "\n",
    "n = int(input(\"양의 정수 n을 입력하세요: \"))\n",
    "result = fib(n)\n",
    "print(n, \"번째 피보나치 수는 \", result, \"입니다.\", sep = '')"
   ]
  },
  {
   "cell_type": "code",
   "execution_count": 3,
   "id": "326a9b14-d30a-449d-854c-3fbedf285834",
   "metadata": {},
   "outputs": [
    {
     "name": "stdin",
     "output_type": "stream",
     "text": [
      "양의 정수 n을 입력하세요:  11\n"
     ]
    },
    {
     "name": "stdout",
     "output_type": "stream",
     "text": [
      "11번째 피보나치 수는 55입니다.\n"
     ]
    }
   ],
   "source": []
  },
  {
   "cell_type": "code",
   "execution_count": null,
   "id": "42130f3c-b73d-4b6d-8e0e-790eceb57434",
   "metadata": {},
   "outputs": [],
   "source": []
  }
 ],
 "metadata": {
  "kernelspec": {
   "display_name": "Python 3 (ipykernel)",
   "language": "python",
   "name": "python3"
  },
  "language_info": {
   "codemirror_mode": {
    "name": "ipython",
    "version": 3
   },
   "file_extension": ".py",
   "mimetype": "text/x-python",
   "name": "python",
   "nbconvert_exporter": "python",
   "pygments_lexer": "ipython3",
   "version": "3.11.5"
  }
 },
 "nbformat": 4,
 "nbformat_minor": 5
}
