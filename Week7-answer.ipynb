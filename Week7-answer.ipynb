{
 "cells": [
  {
   "cell_type": "markdown",
   "id": "b39b24a2-1309-4d76-8579-8c92caefd2f6",
   "metadata": {},
   "source": [
    "# Week 7 답안\n",
    "### 인공지능과 컴퓨팅 사고 - AI Computational Thinking\n",
    "##### Author : Jihyeon Ryu\n",
    "##### Date : 2024-10-16 (Wed)"
   ]
  },
  {
   "cell_type": "markdown",
   "id": "d0f3b98f-668b-488b-84ce-2feb5f8b7c70",
   "metadata": {},
   "source": [
    "# 1. 함수 연습문제\n",
    "사용자로부터 양의 정수 n을 입력받고, n번째 피보나치 수를 계산하여 출력하는 피보나치 함수를 구현하세요. 단, 첫번째 피보나치 수는 0, 두번째 피보나치 수는 1이며, n번째 피보나치 수 $f_n$은 $f_n = f_{n-1} + f_{n-2}$ 를 만족합니다."
   ]
  },
  {
   "cell_type": "code",
   "execution_count": 1,
   "id": "aa69c506-e39f-4174-b21d-42e292ddc13a",
   "metadata": {},
   "outputs": [
    {
     "name": "stdin",
     "output_type": "stream",
     "text": [
      "양의 정수 n을 입력하세요:  3\n"
     ]
    },
    {
     "name": "stdout",
     "output_type": "stream",
     "text": [
      "3번째 피보나치 수는 1입니다.\n"
     ]
    }
   ],
   "source": [
    "def fib(n):\n",
    "    if n < 1:\n",
    "        return \"알 수 없는 값\"\n",
    "    elif n == 1:\n",
    "        return 0\n",
    "    elif n == 2:\n",
    "        return 1\n",
    "    else:\n",
    "        return fib(n-1) + fib(n-2)\n",
    "\n",
    "n = int(input(\"양의 정수 n을 입력하세요: \"))\n",
    "result = fib(n)\n",
    "print(n, \"번째 피보나치 수는 \", result, \"입니다.\", sep = '')"
   ]
  },
  {
   "cell_type": "markdown",
   "id": "080371cd-4f23-4fe3-ae3b-b8ba37a262d3",
   "metadata": {},
   "source": [
    "# 2. 문자열 연습문제"
   ]
  },
  {
   "cell_type": "markdown",
   "id": "9232e884-f58f-49dc-8d5a-8e445b91b299",
   "metadata": {},
   "source": [
    "사용자의 이름, 키, 체중을 입력받아 개별 bmi, 비만상태, 평균키와 체중을 계산하는 프로그램을 작성하세요. 단, bmi 및 비만 상태의 계산 방법은 다음과 같습니다.\n",
    "* bmi = weight / ((0.01 * height) ** 2)\n",
    "* bmi < 18.5 => 저체중\n",
    "* 18.5 <= bmi < 25 => 정상 체중\n",
    "* 25 <= bmi < 30 => 과체중\n",
    "* 30 <= bmi => 비만"
   ]
  },
  {
   "cell_type": "code",
   "execution_count": 11,
   "id": "8977536d-842d-41c4-9abc-31211332f3b9",
   "metadata": {},
   "outputs": [
    {
     "name": "stdin",
     "output_type": "stream",
     "text": [
      "이름을 입력하세요 (0을 입력하면 종료):  기억\n",
      "키를 cm 단위로 입력하세요:  150\n",
      "체중을 kg 단위로 입력하세요:  55\n",
      "이름을 입력하세요 (0을 입력하면 종료):  니은\n",
      "키를 cm 단위로 입력하세요:  160\n",
      "체중을 kg 단위로 입력하세요:  45\n",
      "이름을 입력하세요 (0을 입력하면 종료):  디귿\n",
      "키를 cm 단위로 입력하세요:  170\n",
      "체중을 kg 단위로 입력하세요:  55\n",
      "이름을 입력하세요 (0을 입력하면 종료):  리을\n",
      "키를 cm 단위로 입력하세요:  180\n",
      "체중을 kg 단위로 입력하세요:  85\n",
      "이름을 입력하세요 (0을 입력하면 종료):  미음\n",
      "키를 cm 단위로 입력하세요:  150\n",
      "체중을 kg 단위로 입력하세요:  80\n",
      "이름을 입력하세요 (0을 입력하면 종료):  0\n"
     ]
    },
    {
     "name": "stdout",
     "output_type": "stream",
     "text": [
      "이름\t키(cm)\t체중(kg)\tBMI\t상태\n",
      "================================================\n",
      "기억\t150.0\t55.0\t\t24.44\t정상 체중\n",
      "니은\t160.0\t45.0\t\t17.58\t저체중\n",
      "디귿\t170.0\t55.0\t\t19.03\t정상 체중\n",
      "리을\t180.0\t85.0\t\t26.23\t과체중\n",
      "미음\t150.0\t80.0\t\t35.56\t비만\n",
      "================================================\n",
      "평균 키: 162.0\n",
      "평균 체중: 64.0\n"
     ]
    }
   ],
   "source": [
    "user_data = []\n",
    "\n",
    "while True:\n",
    "    name = input(\"이름을 입력하세요 (0을 입력하면 종료): \")\n",
    "    if name == '0':\n",
    "        break\n",
    "    height = float(input(\"키를 cm 단위로 입력하세요: \"))\n",
    "    weight = float(input(\"체중을 kg 단위로 입력하세요: \"))\n",
    "    user_data.append((name, height, weight))\n",
    "    \n",
    "print(\"이름\\t키(cm)\\t체중(kg)\\tBMI\\t상태\")\n",
    "print(\"================================================\")\n",
    "\n",
    "index = 0\n",
    "sumheight = 0\n",
    "sumweight = 0\n",
    "for data in user_data:\n",
    "    name, height, weight = data\n",
    "    \n",
    "    # BMI 계산\n",
    "    bmi = weight / ((0.01 * height) ** 2)\n",
    "    if bmi < 18.5:\n",
    "        result = \"저체중\"\n",
    "    elif 18.5 <= bmi < 25:\n",
    "        result = \"정상 체중\"\n",
    "    elif 25 <= bmi < 30:\n",
    "        result = \"과체중\"\n",
    "    else:\n",
    "        result = \"비만\"\n",
    "    print(f\"{name}\\t{height}\\t{weight}\\t\\t{round(bmi, 2)}\\t{result}\")\n",
    "    index += 1\n",
    "    sumheight += height\n",
    "    sumweight += weight\n",
    "\n",
    "print(\"================================================\")\n",
    "print(\"평균 키:\", sumheight/index)\n",
    "print(\"평균 체중:\", sumweight/index)"
   ]
  },
  {
   "cell_type": "code",
   "execution_count": 3,
   "id": "6eced692-2a65-4f3f-af79-87f7cf5425b0",
   "metadata": {},
   "outputs": [
    {
     "name": "stdin",
     "output_type": "stream",
     "text": [
      "키를 cm 단위로 입력하세요:  168\n",
      "체중을 kg 단위로 입력하세요:  80\n"
     ]
    },
    {
     "name": "stdout",
     "output_type": "stream",
     "text": [
      "bmi는 28.34이며, 과체중 입니다.\n"
     ]
    }
   ],
   "source": [
    "height = float(input(\"키를 cm 단위로 입력하세요: \"))\n",
    "weight = float(input(\"체중을 kg 단위로 입력하세요: \"))\n",
    "if height == 0:\n",
    "    print(\"올바르지 않은 입력입니다.\")\n",
    "else:\n",
    "    bmi = weight / ((0.01 * height) ** 2)\n",
    "    if bmi < 18.5:\n",
    "        result = \"저체중\"\n",
    "    elif bmi < 25:\n",
    "        result = \"정상 체중\"\n",
    "    elif bmi < 30:\n",
    "        result = \"과체중\"\n",
    "    else:\n",
    "        result = \"비만\"\n",
    "    print(\"bmi는 {0:.2f}이며, {1:s} 입니다.\".format(bmi, result))"
   ]
  },
  {
   "cell_type": "code",
   "execution_count": null,
   "id": "cf554cf5-9c39-48ab-8e02-ae14383866eb",
   "metadata": {},
   "outputs": [],
   "source": []
  }
 ],
 "metadata": {
  "kernelspec": {
   "display_name": "Python 3 (ipykernel)",
   "language": "python",
   "name": "python3"
  },
  "language_info": {
   "codemirror_mode": {
    "name": "ipython",
    "version": 3
   },
   "file_extension": ".py",
   "mimetype": "text/x-python",
   "name": "python",
   "nbconvert_exporter": "python",
   "pygments_lexer": "ipython3",
   "version": "3.11.5"
  }
 },
 "nbformat": 4,
 "nbformat_minor": 5
}
