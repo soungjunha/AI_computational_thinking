{
 "cells": [
  {
   "cell_type": "markdown",
   "id": "b39b24a2-1309-4d76-8579-8c92caefd2f6",
   "metadata": {},
   "source": [
    "# Week 5 (2) - 반복문 (2)\n",
    "### 인공지능과 컴퓨팅 사고 - AI Computational Thinking\n",
    "##### Author : Jihyeon Ryu\n",
    "##### Date : 2024-10-2 (Wed)"
   ]
  },
  {
   "cell_type": "markdown",
   "id": "a6ad4251-b9f9-4fed-8035-a5606f4d8869",
   "metadata": {},
   "source": [
    "# 0. 반복문 복습\n",
    "## 0. 1. for 문"
   ]
  },
  {
   "cell_type": "markdown",
   "id": "2ae3fff0-6000-4385-a8f8-bdc2a6f68a5b",
   "metadata": {},
   "source": [
    "for 반복문\n",
    "* 컬렉션 요소 순서대로 반복하면서 루프 명령 실행\n",
    "\n",
    "range 명령\n",
    "* 일정 범위 리스트 만들고 그 요소를 반복"
   ]
  },
  {
   "cell_type": "markdown",
   "id": "f764a2ad-0158-4d8d-bf32-2bd9eb8670cf",
   "metadata": {},
   "source": [
    "범위의 원칙\n",
    "* 컴퓨터에서 범위 설정할 때에는 끝 요소 제외하고 직전까지만 포함\n",
    "* range(1, 10) = 1에서 9까지의 범위\n",
    "* 범위 구간 나누어 반복 처리할 때의 편의 위함"
   ]
  },
  {
   "cell_type": "code",
   "execution_count": null,
   "id": "004d9861-8f34-4ab8-9bf0-a7070ca35e98",
   "metadata": {},
   "outputs": [],
   "source": [
    "for student in [1, 2, 3, 4, 5]:\n",
    "    print(student, \"번 학생의 성적을 처리한다.\")"
   ]
  },
  {
   "cell_type": "code",
   "execution_count": null,
   "id": "4a62ed50-08a4-4484-b782-f8e861f00ec9",
   "metadata": {},
   "outputs": [],
   "source": [
    "sum = 0\n",
    "for num in range(1, 101):\n",
    "    sum += num\n",
    "    print(num, end = ' ')\n",
    "print (\"sum =\",sum)"
   ]
  },
  {
   "cell_type": "code",
   "execution_count": null,
   "id": "60afd949-989d-4cf7-9d90-5d719d57342c",
   "metadata": {},
   "outputs": [],
   "source": [
    "sum = 0\n",
    "for num in range(2, 101, 2):\n",
    "    sum += num\n",
    "    print(num, end = ' ')\n",
    "print (\"sum =\",sum)"
   ]
  },
  {
   "cell_type": "code",
   "execution_count": null,
   "id": "239af301-86e6-434f-85ea-4549b1de30a6",
   "metadata": {},
   "outputs": [],
   "source": [
    "for x in range(1, 51):\n",
    "    if (x % 10 == 0):\n",
    "        print('+', end= '')\n",
    "    else:\n",
    "        print('-', end = '')"
   ]
  },
  {
   "cell_type": "code",
   "execution_count": null,
   "id": "8b149c48-9a94-4054-b6df-b083128327ca",
   "metadata": {},
   "outputs": [],
   "source": [
    "for x in range(1, 5):\n",
    "    print('-' * 9, end = '')\n",
    "    print('+', end = '') "
   ]
  },
  {
   "cell_type": "code",
   "execution_count": null,
   "id": "2950d35b-c8ba-430e-8832-76631b4ea2f4",
   "metadata": {},
   "outputs": [],
   "source": [
    "for x in range(1, 51):\n",
    "    if (x % 5 == 0):\n",
    "        print('+', end= '')\n",
    "    else:\n",
    "        print('-', end = '')"
   ]
  },
  {
   "cell_type": "code",
   "execution_count": null,
   "id": "9b1337c7-46c2-4caa-ae7b-abc7778f77cc",
   "metadata": {},
   "outputs": [],
   "source": [
    "for x in range(1, 51): ####for(i = 0;i<10;i++)\n",
    "    if (x % 10 == 5):\n",
    "        print('+', end= '')\n",
    "    else:\n",
    "        print('-', end = '')"
   ]
  },
  {
   "cell_type": "markdown",
   "id": "0288194e-478e-44df-bdbf-1e3dabf199d1",
   "metadata": {},
   "source": [
    "# 0.2. while 문"
   ]
  },
  {
   "cell_type": "markdown",
   "id": "93197683-cdf4-4625-a8d1-805244b54f0d",
   "metadata": {},
   "source": [
    "\n",
    "* 조건이 만족하는 동안 명령을 계속 실행\n",
    "* 루프 (Loop)\n",
    "* 반복적으로 처리하는 명령\n",
    "\n",
    "* 반복문은 코드 변경이 쉬움\n",
    "* 조건식이나 출력문 등 변경 통해 수정\n"
   ]
  },
  {
   "cell_type": "code",
   "execution_count": null,
   "id": "8b9d02b6-5782-43d1-a15e-41da97c9c84a",
   "metadata": {},
   "outputs": [],
   "source": [
    "student = 1\n",
    "while student <= 5: ###while(n<10){}\n",
    "    print(student, \"번 학생의 성적을 처리한다.\")\n",
    "    student += 1 ## 2, 3, 4, 5\n",
    "## student == 6:빠져나옴"
   ]
  },
  {
   "cell_type": "code",
   "execution_count": null,
   "id": "b7f79997-bf69-419e-84f2-ee3ae1e892a9",
   "metadata": {},
   "outputs": [],
   "source": [
    "x = 1 ####\n",
    "while x <= 50: ###\n",
    "    if (x % 10):\n",
    "        print('-', end= '')\n",
    "    else:\n",
    "        print('+', end = '')\n",
    "    x += 1 ###"
   ]
  },
  {
   "cell_type": "code",
   "execution_count": null,
   "id": "98e99fe2-aae4-420e-af3b-744b74d008f4",
   "metadata": {},
   "outputs": [],
   "source": [
    "for x in range(1, 51):\n",
    "    if (x % 10 == 0):\n",
    "        print('+', end= '')\n",
    "    else:\n",
    "        print('-', end = '')"
   ]
  },
  {
   "cell_type": "code",
   "execution_count": null,
   "id": "cf20dc59-71d4-4e88-8e10-af40d83257e0",
   "metadata": {},
   "outputs": [],
   "source": [
    "num = 1 #####\n",
    "sum = 0\n",
    "while num <= 100: ####\n",
    "    sum += num\n",
    "    num += 1 ####\n",
    "print (\"sum =\", sum)\n"
   ]
  },
  {
   "cell_type": "code",
   "execution_count": null,
   "id": "92b9efce-8ac5-490e-af4c-a8d810497967",
   "metadata": {},
   "outputs": [],
   "source": [
    "sum = 0\n",
    "for num in range(1, 101): #####\n",
    "    sum += num\n",
    "print (\"sum =\",sum)"
   ]
  },
  {
   "cell_type": "code",
   "execution_count": null,
   "id": "3788051f-306c-498b-9104-9e9436ab464f",
   "metadata": {},
   "outputs": [],
   "source": [
    "num = 151\n",
    "sum = 0\n",
    "while num <= 300:\n",
    "    sum += num\n",
    "    num += 2\n",
    "print (\"sum =\",sum)"
   ]
  },
  {
   "cell_type": "code",
   "execution_count": null,
   "id": "764bf0e6-8905-4c73-a564-a05052562928",
   "metadata": {},
   "outputs": [],
   "source": [
    "sum = 0\n",
    "for num in range(151, 301, 2): #####\n",
    "    sum += num\n",
    "print (\"sum =\",sum)"
   ]
  },
  {
   "cell_type": "markdown",
   "id": "f9ea35b8-d2cc-4fb9-9e20-c2f9dc0bfa5d",
   "metadata": {},
   "source": [
    "break\n",
    "* 반복문을 끝내는 명령\n",
    "* 특정한 조건에 따라 루프 끝내고 다음 명령으로 이동"
   ]
  },
  {
   "cell_type": "code",
   "execution_count": null,
   "id": "f601489d-e243-4cf4-82a7-672d68d17e93",
   "metadata": {},
   "outputs": [],
   "source": [
    "score = [ 92, 86, -1, 10, 56]\n",
    "for s in score:\n",
    "    if (s < 0 or s > 100):\n",
    "        break\n",
    "    print(s)\n",
    "print(\"성적 처리 끝\")"
   ]
  },
  {
   "cell_type": "markdown",
   "id": "45448bf4-ddb5-437d-b15d-7642ac218345",
   "metadata": {},
   "source": [
    "continue\n",
    "* 현재 루프만 건너뛰고 나머지는 계속 반복 수행하는 명령\n",
    "* 현재 반복을 중지하고 루프 선두의 조건 점검한 후 반복 재개"
   ]
  },
  {
   "cell_type": "code",
   "execution_count": null,
   "id": "7a14cd02-817e-4f68-ba6b-30ff42890286",
   "metadata": {},
   "outputs": [],
   "source": [
    "score = [ 92, 86, 68, -1, 56]\n",
    "for s in score:\n",
    "    if (s == -1):\n",
    "        continue\n",
    "    print(s)\n",
    "print(\"성적 처리 끝\")"
   ]
  },
  {
   "cell_type": "markdown",
   "id": "65e44751-9b89-45b7-a579-205d4b191a70",
   "metadata": {},
   "source": [
    "이중 루프\n",
    "* 루프 안 명령 자리에 또다른 루프가 들어가 중첩된 것"
   ]
  },
  {
   "cell_type": "code",
   "execution_count": null,
   "id": "61635aa6-6db9-44c3-9e1e-df66368b6345",
   "metadata": {},
   "outputs": [],
   "source": [
    "for dan in range(2, 10):  ###dan = 2, 3, 4, ... 9\n",
    "    print(dan, \"단\")\n",
    "    for hang in range(2, 10):   ###dan = 2 : hang = 2, 3, 4, ..., 9 / dan = 3 : hang = 2, ..., 9\n",
    "        print(dan, \"*\", hang, \"=\", dan * hang)\n",
    "    print()\n"
   ]
  },
  {
   "cell_type": "code",
   "execution_count": null,
   "id": "6399f39c-27c1-4ff7-ada9-83e43d7e0ea4",
   "metadata": {},
   "outputs": [],
   "source": [
    "dan = 2  ###초깃값\n",
    "while dan <= 9: ##조건\n",
    "    hang = 2  ###초깃값\n",
    "    print(dan, \"단\")\n",
    "    while hang <= 9: ##조건\n",
    "        print(dan, \"*\", hang, \"=\", dan * hang)\n",
    "        hang += 1##증가\n",
    "    dan += 1 ##증가\n",
    "    print()"
   ]
  },
  {
   "cell_type": "code",
   "execution_count": null,
   "id": "cfafb995-4258-449b-a670-13205c5beae3",
   "metadata": {},
   "outputs": [],
   "source": [
    "for dan in range(2, 10):  ###dan = 2, 3, 4, ... 9\n",
    "    print(dan, \"단\")\n",
    "    for hang in range(2, 10):   ###dan = 2 : hang = 2, 3, 4, ..., 9 / dan = 3 : hang = 2, ..., 9\n",
    "        print(dan, \"*\", hang, \"=\", dan * hang)\n",
    "    print()\n"
   ]
  },
  {
   "cell_type": "code",
   "execution_count": null,
   "id": "091094f3-b0d2-4592-b8e3-5e2369b297eb",
   "metadata": {},
   "outputs": [],
   "source": [
    "for ten in range(0, 5) : ### 0, 1, ..., 4\n",
    "    for num in range(ten * 10, ten * 10 + 9) : ## 0: (0, 10), 1: (10, 20), 2: (20, 30), 3: (30, 40) :30...39, 4: (40, 50) :40...49\n",
    "        print(num, end = ', ')\n",
    "    print(ten*10+9)\n"
   ]
  },
  {
   "cell_type": "code",
   "execution_count": null,
   "id": "7c357313-24d1-42fd-bf6a-879bc86aa114",
   "metadata": {},
   "outputs": [],
   "source": [
    "for y in range(1, 10) : ###y = 1,...,9\n",
    "    for x in range(y) : ###x = 0,...,y-1 (y = 9, 0...8)\n",
    "        print(\"*\", end = '')\n",
    "    print()"
   ]
  },
  {
   "cell_type": "markdown",
   "id": "5cd27637-a0c7-4fea-8bcc-31064878fc28",
   "metadata": {},
   "source": [
    "# 0.3. 연습\n",
    "for 반복문을 사용하여 사용자가 입력한 숫자의 팩토리얼 값을 계산하세요. 팩토리얼은 다음과 같이 구성됩니다.  \n",
    "$N! = N \\cdot N-1 \\cdot N-2 \\cdot ... \\cdot 2 \\cdot 1$, 단 $N$은 자연수  "
   ]
  },
  {
   "cell_type": "code",
   "execution_count": null,
   "id": "3f381553-fe54-4309-9062-f0d896364cc3",
   "metadata": {},
   "outputs": [],
   "source": [
    "n=int(input(\"N을 입력하세요:\"))\n",
    "factorial = 1\n",
    "if n>0:\n",
    "    for i in range(1, n + 1):\n",
    "        factorial *= i\n",
    "    print(f\"{n} 팩토리얼은 {factorial}입니다.\")\n",
    "else:\n",
    "    print(\"1보다 작은 정수입니다.\")"
   ]
  },
  {
   "cell_type": "markdown",
   "id": "4aa4a0ec-a173-4d0e-924d-302afbfff3aa",
   "metadata": {},
   "source": [
    "# 1. 배운 것들로 연습해보기"
   ]
  },
  {
   "cell_type": "markdown",
   "id": "556f92db-7ee0-4e8b-9d65-526a636c56e4",
   "metadata": {},
   "source": [
    "### (문제 1) 1부터 100까지의 숫자 중에서 짝수만 출력하는 프로그램을 작성하세요."
   ]
  },
  {
   "cell_type": "code",
   "execution_count": null,
   "id": "a16c50b3-cb99-4b69-95da-c2ca3c678652",
   "metadata": {},
   "outputs": [],
   "source": []
  },
  {
   "cell_type": "markdown",
   "id": "23281218-6437-437a-90be-b5d5b358ffc3",
   "metadata": {},
   "source": [
    "### (문제 2) 사용자로부터 양의 정수 n을 입력받고, 1부터 n까지의 모든 숫자를 더한 값을 계산하는 프로그램을 작성하세요."
   ]
  },
  {
   "cell_type": "code",
   "execution_count": null,
   "id": "125f9b27-be97-4b70-bda2-ba76f3b7f0c3",
   "metadata": {},
   "outputs": [],
   "source": []
  },
  {
   "cell_type": "markdown",
   "id": "de6cb654-af62-4995-a204-ae72949a03aa",
   "metadata": {},
   "source": [
    "### (문제 3) 소수는 1과 자기 자신으로만 나누어 떨어지는 자연수입니다. 주어진 자연수가 소수인지 아닌지를 판별하는 프로그램을 작성하세요. 다음의 조건을 만족해야 합니다.\n",
    "* 사용자로부터 하나의 자연수를 입력받습니다.\n",
    "* 입력된 수가 소수인 경우, \"입력한 숫자는 소수입니다.\"라는 메시지를 출력합니다.\n",
    "* 입력된 수가 소수가 아닌 경우, \"입력한 숫자는 소수가 아닙니다.\"라는 메시지를 출력합니다.\n",
    "* 입력된 수가 1 이하인 경우, \"잘못된 입력입니다.\"라는 메시지를 출력합니다."
   ]
  },
  {
   "cell_type": "code",
   "execution_count": null,
   "id": "f42fae0a-5056-4ffd-b183-5af10f7057fb",
   "metadata": {},
   "outputs": [],
   "source": []
  },
  {
   "cell_type": "markdown",
   "id": "8515f152-3ada-465f-ad01-f86b5eae2faf",
   "metadata": {},
   "source": [
    "### (문제 4) 사용자로부터 양의 정수 n을 입력받고, 2부터 n까지의 모든 소수를 출력하는 프로그램을 작성하세요."
   ]
  },
  {
   "cell_type": "code",
   "execution_count": null,
   "id": "35993b5a-923d-4c86-a87c-d5ccc2311ac8",
   "metadata": {},
   "outputs": [],
   "source": []
  },
  {
   "cell_type": "markdown",
   "id": "48f58ad5-5597-4657-bf72-b7ee3cb7409a",
   "metadata": {},
   "source": [
    "### (문제 5) 사용자로부터 양의 정수 n을 입력받고, n번째 피보나치 수를 계산하여 출력하는 프로그램을 작성하세요. 단, 첫번째 피보나치 수는 0, 두번째 피보나치 수는 1이며, n번째 피보나치 수 $f_n$은 $f_n = f_{n-1} + f_{n-2}$ 를 만족합니다."
   ]
  },
  {
   "cell_type": "code",
   "execution_count": null,
   "id": "a9d0bbf4-e7ef-4cf8-858e-b376a2587f4b",
   "metadata": {},
   "outputs": [],
   "source": []
  },
  {
   "cell_type": "markdown",
   "id": "36be5fcd-b7ef-474a-9eaa-9a3db7db51c3",
   "metadata": {},
   "source": [
    "### (문제 6) 사용자로부터 양의 정수 n을 입력받고, 다음과 같은 다이아몬드 형태를 출력하는 프로그램을 작성하세요 (n = 4 예시)"
   ]
  },
  {
   "cell_type": "code",
   "execution_count": null,
   "id": "f10d2c41-ea77-4d00-81b6-4398898e27c0",
   "metadata": {},
   "outputs": [],
   "source": [
    "   *  \n",
    "  ***  \n",
    " *****  \n",
    "*******  \n",
    " *****  \n",
    "  ***  \n",
    "   *"
   ]
  },
  {
   "cell_type": "code",
   "execution_count": null,
   "id": "46afd0c4-03ee-4c81-9df0-e4594e3ef165",
   "metadata": {},
   "outputs": [],
   "source": []
  },
  {
   "cell_type": "markdown",
   "id": "4392aace-8c7b-4795-8fb6-dd8b59c0bf19",
   "metadata": {},
   "source": [
    "### (문제 7) 사용자로부터 양의 정수 n을 입력받고, 다음과 같은 모래시계 모양을 출력하는 프로그램을 작성하세요 (n = 5 예시)"
   ]
  },
  {
   "cell_type": "code",
   "execution_count": null,
   "id": "b17c65f4-ace5-4bf8-86c6-cb696cc4513e",
   "metadata": {},
   "outputs": [],
   "source": [
    "*********\n",
    " *******\n",
    "  *****\n",
    "   ***\n",
    "    *\n",
    "   ***\n",
    "  *****\n",
    " *******\n",
    "*********"
   ]
  },
  {
   "cell_type": "code",
   "execution_count": null,
   "id": "16b5cebe-a045-45a7-a135-6d6479ca92d5",
   "metadata": {},
   "outputs": [],
   "source": []
  },
  {
   "cell_type": "markdown",
   "id": "029f6473-a03d-4cfa-8408-9f675fa38519",
   "metadata": {},
   "source": [
    "### (문제 8) 다음과 같은 패턴으로 숫자를 출력하는 프로그램을 작성하세요 (n = 5 예시)."
   ]
  },
  {
   "cell_type": "markdown",
   "id": "5865eb1b-d64b-454a-b33d-21b3155c554b",
   "metadata": {},
   "source": [
    "1 2 3 4 5   \n",
    "10 9 8 7 6   \n",
    "11 12 13 14 15   \n",
    "20 19 18 17 16   \n",
    "21 22 23 24 25   "
   ]
  },
  {
   "cell_type": "code",
   "execution_count": null,
   "id": "17d34715-c28e-4f23-86f9-2300e15e7190",
   "metadata": {},
   "outputs": [],
   "source": []
  },
  {
   "cell_type": "code",
   "execution_count": null,
   "id": "ef9bab8d-3cd2-4335-b103-5319653df0a7",
   "metadata": {},
   "outputs": [],
   "source": []
  },
  {
   "cell_type": "markdown",
   "id": "12f4084f-21c4-4b21-acbd-7959727e0116",
   "metadata": {},
   "source": [
    "### (문제 9) 다음과 같은 패턴으로 숫자를 출력하는 프로그램을 작성하세요 (n = 5 예시)."
   ]
  },
  {
   "cell_type": "markdown",
   "id": "2bf48615-c6df-4235-9771-cc17355f701c",
   "metadata": {},
   "source": [
    "1 10 11 20 21   \n",
    "2 9 12 19 22   \n",
    "3 8 13 18 23   \n",
    "4 7 14 17 24   \n",
    "5 6 15 16 25"
   ]
  },
  {
   "cell_type": "code",
   "execution_count": null,
   "id": "db6a78da-a7a5-4be8-acf0-733b070f097d",
   "metadata": {},
   "outputs": [],
   "source": []
  },
  {
   "cell_type": "code",
   "execution_count": null,
   "id": "350f6911-e4f7-4f4e-b863-7f0af22fa74e",
   "metadata": {},
   "outputs": [],
   "source": []
  },
  {
   "cell_type": "code",
   "execution_count": null,
   "id": "3d319d7b-fca5-4348-930a-46f695e9ed28",
   "metadata": {},
   "outputs": [],
   "source": []
  }
 ],
 "metadata": {
  "kernelspec": {
   "display_name": "Python 3 (ipykernel)",
   "language": "python",
   "name": "python3"
  },
  "language_info": {
   "codemirror_mode": {
    "name": "ipython",
    "version": 3
   },
   "file_extension": ".py",
   "mimetype": "text/x-python",
   "name": "python",
   "nbconvert_exporter": "python",
   "pygments_lexer": "ipython3",
   "version": "3.11.5"
  }
 },
 "nbformat": 4,
 "nbformat_minor": 5
}
